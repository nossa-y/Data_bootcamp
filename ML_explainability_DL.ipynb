{
 "cells": [
  {
   "cell_type": "markdown",
   "metadata": {},
   "source": [
    "# <font color=#023F7C> **Machine Learning, Explainability and Deep Learning** </font>\n",
    "\n",
    "<font color=#023F7C>**Hi! PARIS DataBootcamp 2023 🚀**</font> <br>\n",
    "\n",
    "\n",
    "<img src = https://www.hi-paris.fr/wp-content/uploads/2020/09/logo-hi-paris-retina.png width = \"300\" height = \"200\" >\n",
    "\n"
   ]
  },
  {
   "cell_type": "markdown",
   "metadata": {},
   "source": [
    "**Before you start to working on this notebook ⚠️**: <br>\n",
    "Please download/copy this notebook from `hfactory_magic_folders\\course` and drop it into your own directory `my_work` on HFactory. <br>\n",
    "If you don't, you won't be able to save the modifications you've made on this notebook."
   ]
  },
  {
   "cell_type": "markdown",
   "metadata": {},
   "source": [
    "**How to work with this notebook ? 📝** <br>\n",
    "Here are some guidelines on how you should work on this notebook during the week. <br>\n",
    "*You don't need to finish the whole notebook before sending it to us on Friday*\n",
    "- Wednesday: Work on section 1. and 2. (Import dataset and Machine Learning)\n",
    "- Thursday: Finish section 2., work on section 3. and 4. (ML, Explainability, Deep Learning)\n",
    "- Friday morning: Finish the notebook as best you can for the final deliverable at 12:00pm \n",
    "\n"
   ]
  },
  {
   "cell_type": "markdown",
   "metadata": {},
   "source": [
    "**Bootcamp deliverables** 💯: <br>\n",
    "Send us the completed notebook before 12:00pm (midi) on Friday at `data-event@hi-paris.fr`<br>\n",
    "*Don't forget to also send us the powerpoint deliverable on Friday*\n",
    "- Send a single notebook per group. \n",
    "- Add the names of the members of your group in your email submission \n"
   ]
  },
  {
   "cell_type": "markdown",
   "metadata": {},
   "source": [
    "**Need help ? 🙏** <br>\n",
    "You can find code examples in this morning's <b>Machine Learning</b> and <b>Optimisation and model evaluation</b> theortical courses. <br>\n",
    "If you are really struggling with this section, you can also visit the `Data_Science_crash_course.ipynb` notebook in the Pre-bootcamp folder on HFactory."
   ]
  },
  {
   "cell_type": "markdown",
   "metadata": {},
   "source": [
    "## **1. Import libraries and clean dataset**\n",
    "\n",
    "**Let's start by importing the libraries we used in two previous notebooks.**\n",
    " "
   ]
  },
  {
   "cell_type": "code",
   "execution_count": 31,
   "metadata": {
    "id": "ZyhKqCkh5D8S",
    "tags": []
   },
   "outputs": [],
   "source": [
    "import pandas as pd\n",
    "#import time\n",
    "import numpy as np\n",
    "pd.set_option('display.max_columns', None) #Show all columns\n",
    "\n",
    "import plotly.express as px\n",
    "import matplotlib.pyplot as plt\n",
    "import seaborn as sns"
   ]
  },
  {
   "cell_type": "markdown",
   "metadata": {},
   "source": [
    "**Now, let's import `scikit-learn` functions for classification models, data preprocessing and performance metrics.** <br>\n",
    "*You don't have to use these specific models to train your data. You can try other scikit-learn models.* <br>\n",
    "*Part of a data scientist's job is to try out and discover new ones.*"
   ]
  },
  {
   "cell_type": "code",
   "execution_count": 223,
   "metadata": {
    "id": "ZS8yjKdl5dGt",
    "tags": []
   },
   "outputs": [],
   "source": [
    "# Classification models\n",
    "from sklearn.linear_model import LogisticRegression,LinearRegression\n",
    "from sklearn.ensemble import AdaBoostClassifier, RandomForestClassifier\n",
    "from sklearn.gaussian_process import GaussianProcessClassifier\n",
    "from sklearn.gaussian_process.kernels import RBF\n",
    "from sklearn.inspection import DecisionBoundaryDisplay\n",
    "from sklearn.naive_bayes import GaussianNB\n",
    "from sklearn.neighbors import KNeighborsClassifier\n",
    "from sklearn.svm import SVC\n",
    "from sklearn.tree import DecisionTreeClassifier\n",
    "from sklearn.discriminant_analysis import QuadraticDiscriminantAnalysis\n",
    "from sklearn.ensemble import ExtraTreesClassifier\n",
    "\n",
    "# Multiclass classification \n",
    "from sklearn.multiclass import OneVsRestClassifier, OneVsOneClassifier\n",
    "\n",
    "# Preprocessing tools\n",
    "from sklearn.preprocessing import OneHotEncoder, LabelEncoder,StandardScaler\n",
    "from sklearn.preprocessing import label_binarize\n",
    "from sklearn.model_selection import train_test_split\n",
    "\n",
    "# Performance metrics\n",
    "from sklearn.metrics import confusion_matrix, roc_curve, roc_auc_score\n",
    "from sklearn.metrics import precision_recall_curve, classification_report, explained_variance_score\n",
    "from sklearn.metrics import make_scorer, mean_absolute_error, mean_absolute_percentage_error\n",
    "\n",
    "# Improve your model\n",
    "from sklearn.model_selection import cross_val_score, GridSearchCV, RandomizedSearchCV"
   ]
  },
  {
   "cell_type": "markdown",
   "metadata": {},
   "source": [
    "**Finally, import the `dataset_train_clean.csv` dataset you cleaned/worked on in `Data_Clean.ipynb` and `Dataviz.ipynb`** <br>\n",
    "*Make sure you name the loaded dataframe `dataset` in the notebook !*\n"
   ]
  },
  {
   "cell_type": "code",
   "execution_count": 33,
   "metadata": {
    "tags": []
   },
   "outputs": [],
   "source": [
    "#dataset = pd.read_csv(\"dataset_train_clean.csv\")"
   ]
  },
  {
   "cell_type": "markdown",
   "metadata": {},
   "source": [
    "If you weren't able to save/create `dataset_train_clean.csv` then run the following code. <br>\n",
    "Running the following cell will load the original/uncleaned dataframe then do minimal cleaning on it.\n",
    "\n",
    "*Note: If you want to use your own clean dataset then don't run/execute the following cell (you can comment it with `#`)*\n",
    "\n"
   ]
  },
  {
   "cell_type": "code",
   "execution_count": 184,
   "metadata": {
    "tags": []
   },
   "outputs": [],
   "source": [
    "path=r'~/hfactory_magic_folders/course/Dataset/dataset_train.csv'\n",
    "#path=r\"dataset_train.csv\"\n",
    "\n",
    "# Import the csv file\n",
    "dataset = pd.read_csv(path,encoding='latin-1',sep=';')\n",
    "\n",
    "# Clean the dataframe \n",
    "to_drop=['Unnamed: 0','Customer Email','Customer Fname','Customer Lname','Customer Password','Customer Street','Order Zipcode','Product Description', \"Sales per customer\",\"Product Card Id\"]\n",
    "dataset=dataset.drop(to_drop,axis=1)\n",
    "dataset=dataset.dropna().reset_index(drop=True)"
   ]
  },
  {
   "cell_type": "markdown",
   "metadata": {},
   "source": [
    "**You can drop more columns at this step if you don't think they will be useful in the Machine Learning model.**"
   ]
  },
  {
   "cell_type": "code",
   "execution_count": 185,
   "metadata": {},
   "outputs": [],
   "source": [
    "dataset.drop(columns=[\"Product Status\"], inplace=True)"
   ]
  },
  {
   "cell_type": "markdown",
   "metadata": {},
   "source": [
    "# **2. Machine Learning**\n",
    "\n",
    "**You can chose either `Late_delivery_risk` or `Delivery_status` as the variable to predict.**\n",
    "- Predict `Late_delivery_risk` to try binary classification (Beginner level)\n",
    "- Predict `Delivery_Status` to try multi-class classification (Intermediate/Advanced level)\n"
   ]
  },
  {
   "cell_type": "markdown",
   "metadata": {},
   "source": [
    "\n",
    "**Important information ⚠️**: <br>\n",
    "If you pick `Late_delivery_risk` then `Delivery_status` should be deleted from the dataset (and vice-versa). <br>\n",
    "If you need help doing this, the next cell will do it for you.\n",
    "- Keep `binary_classification=True` if you pick binary classification.\n",
    "- Change it to `binary_classification=False` if you pick multi-class classification"
   ]
  },
  {
   "cell_type": "code",
   "execution_count": 186,
   "metadata": {
    "tags": []
   },
   "outputs": [],
   "source": [
    "# Choose your figther\n",
    "binary_classification=False\n",
    "\n",
    "if binary_classification is True:\n",
    "    dataset=dataset.drop(columns=['Delivery Status'])\n",
    "    name_label=['Late_delivery_risk']\n",
    "else:\n",
    "    dataset=dataset.drop(columns=['Late_delivery_risk'])\n",
    "    name_label=['Delivery Status_Advance shipping', 'Delivery Status_Late delivery','Delivery Status_Shipping canceled', 'Delivery Status_Shipping on time']"
   ]
  },
  {
   "cell_type": "markdown",
   "metadata": {},
   "source": [
    "### **2.1 Data Preprocessing**\n"
   ]
  },
  {
   "cell_type": "markdown",
   "metadata": {},
   "source": [
    "**Question 1:** <br>**Transform the categorical variables (with less than 15 unique values) into numerical variables with OneHotEncoding (OHE).** <br>\n",
    "*Make sure you don't include `Late_delivery_risk` with the variables to transform with OneHotencoding (if you are going to do binary classification)* <br>\n",
    "*You can go this [page](https://scikit-learn.org/stable/modules/generated/sklearn.preprocessing.OneHotEncoder.html) for more info on how to use scikit-learn's `OneHotEncoder` function.*\n",
    "\n",
    "\n",
    "\n",
    "\n",
    "You can run the next cell if you are struggling to select the correct variables to Onehotencode.\n",
    "\n"
   ]
  },
  {
   "cell_type": "code",
   "execution_count": 187,
   "metadata": {
    "colab": {
     "base_uri": "https://localhost:8080/"
    },
    "id": "0lEUko-z6u4i",
    "outputId": "fac7e6e0-f37e-46da-e1a3-3d8d177df6bc",
    "tags": []
   },
   "outputs": [],
   "source": [
    "## Run this following code if you need help selecting variables to onehotencode\n",
    "\n",
    "df_continuous=dataset.select_dtypes(include=[\"float64\"])\n",
    "df_categorical=dataset.select_dtypes(include=[\"object\",\"int64\"])\n",
    "nb_unique_value_max=15\n",
    "\n",
    "# List of columns to transform with OneHotEncoding\n",
    "to_OHE=[key for key in df_categorical.keys() if len(df_categorical[key].drop_duplicates())<nb_unique_value_max] \n",
    "\n",
    "# Remove Late_delivery_risk or Delivery Status from list of columns to transform with OHE\n",
    "if \"Late_delivery_risk\" in to_OHE:\n",
    "    to_OHE.remove(\"Late_delivery_risk\")\n",
    "    \n",
    "if \"Delivery Status\" in to_OHE:\n",
    "    to_OHE.remove(\"Delivery Status\")"
   ]
  },
  {
   "cell_type": "code",
   "execution_count": 188,
   "metadata": {
    "tags": []
   },
   "outputs": [
    {
     "data": {
      "text/plain": [
       "array([[0., 1., 0., ..., 0., 0., 1.],\n",
       "       [0., 0., 0., ..., 0., 0., 1.],\n",
       "       [1., 0., 0., ..., 0., 0., 1.],\n",
       "       ...,\n",
       "       [0., 0., 0., ..., 0., 0., 1.],\n",
       "       [0., 0., 0., ..., 0., 0., 1.],\n",
       "       [0., 0., 0., ..., 0., 0., 1.]])"
      ]
     },
     "execution_count": 188,
     "metadata": {},
     "output_type": "execute_result"
    }
   ],
   "source": [
    "# Apply OneHotEncoder to the variables\n",
    "enc_ohe = OneHotEncoder(sparse_output=False)\n",
    "ohe_transform = enc_ohe.fit_transform(dataset[to_OHE])\n",
    "ohe_transform"
   ]
  },
  {
   "cell_type": "markdown",
   "metadata": {},
   "source": [
    "**Concatenate the OneHotencoded variables/dataframe with the original dataframe using `pd.concat([...],axis=1)`.<br>**\n",
    "*Make sure to drop the columns you transformed with OneHotEncoding in the concatenated dataframe*"
   ]
  },
  {
   "cell_type": "code",
   "execution_count": 189,
   "metadata": {
    "tags": []
   },
   "outputs": [
    {
     "data": {
      "text/html": [
       "<div>\n",
       "<style scoped>\n",
       "    .dataframe tbody tr th:only-of-type {\n",
       "        vertical-align: middle;\n",
       "    }\n",
       "\n",
       "    .dataframe tbody tr th {\n",
       "        vertical-align: top;\n",
       "    }\n",
       "\n",
       "    .dataframe thead th {\n",
       "        text-align: right;\n",
       "    }\n",
       "</style>\n",
       "<table border=\"1\" class=\"dataframe\">\n",
       "  <thead>\n",
       "    <tr style=\"text-align: right;\">\n",
       "      <th></th>\n",
       "      <th>Type_CASH</th>\n",
       "      <th>Type_DEBIT</th>\n",
       "      <th>Type_PAYMENT</th>\n",
       "      <th>Type_TRANSFER</th>\n",
       "      <th>Customer Country_EE. UU.</th>\n",
       "      <th>Customer Country_Puerto Rico</th>\n",
       "      <th>Customer Segment_Consumer</th>\n",
       "      <th>Customer Segment_Corporate</th>\n",
       "      <th>Customer Segment_Home Office</th>\n",
       "      <th>Department Id_2</th>\n",
       "      <th>Department Id_3</th>\n",
       "      <th>Department Id_4</th>\n",
       "      <th>Department Id_5</th>\n",
       "      <th>Department Id_6</th>\n",
       "      <th>Department Id_7</th>\n",
       "      <th>Department Id_8</th>\n",
       "      <th>Department Id_9</th>\n",
       "      <th>Department Id_10</th>\n",
       "      <th>Department Id_11</th>\n",
       "      <th>Department Id_12</th>\n",
       "      <th>Department Name_Apparel</th>\n",
       "      <th>Department Name_Book Shop</th>\n",
       "      <th>Department Name_Discs Shop</th>\n",
       "      <th>Department Name_Fan Shop</th>\n",
       "      <th>Department Name_Fitness</th>\n",
       "      <th>Department Name_Footwear</th>\n",
       "      <th>Department Name_Golf</th>\n",
       "      <th>Department Name_Health and Beauty</th>\n",
       "      <th>Department Name_Outdoors</th>\n",
       "      <th>Department Name_Pet Shop</th>\n",
       "      <th>Department Name_Technology</th>\n",
       "      <th>Market_Africa</th>\n",
       "      <th>Market_Europe</th>\n",
       "      <th>Market_LATAM</th>\n",
       "      <th>Market_Pacific Asia</th>\n",
       "      <th>Market_USCA</th>\n",
       "      <th>Order Item Quantity_1</th>\n",
       "      <th>Order Item Quantity_2</th>\n",
       "      <th>Order Item Quantity_3</th>\n",
       "      <th>Order Item Quantity_4</th>\n",
       "      <th>Order Item Quantity_5</th>\n",
       "      <th>Order Status_CANCELED</th>\n",
       "      <th>Order Status_CLOSED</th>\n",
       "      <th>Order Status_COMPLETE</th>\n",
       "      <th>Order Status_ON_HOLD</th>\n",
       "      <th>Order Status_PAYMENT_REVIEW</th>\n",
       "      <th>Order Status_PENDING</th>\n",
       "      <th>Order Status_PENDING_PAYMENT</th>\n",
       "      <th>Order Status_PROCESSING</th>\n",
       "      <th>Order Status_SUSPECTED_FRAUD</th>\n",
       "      <th>Shipping Mode_First Class</th>\n",
       "      <th>Shipping Mode_Same Day</th>\n",
       "      <th>Shipping Mode_Second Class</th>\n",
       "      <th>Shipping Mode_Standard Class</th>\n",
       "    </tr>\n",
       "  </thead>\n",
       "  <tbody>\n",
       "    <tr>\n",
       "      <th>0</th>\n",
       "      <td>0.0</td>\n",
       "      <td>1.0</td>\n",
       "      <td>0.0</td>\n",
       "      <td>0.0</td>\n",
       "      <td>0.0</td>\n",
       "      <td>1.0</td>\n",
       "      <td>1.0</td>\n",
       "      <td>0.0</td>\n",
       "      <td>0.0</td>\n",
       "      <td>1.0</td>\n",
       "      <td>0.0</td>\n",
       "      <td>0.0</td>\n",
       "      <td>0.0</td>\n",
       "      <td>0.0</td>\n",
       "      <td>0.0</td>\n",
       "      <td>0.0</td>\n",
       "      <td>0.0</td>\n",
       "      <td>0.0</td>\n",
       "      <td>0.0</td>\n",
       "      <td>0.0</td>\n",
       "      <td>0.0</td>\n",
       "      <td>0.0</td>\n",
       "      <td>0.0</td>\n",
       "      <td>0.0</td>\n",
       "      <td>1.0</td>\n",
       "      <td>0.0</td>\n",
       "      <td>0.0</td>\n",
       "      <td>0.0</td>\n",
       "      <td>0.0</td>\n",
       "      <td>0.0</td>\n",
       "      <td>0.0</td>\n",
       "      <td>0.0</td>\n",
       "      <td>0.0</td>\n",
       "      <td>0.0</td>\n",
       "      <td>1.0</td>\n",
       "      <td>0.0</td>\n",
       "      <td>1.0</td>\n",
       "      <td>0.0</td>\n",
       "      <td>0.0</td>\n",
       "      <td>0.0</td>\n",
       "      <td>0.0</td>\n",
       "      <td>0.0</td>\n",
       "      <td>0.0</td>\n",
       "      <td>1.0</td>\n",
       "      <td>0.0</td>\n",
       "      <td>0.0</td>\n",
       "      <td>0.0</td>\n",
       "      <td>0.0</td>\n",
       "      <td>0.0</td>\n",
       "      <td>0.0</td>\n",
       "      <td>0.0</td>\n",
       "      <td>0.0</td>\n",
       "      <td>0.0</td>\n",
       "      <td>1.0</td>\n",
       "    </tr>\n",
       "    <tr>\n",
       "      <th>1</th>\n",
       "      <td>0.0</td>\n",
       "      <td>0.0</td>\n",
       "      <td>0.0</td>\n",
       "      <td>1.0</td>\n",
       "      <td>0.0</td>\n",
       "      <td>1.0</td>\n",
       "      <td>1.0</td>\n",
       "      <td>0.0</td>\n",
       "      <td>0.0</td>\n",
       "      <td>1.0</td>\n",
       "      <td>0.0</td>\n",
       "      <td>0.0</td>\n",
       "      <td>0.0</td>\n",
       "      <td>0.0</td>\n",
       "      <td>0.0</td>\n",
       "      <td>0.0</td>\n",
       "      <td>0.0</td>\n",
       "      <td>0.0</td>\n",
       "      <td>0.0</td>\n",
       "      <td>0.0</td>\n",
       "      <td>0.0</td>\n",
       "      <td>0.0</td>\n",
       "      <td>0.0</td>\n",
       "      <td>0.0</td>\n",
       "      <td>1.0</td>\n",
       "      <td>0.0</td>\n",
       "      <td>0.0</td>\n",
       "      <td>0.0</td>\n",
       "      <td>0.0</td>\n",
       "      <td>0.0</td>\n",
       "      <td>0.0</td>\n",
       "      <td>0.0</td>\n",
       "      <td>0.0</td>\n",
       "      <td>0.0</td>\n",
       "      <td>1.0</td>\n",
       "      <td>0.0</td>\n",
       "      <td>1.0</td>\n",
       "      <td>0.0</td>\n",
       "      <td>0.0</td>\n",
       "      <td>0.0</td>\n",
       "      <td>0.0</td>\n",
       "      <td>0.0</td>\n",
       "      <td>0.0</td>\n",
       "      <td>0.0</td>\n",
       "      <td>0.0</td>\n",
       "      <td>0.0</td>\n",
       "      <td>1.0</td>\n",
       "      <td>0.0</td>\n",
       "      <td>0.0</td>\n",
       "      <td>0.0</td>\n",
       "      <td>0.0</td>\n",
       "      <td>0.0</td>\n",
       "      <td>0.0</td>\n",
       "      <td>1.0</td>\n",
       "    </tr>\n",
       "    <tr>\n",
       "      <th>2</th>\n",
       "      <td>1.0</td>\n",
       "      <td>0.0</td>\n",
       "      <td>0.0</td>\n",
       "      <td>0.0</td>\n",
       "      <td>1.0</td>\n",
       "      <td>0.0</td>\n",
       "      <td>1.0</td>\n",
       "      <td>0.0</td>\n",
       "      <td>0.0</td>\n",
       "      <td>1.0</td>\n",
       "      <td>0.0</td>\n",
       "      <td>0.0</td>\n",
       "      <td>0.0</td>\n",
       "      <td>0.0</td>\n",
       "      <td>0.0</td>\n",
       "      <td>0.0</td>\n",
       "      <td>0.0</td>\n",
       "      <td>0.0</td>\n",
       "      <td>0.0</td>\n",
       "      <td>0.0</td>\n",
       "      <td>0.0</td>\n",
       "      <td>0.0</td>\n",
       "      <td>0.0</td>\n",
       "      <td>0.0</td>\n",
       "      <td>1.0</td>\n",
       "      <td>0.0</td>\n",
       "      <td>0.0</td>\n",
       "      <td>0.0</td>\n",
       "      <td>0.0</td>\n",
       "      <td>0.0</td>\n",
       "      <td>0.0</td>\n",
       "      <td>0.0</td>\n",
       "      <td>0.0</td>\n",
       "      <td>0.0</td>\n",
       "      <td>1.0</td>\n",
       "      <td>0.0</td>\n",
       "      <td>1.0</td>\n",
       "      <td>0.0</td>\n",
       "      <td>0.0</td>\n",
       "      <td>0.0</td>\n",
       "      <td>0.0</td>\n",
       "      <td>0.0</td>\n",
       "      <td>1.0</td>\n",
       "      <td>0.0</td>\n",
       "      <td>0.0</td>\n",
       "      <td>0.0</td>\n",
       "      <td>0.0</td>\n",
       "      <td>0.0</td>\n",
       "      <td>0.0</td>\n",
       "      <td>0.0</td>\n",
       "      <td>0.0</td>\n",
       "      <td>0.0</td>\n",
       "      <td>0.0</td>\n",
       "      <td>1.0</td>\n",
       "    </tr>\n",
       "    <tr>\n",
       "      <th>3</th>\n",
       "      <td>0.0</td>\n",
       "      <td>1.0</td>\n",
       "      <td>0.0</td>\n",
       "      <td>0.0</td>\n",
       "      <td>1.0</td>\n",
       "      <td>0.0</td>\n",
       "      <td>0.0</td>\n",
       "      <td>0.0</td>\n",
       "      <td>1.0</td>\n",
       "      <td>1.0</td>\n",
       "      <td>0.0</td>\n",
       "      <td>0.0</td>\n",
       "      <td>0.0</td>\n",
       "      <td>0.0</td>\n",
       "      <td>0.0</td>\n",
       "      <td>0.0</td>\n",
       "      <td>0.0</td>\n",
       "      <td>0.0</td>\n",
       "      <td>0.0</td>\n",
       "      <td>0.0</td>\n",
       "      <td>0.0</td>\n",
       "      <td>0.0</td>\n",
       "      <td>0.0</td>\n",
       "      <td>0.0</td>\n",
       "      <td>1.0</td>\n",
       "      <td>0.0</td>\n",
       "      <td>0.0</td>\n",
       "      <td>0.0</td>\n",
       "      <td>0.0</td>\n",
       "      <td>0.0</td>\n",
       "      <td>0.0</td>\n",
       "      <td>0.0</td>\n",
       "      <td>0.0</td>\n",
       "      <td>0.0</td>\n",
       "      <td>1.0</td>\n",
       "      <td>0.0</td>\n",
       "      <td>1.0</td>\n",
       "      <td>0.0</td>\n",
       "      <td>0.0</td>\n",
       "      <td>0.0</td>\n",
       "      <td>0.0</td>\n",
       "      <td>0.0</td>\n",
       "      <td>0.0</td>\n",
       "      <td>1.0</td>\n",
       "      <td>0.0</td>\n",
       "      <td>0.0</td>\n",
       "      <td>0.0</td>\n",
       "      <td>0.0</td>\n",
       "      <td>0.0</td>\n",
       "      <td>0.0</td>\n",
       "      <td>0.0</td>\n",
       "      <td>0.0</td>\n",
       "      <td>0.0</td>\n",
       "      <td>1.0</td>\n",
       "    </tr>\n",
       "    <tr>\n",
       "      <th>4</th>\n",
       "      <td>0.0</td>\n",
       "      <td>0.0</td>\n",
       "      <td>1.0</td>\n",
       "      <td>0.0</td>\n",
       "      <td>0.0</td>\n",
       "      <td>1.0</td>\n",
       "      <td>0.0</td>\n",
       "      <td>1.0</td>\n",
       "      <td>0.0</td>\n",
       "      <td>1.0</td>\n",
       "      <td>0.0</td>\n",
       "      <td>0.0</td>\n",
       "      <td>0.0</td>\n",
       "      <td>0.0</td>\n",
       "      <td>0.0</td>\n",
       "      <td>0.0</td>\n",
       "      <td>0.0</td>\n",
       "      <td>0.0</td>\n",
       "      <td>0.0</td>\n",
       "      <td>0.0</td>\n",
       "      <td>0.0</td>\n",
       "      <td>0.0</td>\n",
       "      <td>0.0</td>\n",
       "      <td>0.0</td>\n",
       "      <td>1.0</td>\n",
       "      <td>0.0</td>\n",
       "      <td>0.0</td>\n",
       "      <td>0.0</td>\n",
       "      <td>0.0</td>\n",
       "      <td>0.0</td>\n",
       "      <td>0.0</td>\n",
       "      <td>0.0</td>\n",
       "      <td>0.0</td>\n",
       "      <td>0.0</td>\n",
       "      <td>1.0</td>\n",
       "      <td>0.0</td>\n",
       "      <td>1.0</td>\n",
       "      <td>0.0</td>\n",
       "      <td>0.0</td>\n",
       "      <td>0.0</td>\n",
       "      <td>0.0</td>\n",
       "      <td>0.0</td>\n",
       "      <td>0.0</td>\n",
       "      <td>0.0</td>\n",
       "      <td>0.0</td>\n",
       "      <td>0.0</td>\n",
       "      <td>0.0</td>\n",
       "      <td>1.0</td>\n",
       "      <td>0.0</td>\n",
       "      <td>0.0</td>\n",
       "      <td>0.0</td>\n",
       "      <td>0.0</td>\n",
       "      <td>0.0</td>\n",
       "      <td>1.0</td>\n",
       "    </tr>\n",
       "  </tbody>\n",
       "</table>\n",
       "</div>"
      ],
      "text/plain": [
       "   Type_CASH  Type_DEBIT  Type_PAYMENT  Type_TRANSFER  \\\n",
       "0        0.0         1.0           0.0            0.0   \n",
       "1        0.0         0.0           0.0            1.0   \n",
       "2        1.0         0.0           0.0            0.0   \n",
       "3        0.0         1.0           0.0            0.0   \n",
       "4        0.0         0.0           1.0            0.0   \n",
       "\n",
       "   Customer Country_EE. UU.  Customer Country_Puerto Rico  \\\n",
       "0                       0.0                           1.0   \n",
       "1                       0.0                           1.0   \n",
       "2                       1.0                           0.0   \n",
       "3                       1.0                           0.0   \n",
       "4                       0.0                           1.0   \n",
       "\n",
       "   Customer Segment_Consumer  Customer Segment_Corporate  \\\n",
       "0                        1.0                         0.0   \n",
       "1                        1.0                         0.0   \n",
       "2                        1.0                         0.0   \n",
       "3                        0.0                         0.0   \n",
       "4                        0.0                         1.0   \n",
       "\n",
       "   Customer Segment_Home Office  Department Id_2  Department Id_3  \\\n",
       "0                           0.0              1.0              0.0   \n",
       "1                           0.0              1.0              0.0   \n",
       "2                           0.0              1.0              0.0   \n",
       "3                           1.0              1.0              0.0   \n",
       "4                           0.0              1.0              0.0   \n",
       "\n",
       "   Department Id_4  Department Id_5  Department Id_6  Department Id_7  \\\n",
       "0              0.0              0.0              0.0              0.0   \n",
       "1              0.0              0.0              0.0              0.0   \n",
       "2              0.0              0.0              0.0              0.0   \n",
       "3              0.0              0.0              0.0              0.0   \n",
       "4              0.0              0.0              0.0              0.0   \n",
       "\n",
       "   Department Id_8  Department Id_9  Department Id_10  Department Id_11  \\\n",
       "0              0.0              0.0               0.0               0.0   \n",
       "1              0.0              0.0               0.0               0.0   \n",
       "2              0.0              0.0               0.0               0.0   \n",
       "3              0.0              0.0               0.0               0.0   \n",
       "4              0.0              0.0               0.0               0.0   \n",
       "\n",
       "   Department Id_12  Department Name_Apparel  Department Name_Book Shop  \\\n",
       "0               0.0                      0.0                        0.0   \n",
       "1               0.0                      0.0                        0.0   \n",
       "2               0.0                      0.0                        0.0   \n",
       "3               0.0                      0.0                        0.0   \n",
       "4               0.0                      0.0                        0.0   \n",
       "\n",
       "   Department Name_Discs Shop  Department Name_Fan Shop  \\\n",
       "0                         0.0                       0.0   \n",
       "1                         0.0                       0.0   \n",
       "2                         0.0                       0.0   \n",
       "3                         0.0                       0.0   \n",
       "4                         0.0                       0.0   \n",
       "\n",
       "   Department Name_Fitness  Department Name_Footwear  Department Name_Golf  \\\n",
       "0                      1.0                       0.0                   0.0   \n",
       "1                      1.0                       0.0                   0.0   \n",
       "2                      1.0                       0.0                   0.0   \n",
       "3                      1.0                       0.0                   0.0   \n",
       "4                      1.0                       0.0                   0.0   \n",
       "\n",
       "   Department Name_Health and Beauty   Department Name_Outdoors  \\\n",
       "0                                 0.0                       0.0   \n",
       "1                                 0.0                       0.0   \n",
       "2                                 0.0                       0.0   \n",
       "3                                 0.0                       0.0   \n",
       "4                                 0.0                       0.0   \n",
       "\n",
       "   Department Name_Pet Shop  Department Name_Technology  Market_Africa  \\\n",
       "0                       0.0                         0.0            0.0   \n",
       "1                       0.0                         0.0            0.0   \n",
       "2                       0.0                         0.0            0.0   \n",
       "3                       0.0                         0.0            0.0   \n",
       "4                       0.0                         0.0            0.0   \n",
       "\n",
       "   Market_Europe  Market_LATAM  Market_Pacific Asia  Market_USCA  \\\n",
       "0            0.0           0.0                  1.0          0.0   \n",
       "1            0.0           0.0                  1.0          0.0   \n",
       "2            0.0           0.0                  1.0          0.0   \n",
       "3            0.0           0.0                  1.0          0.0   \n",
       "4            0.0           0.0                  1.0          0.0   \n",
       "\n",
       "   Order Item Quantity_1  Order Item Quantity_2  Order Item Quantity_3  \\\n",
       "0                    1.0                    0.0                    0.0   \n",
       "1                    1.0                    0.0                    0.0   \n",
       "2                    1.0                    0.0                    0.0   \n",
       "3                    1.0                    0.0                    0.0   \n",
       "4                    1.0                    0.0                    0.0   \n",
       "\n",
       "   Order Item Quantity_4  Order Item Quantity_5  Order Status_CANCELED  \\\n",
       "0                    0.0                    0.0                    0.0   \n",
       "1                    0.0                    0.0                    0.0   \n",
       "2                    0.0                    0.0                    0.0   \n",
       "3                    0.0                    0.0                    0.0   \n",
       "4                    0.0                    0.0                    0.0   \n",
       "\n",
       "   Order Status_CLOSED  Order Status_COMPLETE  Order Status_ON_HOLD  \\\n",
       "0                  0.0                    1.0                   0.0   \n",
       "1                  0.0                    0.0                   0.0   \n",
       "2                  1.0                    0.0                   0.0   \n",
       "3                  0.0                    1.0                   0.0   \n",
       "4                  0.0                    0.0                   0.0   \n",
       "\n",
       "   Order Status_PAYMENT_REVIEW  Order Status_PENDING  \\\n",
       "0                          0.0                   0.0   \n",
       "1                          0.0                   1.0   \n",
       "2                          0.0                   0.0   \n",
       "3                          0.0                   0.0   \n",
       "4                          0.0                   0.0   \n",
       "\n",
       "   Order Status_PENDING_PAYMENT  Order Status_PROCESSING  \\\n",
       "0                           0.0                      0.0   \n",
       "1                           0.0                      0.0   \n",
       "2                           0.0                      0.0   \n",
       "3                           0.0                      0.0   \n",
       "4                           1.0                      0.0   \n",
       "\n",
       "   Order Status_SUSPECTED_FRAUD  Shipping Mode_First Class  \\\n",
       "0                           0.0                        0.0   \n",
       "1                           0.0                        0.0   \n",
       "2                           0.0                        0.0   \n",
       "3                           0.0                        0.0   \n",
       "4                           0.0                        0.0   \n",
       "\n",
       "   Shipping Mode_Same Day  Shipping Mode_Second Class  \\\n",
       "0                     0.0                         0.0   \n",
       "1                     0.0                         0.0   \n",
       "2                     0.0                         0.0   \n",
       "3                     0.0                         0.0   \n",
       "4                     0.0                         0.0   \n",
       "\n",
       "   Shipping Mode_Standard Class  \n",
       "0                           1.0  \n",
       "1                           1.0  \n",
       "2                           1.0  \n",
       "3                           1.0  \n",
       "4                           1.0  "
      ]
     },
     "execution_count": 189,
     "metadata": {},
     "output_type": "execute_result"
    }
   ],
   "source": [
    "# Create a dataframe with the OneHotEncoder variables \n",
    "df_ohe_transform = pd.DataFrame(ohe_transform, columns=enc_ohe.get_feature_names_out())\n",
    "df_ohe_transform.head()"
   ]
  },
  {
   "cell_type": "code",
   "execution_count": 190,
   "metadata": {
    "tags": []
   },
   "outputs": [
    {
     "data": {
      "text/html": [
       "<div>\n",
       "<style scoped>\n",
       "    .dataframe tbody tr th:only-of-type {\n",
       "        vertical-align: middle;\n",
       "    }\n",
       "\n",
       "    .dataframe tbody tr th {\n",
       "        vertical-align: top;\n",
       "    }\n",
       "\n",
       "    .dataframe thead th {\n",
       "        text-align: right;\n",
       "    }\n",
       "</style>\n",
       "<table border=\"1\" class=\"dataframe\">\n",
       "  <thead>\n",
       "    <tr style=\"text-align: right;\">\n",
       "      <th></th>\n",
       "      <th>Benefit per order</th>\n",
       "      <th>Delivery Status</th>\n",
       "      <th>Category Id</th>\n",
       "      <th>Category Name</th>\n",
       "      <th>Customer City</th>\n",
       "      <th>Customer Id</th>\n",
       "      <th>Customer State</th>\n",
       "      <th>Customer Zipcode</th>\n",
       "      <th>Latitude</th>\n",
       "      <th>Longitude</th>\n",
       "      <th>Order City</th>\n",
       "      <th>Order Country</th>\n",
       "      <th>Order Customer Id</th>\n",
       "      <th>order date (DateOrders)</th>\n",
       "      <th>Order Id</th>\n",
       "      <th>Order Item Cardprod Id</th>\n",
       "      <th>Order Item Discount</th>\n",
       "      <th>Order Item Discount Rate</th>\n",
       "      <th>Order Item Id</th>\n",
       "      <th>Order Item Product Price</th>\n",
       "      <th>Order Item Profit Ratio</th>\n",
       "      <th>Sales</th>\n",
       "      <th>Order Item Total</th>\n",
       "      <th>Order Profit Per Order</th>\n",
       "      <th>Order Region</th>\n",
       "      <th>Order State</th>\n",
       "      <th>Product Category Id</th>\n",
       "      <th>Product Image</th>\n",
       "      <th>Product Name</th>\n",
       "      <th>Product Price</th>\n",
       "      <th>shipping date (DateOrders)</th>\n",
       "      <th>Type_CASH</th>\n",
       "      <th>Type_DEBIT</th>\n",
       "      <th>Type_PAYMENT</th>\n",
       "      <th>Type_TRANSFER</th>\n",
       "      <th>Customer Country_EE. UU.</th>\n",
       "      <th>Customer Country_Puerto Rico</th>\n",
       "      <th>Customer Segment_Consumer</th>\n",
       "      <th>Customer Segment_Corporate</th>\n",
       "      <th>Customer Segment_Home Office</th>\n",
       "      <th>Department Id_2</th>\n",
       "      <th>Department Id_3</th>\n",
       "      <th>Department Id_4</th>\n",
       "      <th>Department Id_5</th>\n",
       "      <th>Department Id_6</th>\n",
       "      <th>Department Id_7</th>\n",
       "      <th>Department Id_8</th>\n",
       "      <th>Department Id_9</th>\n",
       "      <th>Department Id_10</th>\n",
       "      <th>Department Id_11</th>\n",
       "      <th>Department Id_12</th>\n",
       "      <th>Department Name_Apparel</th>\n",
       "      <th>Department Name_Book Shop</th>\n",
       "      <th>Department Name_Discs Shop</th>\n",
       "      <th>Department Name_Fan Shop</th>\n",
       "      <th>Department Name_Fitness</th>\n",
       "      <th>Department Name_Footwear</th>\n",
       "      <th>Department Name_Golf</th>\n",
       "      <th>Department Name_Health and Beauty</th>\n",
       "      <th>Department Name_Outdoors</th>\n",
       "      <th>Department Name_Pet Shop</th>\n",
       "      <th>Department Name_Technology</th>\n",
       "      <th>Market_Africa</th>\n",
       "      <th>Market_Europe</th>\n",
       "      <th>Market_LATAM</th>\n",
       "      <th>Market_Pacific Asia</th>\n",
       "      <th>Market_USCA</th>\n",
       "      <th>Order Item Quantity_1</th>\n",
       "      <th>Order Item Quantity_2</th>\n",
       "      <th>Order Item Quantity_3</th>\n",
       "      <th>Order Item Quantity_4</th>\n",
       "      <th>Order Item Quantity_5</th>\n",
       "      <th>Order Status_CANCELED</th>\n",
       "      <th>Order Status_CLOSED</th>\n",
       "      <th>Order Status_COMPLETE</th>\n",
       "      <th>Order Status_ON_HOLD</th>\n",
       "      <th>Order Status_PAYMENT_REVIEW</th>\n",
       "      <th>Order Status_PENDING</th>\n",
       "      <th>Order Status_PENDING_PAYMENT</th>\n",
       "      <th>Order Status_PROCESSING</th>\n",
       "      <th>Order Status_SUSPECTED_FRAUD</th>\n",
       "      <th>Shipping Mode_First Class</th>\n",
       "      <th>Shipping Mode_Same Day</th>\n",
       "      <th>Shipping Mode_Second Class</th>\n",
       "      <th>Shipping Mode_Standard Class</th>\n",
       "    </tr>\n",
       "  </thead>\n",
       "  <tbody>\n",
       "    <tr>\n",
       "      <th>0</th>\n",
       "      <td>91.250000</td>\n",
       "      <td>Advance shipping</td>\n",
       "      <td>73</td>\n",
       "      <td>Sporting Goods</td>\n",
       "      <td>Caguas</td>\n",
       "      <td>20755</td>\n",
       "      <td>PR</td>\n",
       "      <td>725.0</td>\n",
       "      <td>18.251453</td>\n",
       "      <td>-66.037056</td>\n",
       "      <td>Bekasi</td>\n",
       "      <td>Indonesia</td>\n",
       "      <td>20755</td>\n",
       "      <td>1/31/2018 22:56</td>\n",
       "      <td>77202</td>\n",
       "      <td>1360</td>\n",
       "      <td>13.110000</td>\n",
       "      <td>0.04</td>\n",
       "      <td>180517</td>\n",
       "      <td>327.75</td>\n",
       "      <td>0.29</td>\n",
       "      <td>327.75</td>\n",
       "      <td>314.640015</td>\n",
       "      <td>91.250000</td>\n",
       "      <td>Southeast Asia</td>\n",
       "      <td>Java Occidental</td>\n",
       "      <td>73</td>\n",
       "      <td>http://images.acmesports.sports/Smart+watch</td>\n",
       "      <td>Smart watch</td>\n",
       "      <td>327.75</td>\n",
       "      <td>2/3/2018 22:56</td>\n",
       "      <td>0.0</td>\n",
       "      <td>1.0</td>\n",
       "      <td>0.0</td>\n",
       "      <td>0.0</td>\n",
       "      <td>0.0</td>\n",
       "      <td>1.0</td>\n",
       "      <td>1.0</td>\n",
       "      <td>0.0</td>\n",
       "      <td>0.0</td>\n",
       "      <td>1.0</td>\n",
       "      <td>0.0</td>\n",
       "      <td>0.0</td>\n",
       "      <td>0.0</td>\n",
       "      <td>0.0</td>\n",
       "      <td>0.0</td>\n",
       "      <td>0.0</td>\n",
       "      <td>0.0</td>\n",
       "      <td>0.0</td>\n",
       "      <td>0.0</td>\n",
       "      <td>0.0</td>\n",
       "      <td>0.0</td>\n",
       "      <td>0.0</td>\n",
       "      <td>0.0</td>\n",
       "      <td>0.0</td>\n",
       "      <td>1.0</td>\n",
       "      <td>0.0</td>\n",
       "      <td>0.0</td>\n",
       "      <td>0.0</td>\n",
       "      <td>0.0</td>\n",
       "      <td>0.0</td>\n",
       "      <td>0.0</td>\n",
       "      <td>0.0</td>\n",
       "      <td>0.0</td>\n",
       "      <td>0.0</td>\n",
       "      <td>1.0</td>\n",
       "      <td>0.0</td>\n",
       "      <td>1.0</td>\n",
       "      <td>0.0</td>\n",
       "      <td>0.0</td>\n",
       "      <td>0.0</td>\n",
       "      <td>0.0</td>\n",
       "      <td>0.0</td>\n",
       "      <td>0.0</td>\n",
       "      <td>1.0</td>\n",
       "      <td>0.0</td>\n",
       "      <td>0.0</td>\n",
       "      <td>0.0</td>\n",
       "      <td>0.0</td>\n",
       "      <td>0.0</td>\n",
       "      <td>0.0</td>\n",
       "      <td>0.0</td>\n",
       "      <td>0.0</td>\n",
       "      <td>0.0</td>\n",
       "      <td>1.0</td>\n",
       "    </tr>\n",
       "    <tr>\n",
       "      <th>1</th>\n",
       "      <td>-249.089996</td>\n",
       "      <td>Late delivery</td>\n",
       "      <td>73</td>\n",
       "      <td>Sporting Goods</td>\n",
       "      <td>Caguas</td>\n",
       "      <td>19492</td>\n",
       "      <td>PR</td>\n",
       "      <td>725.0</td>\n",
       "      <td>18.279451</td>\n",
       "      <td>-66.037064</td>\n",
       "      <td>Bikaner</td>\n",
       "      <td>India</td>\n",
       "      <td>19492</td>\n",
       "      <td>1/13/2018 12:27</td>\n",
       "      <td>75939</td>\n",
       "      <td>1360</td>\n",
       "      <td>16.389999</td>\n",
       "      <td>0.05</td>\n",
       "      <td>179254</td>\n",
       "      <td>327.75</td>\n",
       "      <td>-0.80</td>\n",
       "      <td>327.75</td>\n",
       "      <td>311.359985</td>\n",
       "      <td>-249.089996</td>\n",
       "      <td>South Asia</td>\n",
       "      <td>Rajastán</td>\n",
       "      <td>73</td>\n",
       "      <td>http://images.acmesports.sports/Smart+watch</td>\n",
       "      <td>Smart watch</td>\n",
       "      <td>327.75</td>\n",
       "      <td>1/18/2018 12:27</td>\n",
       "      <td>0.0</td>\n",
       "      <td>0.0</td>\n",
       "      <td>0.0</td>\n",
       "      <td>1.0</td>\n",
       "      <td>0.0</td>\n",
       "      <td>1.0</td>\n",
       "      <td>1.0</td>\n",
       "      <td>0.0</td>\n",
       "      <td>0.0</td>\n",
       "      <td>1.0</td>\n",
       "      <td>0.0</td>\n",
       "      <td>0.0</td>\n",
       "      <td>0.0</td>\n",
       "      <td>0.0</td>\n",
       "      <td>0.0</td>\n",
       "      <td>0.0</td>\n",
       "      <td>0.0</td>\n",
       "      <td>0.0</td>\n",
       "      <td>0.0</td>\n",
       "      <td>0.0</td>\n",
       "      <td>0.0</td>\n",
       "      <td>0.0</td>\n",
       "      <td>0.0</td>\n",
       "      <td>0.0</td>\n",
       "      <td>1.0</td>\n",
       "      <td>0.0</td>\n",
       "      <td>0.0</td>\n",
       "      <td>0.0</td>\n",
       "      <td>0.0</td>\n",
       "      <td>0.0</td>\n",
       "      <td>0.0</td>\n",
       "      <td>0.0</td>\n",
       "      <td>0.0</td>\n",
       "      <td>0.0</td>\n",
       "      <td>1.0</td>\n",
       "      <td>0.0</td>\n",
       "      <td>1.0</td>\n",
       "      <td>0.0</td>\n",
       "      <td>0.0</td>\n",
       "      <td>0.0</td>\n",
       "      <td>0.0</td>\n",
       "      <td>0.0</td>\n",
       "      <td>0.0</td>\n",
       "      <td>0.0</td>\n",
       "      <td>0.0</td>\n",
       "      <td>0.0</td>\n",
       "      <td>1.0</td>\n",
       "      <td>0.0</td>\n",
       "      <td>0.0</td>\n",
       "      <td>0.0</td>\n",
       "      <td>0.0</td>\n",
       "      <td>0.0</td>\n",
       "      <td>0.0</td>\n",
       "      <td>1.0</td>\n",
       "    </tr>\n",
       "    <tr>\n",
       "      <th>2</th>\n",
       "      <td>-247.779999</td>\n",
       "      <td>Shipping on time</td>\n",
       "      <td>73</td>\n",
       "      <td>Sporting Goods</td>\n",
       "      <td>San Jose</td>\n",
       "      <td>19491</td>\n",
       "      <td>CA</td>\n",
       "      <td>95125.0</td>\n",
       "      <td>37.292233</td>\n",
       "      <td>-121.881279</td>\n",
       "      <td>Bikaner</td>\n",
       "      <td>India</td>\n",
       "      <td>19491</td>\n",
       "      <td>1/13/2018 12:06</td>\n",
       "      <td>75938</td>\n",
       "      <td>1360</td>\n",
       "      <td>18.030001</td>\n",
       "      <td>0.06</td>\n",
       "      <td>179253</td>\n",
       "      <td>327.75</td>\n",
       "      <td>-0.80</td>\n",
       "      <td>327.75</td>\n",
       "      <td>309.720001</td>\n",
       "      <td>-247.779999</td>\n",
       "      <td>South Asia</td>\n",
       "      <td>Rajastán</td>\n",
       "      <td>73</td>\n",
       "      <td>http://images.acmesports.sports/Smart+watch</td>\n",
       "      <td>Smart watch</td>\n",
       "      <td>327.75</td>\n",
       "      <td>1/17/2018 12:06</td>\n",
       "      <td>1.0</td>\n",
       "      <td>0.0</td>\n",
       "      <td>0.0</td>\n",
       "      <td>0.0</td>\n",
       "      <td>1.0</td>\n",
       "      <td>0.0</td>\n",
       "      <td>1.0</td>\n",
       "      <td>0.0</td>\n",
       "      <td>0.0</td>\n",
       "      <td>1.0</td>\n",
       "      <td>0.0</td>\n",
       "      <td>0.0</td>\n",
       "      <td>0.0</td>\n",
       "      <td>0.0</td>\n",
       "      <td>0.0</td>\n",
       "      <td>0.0</td>\n",
       "      <td>0.0</td>\n",
       "      <td>0.0</td>\n",
       "      <td>0.0</td>\n",
       "      <td>0.0</td>\n",
       "      <td>0.0</td>\n",
       "      <td>0.0</td>\n",
       "      <td>0.0</td>\n",
       "      <td>0.0</td>\n",
       "      <td>1.0</td>\n",
       "      <td>0.0</td>\n",
       "      <td>0.0</td>\n",
       "      <td>0.0</td>\n",
       "      <td>0.0</td>\n",
       "      <td>0.0</td>\n",
       "      <td>0.0</td>\n",
       "      <td>0.0</td>\n",
       "      <td>0.0</td>\n",
       "      <td>0.0</td>\n",
       "      <td>1.0</td>\n",
       "      <td>0.0</td>\n",
       "      <td>1.0</td>\n",
       "      <td>0.0</td>\n",
       "      <td>0.0</td>\n",
       "      <td>0.0</td>\n",
       "      <td>0.0</td>\n",
       "      <td>0.0</td>\n",
       "      <td>1.0</td>\n",
       "      <td>0.0</td>\n",
       "      <td>0.0</td>\n",
       "      <td>0.0</td>\n",
       "      <td>0.0</td>\n",
       "      <td>0.0</td>\n",
       "      <td>0.0</td>\n",
       "      <td>0.0</td>\n",
       "      <td>0.0</td>\n",
       "      <td>0.0</td>\n",
       "      <td>0.0</td>\n",
       "      <td>1.0</td>\n",
       "    </tr>\n",
       "    <tr>\n",
       "      <th>3</th>\n",
       "      <td>22.860001</td>\n",
       "      <td>Advance shipping</td>\n",
       "      <td>73</td>\n",
       "      <td>Sporting Goods</td>\n",
       "      <td>Los Angeles</td>\n",
       "      <td>19490</td>\n",
       "      <td>CA</td>\n",
       "      <td>90027.0</td>\n",
       "      <td>34.125946</td>\n",
       "      <td>-118.291016</td>\n",
       "      <td>Townsville</td>\n",
       "      <td>Australia</td>\n",
       "      <td>19490</td>\n",
       "      <td>1/13/2018 11:45</td>\n",
       "      <td>75937</td>\n",
       "      <td>1360</td>\n",
       "      <td>22.940001</td>\n",
       "      <td>0.07</td>\n",
       "      <td>179252</td>\n",
       "      <td>327.75</td>\n",
       "      <td>0.08</td>\n",
       "      <td>327.75</td>\n",
       "      <td>304.809998</td>\n",
       "      <td>22.860001</td>\n",
       "      <td>Oceania</td>\n",
       "      <td>Queensland</td>\n",
       "      <td>73</td>\n",
       "      <td>http://images.acmesports.sports/Smart+watch</td>\n",
       "      <td>Smart watch</td>\n",
       "      <td>327.75</td>\n",
       "      <td>1/16/2018 11:45</td>\n",
       "      <td>0.0</td>\n",
       "      <td>1.0</td>\n",
       "      <td>0.0</td>\n",
       "      <td>0.0</td>\n",
       "      <td>1.0</td>\n",
       "      <td>0.0</td>\n",
       "      <td>0.0</td>\n",
       "      <td>0.0</td>\n",
       "      <td>1.0</td>\n",
       "      <td>1.0</td>\n",
       "      <td>0.0</td>\n",
       "      <td>0.0</td>\n",
       "      <td>0.0</td>\n",
       "      <td>0.0</td>\n",
       "      <td>0.0</td>\n",
       "      <td>0.0</td>\n",
       "      <td>0.0</td>\n",
       "      <td>0.0</td>\n",
       "      <td>0.0</td>\n",
       "      <td>0.0</td>\n",
       "      <td>0.0</td>\n",
       "      <td>0.0</td>\n",
       "      <td>0.0</td>\n",
       "      <td>0.0</td>\n",
       "      <td>1.0</td>\n",
       "      <td>0.0</td>\n",
       "      <td>0.0</td>\n",
       "      <td>0.0</td>\n",
       "      <td>0.0</td>\n",
       "      <td>0.0</td>\n",
       "      <td>0.0</td>\n",
       "      <td>0.0</td>\n",
       "      <td>0.0</td>\n",
       "      <td>0.0</td>\n",
       "      <td>1.0</td>\n",
       "      <td>0.0</td>\n",
       "      <td>1.0</td>\n",
       "      <td>0.0</td>\n",
       "      <td>0.0</td>\n",
       "      <td>0.0</td>\n",
       "      <td>0.0</td>\n",
       "      <td>0.0</td>\n",
       "      <td>0.0</td>\n",
       "      <td>1.0</td>\n",
       "      <td>0.0</td>\n",
       "      <td>0.0</td>\n",
       "      <td>0.0</td>\n",
       "      <td>0.0</td>\n",
       "      <td>0.0</td>\n",
       "      <td>0.0</td>\n",
       "      <td>0.0</td>\n",
       "      <td>0.0</td>\n",
       "      <td>0.0</td>\n",
       "      <td>1.0</td>\n",
       "    </tr>\n",
       "    <tr>\n",
       "      <th>4</th>\n",
       "      <td>134.210007</td>\n",
       "      <td>Advance shipping</td>\n",
       "      <td>73</td>\n",
       "      <td>Sporting Goods</td>\n",
       "      <td>Caguas</td>\n",
       "      <td>19489</td>\n",
       "      <td>PR</td>\n",
       "      <td>725.0</td>\n",
       "      <td>18.253769</td>\n",
       "      <td>-66.037048</td>\n",
       "      <td>Townsville</td>\n",
       "      <td>Australia</td>\n",
       "      <td>19489</td>\n",
       "      <td>1/13/2018 11:24</td>\n",
       "      <td>75936</td>\n",
       "      <td>1360</td>\n",
       "      <td>29.500000</td>\n",
       "      <td>0.09</td>\n",
       "      <td>179251</td>\n",
       "      <td>327.75</td>\n",
       "      <td>0.45</td>\n",
       "      <td>327.75</td>\n",
       "      <td>298.250000</td>\n",
       "      <td>134.210007</td>\n",
       "      <td>Oceania</td>\n",
       "      <td>Queensland</td>\n",
       "      <td>73</td>\n",
       "      <td>http://images.acmesports.sports/Smart+watch</td>\n",
       "      <td>Smart watch</td>\n",
       "      <td>327.75</td>\n",
       "      <td>1/15/2018 11:24</td>\n",
       "      <td>0.0</td>\n",
       "      <td>0.0</td>\n",
       "      <td>1.0</td>\n",
       "      <td>0.0</td>\n",
       "      <td>0.0</td>\n",
       "      <td>1.0</td>\n",
       "      <td>0.0</td>\n",
       "      <td>1.0</td>\n",
       "      <td>0.0</td>\n",
       "      <td>1.0</td>\n",
       "      <td>0.0</td>\n",
       "      <td>0.0</td>\n",
       "      <td>0.0</td>\n",
       "      <td>0.0</td>\n",
       "      <td>0.0</td>\n",
       "      <td>0.0</td>\n",
       "      <td>0.0</td>\n",
       "      <td>0.0</td>\n",
       "      <td>0.0</td>\n",
       "      <td>0.0</td>\n",
       "      <td>0.0</td>\n",
       "      <td>0.0</td>\n",
       "      <td>0.0</td>\n",
       "      <td>0.0</td>\n",
       "      <td>1.0</td>\n",
       "      <td>0.0</td>\n",
       "      <td>0.0</td>\n",
       "      <td>0.0</td>\n",
       "      <td>0.0</td>\n",
       "      <td>0.0</td>\n",
       "      <td>0.0</td>\n",
       "      <td>0.0</td>\n",
       "      <td>0.0</td>\n",
       "      <td>0.0</td>\n",
       "      <td>1.0</td>\n",
       "      <td>0.0</td>\n",
       "      <td>1.0</td>\n",
       "      <td>0.0</td>\n",
       "      <td>0.0</td>\n",
       "      <td>0.0</td>\n",
       "      <td>0.0</td>\n",
       "      <td>0.0</td>\n",
       "      <td>0.0</td>\n",
       "      <td>0.0</td>\n",
       "      <td>0.0</td>\n",
       "      <td>0.0</td>\n",
       "      <td>0.0</td>\n",
       "      <td>1.0</td>\n",
       "      <td>0.0</td>\n",
       "      <td>0.0</td>\n",
       "      <td>0.0</td>\n",
       "      <td>0.0</td>\n",
       "      <td>0.0</td>\n",
       "      <td>1.0</td>\n",
       "    </tr>\n",
       "  </tbody>\n",
       "</table>\n",
       "</div>"
      ],
      "text/plain": [
       "   Benefit per order   Delivery Status  Category Id   Category Name  \\\n",
       "0          91.250000  Advance shipping           73  Sporting Goods   \n",
       "1        -249.089996     Late delivery           73  Sporting Goods   \n",
       "2        -247.779999  Shipping on time           73  Sporting Goods   \n",
       "3          22.860001  Advance shipping           73  Sporting Goods   \n",
       "4         134.210007  Advance shipping           73  Sporting Goods   \n",
       "\n",
       "  Customer City  Customer Id Customer State  Customer Zipcode   Latitude  \\\n",
       "0        Caguas        20755             PR             725.0  18.251453   \n",
       "1        Caguas        19492             PR             725.0  18.279451   \n",
       "2      San Jose        19491             CA           95125.0  37.292233   \n",
       "3   Los Angeles        19490             CA           90027.0  34.125946   \n",
       "4        Caguas        19489             PR             725.0  18.253769   \n",
       "\n",
       "    Longitude  Order City Order Country  Order Customer Id  \\\n",
       "0  -66.037056      Bekasi     Indonesia              20755   \n",
       "1  -66.037064     Bikaner         India              19492   \n",
       "2 -121.881279     Bikaner         India              19491   \n",
       "3 -118.291016  Townsville     Australia              19490   \n",
       "4  -66.037048  Townsville     Australia              19489   \n",
       "\n",
       "  order date (DateOrders)  Order Id  Order Item Cardprod Id  \\\n",
       "0         1/31/2018 22:56     77202                    1360   \n",
       "1         1/13/2018 12:27     75939                    1360   \n",
       "2         1/13/2018 12:06     75938                    1360   \n",
       "3         1/13/2018 11:45     75937                    1360   \n",
       "4         1/13/2018 11:24     75936                    1360   \n",
       "\n",
       "   Order Item Discount  Order Item Discount Rate  Order Item Id  \\\n",
       "0            13.110000                      0.04         180517   \n",
       "1            16.389999                      0.05         179254   \n",
       "2            18.030001                      0.06         179253   \n",
       "3            22.940001                      0.07         179252   \n",
       "4            29.500000                      0.09         179251   \n",
       "\n",
       "   Order Item Product Price  Order Item Profit Ratio   Sales  \\\n",
       "0                    327.75                     0.29  327.75   \n",
       "1                    327.75                    -0.80  327.75   \n",
       "2                    327.75                    -0.80  327.75   \n",
       "3                    327.75                     0.08  327.75   \n",
       "4                    327.75                     0.45  327.75   \n",
       "\n",
       "   Order Item Total  Order Profit Per Order    Order Region      Order State  \\\n",
       "0        314.640015               91.250000  Southeast Asia  Java Occidental   \n",
       "1        311.359985             -249.089996      South Asia         Rajastán   \n",
       "2        309.720001             -247.779999      South Asia         Rajastán   \n",
       "3        304.809998               22.860001         Oceania       Queensland   \n",
       "4        298.250000              134.210007         Oceania       Queensland   \n",
       "\n",
       "   Product Category Id                                 Product Image  \\\n",
       "0                   73  http://images.acmesports.sports/Smart+watch    \n",
       "1                   73  http://images.acmesports.sports/Smart+watch    \n",
       "2                   73  http://images.acmesports.sports/Smart+watch    \n",
       "3                   73  http://images.acmesports.sports/Smart+watch    \n",
       "4                   73  http://images.acmesports.sports/Smart+watch    \n",
       "\n",
       "   Product Name  Product Price shipping date (DateOrders)  Type_CASH  \\\n",
       "0  Smart watch          327.75             2/3/2018 22:56        0.0   \n",
       "1  Smart watch          327.75            1/18/2018 12:27        0.0   \n",
       "2  Smart watch          327.75            1/17/2018 12:06        1.0   \n",
       "3  Smart watch          327.75            1/16/2018 11:45        0.0   \n",
       "4  Smart watch          327.75            1/15/2018 11:24        0.0   \n",
       "\n",
       "   Type_DEBIT  Type_PAYMENT  Type_TRANSFER  Customer Country_EE. UU.  \\\n",
       "0         1.0           0.0            0.0                       0.0   \n",
       "1         0.0           0.0            1.0                       0.0   \n",
       "2         0.0           0.0            0.0                       1.0   \n",
       "3         1.0           0.0            0.0                       1.0   \n",
       "4         0.0           1.0            0.0                       0.0   \n",
       "\n",
       "   Customer Country_Puerto Rico  Customer Segment_Consumer  \\\n",
       "0                           1.0                        1.0   \n",
       "1                           1.0                        1.0   \n",
       "2                           0.0                        1.0   \n",
       "3                           0.0                        0.0   \n",
       "4                           1.0                        0.0   \n",
       "\n",
       "   Customer Segment_Corporate  Customer Segment_Home Office  Department Id_2  \\\n",
       "0                         0.0                           0.0              1.0   \n",
       "1                         0.0                           0.0              1.0   \n",
       "2                         0.0                           0.0              1.0   \n",
       "3                         0.0                           1.0              1.0   \n",
       "4                         1.0                           0.0              1.0   \n",
       "\n",
       "   Department Id_3  Department Id_4  Department Id_5  Department Id_6  \\\n",
       "0              0.0              0.0              0.0              0.0   \n",
       "1              0.0              0.0              0.0              0.0   \n",
       "2              0.0              0.0              0.0              0.0   \n",
       "3              0.0              0.0              0.0              0.0   \n",
       "4              0.0              0.0              0.0              0.0   \n",
       "\n",
       "   Department Id_7  Department Id_8  Department Id_9  Department Id_10  \\\n",
       "0              0.0              0.0              0.0               0.0   \n",
       "1              0.0              0.0              0.0               0.0   \n",
       "2              0.0              0.0              0.0               0.0   \n",
       "3              0.0              0.0              0.0               0.0   \n",
       "4              0.0              0.0              0.0               0.0   \n",
       "\n",
       "   Department Id_11  Department Id_12  Department Name_Apparel  \\\n",
       "0               0.0               0.0                      0.0   \n",
       "1               0.0               0.0                      0.0   \n",
       "2               0.0               0.0                      0.0   \n",
       "3               0.0               0.0                      0.0   \n",
       "4               0.0               0.0                      0.0   \n",
       "\n",
       "   Department Name_Book Shop  Department Name_Discs Shop  \\\n",
       "0                        0.0                         0.0   \n",
       "1                        0.0                         0.0   \n",
       "2                        0.0                         0.0   \n",
       "3                        0.0                         0.0   \n",
       "4                        0.0                         0.0   \n",
       "\n",
       "   Department Name_Fan Shop  Department Name_Fitness  \\\n",
       "0                       0.0                      1.0   \n",
       "1                       0.0                      1.0   \n",
       "2                       0.0                      1.0   \n",
       "3                       0.0                      1.0   \n",
       "4                       0.0                      1.0   \n",
       "\n",
       "   Department Name_Footwear  Department Name_Golf  \\\n",
       "0                       0.0                   0.0   \n",
       "1                       0.0                   0.0   \n",
       "2                       0.0                   0.0   \n",
       "3                       0.0                   0.0   \n",
       "4                       0.0                   0.0   \n",
       "\n",
       "   Department Name_Health and Beauty   Department Name_Outdoors  \\\n",
       "0                                 0.0                       0.0   \n",
       "1                                 0.0                       0.0   \n",
       "2                                 0.0                       0.0   \n",
       "3                                 0.0                       0.0   \n",
       "4                                 0.0                       0.0   \n",
       "\n",
       "   Department Name_Pet Shop  Department Name_Technology  Market_Africa  \\\n",
       "0                       0.0                         0.0            0.0   \n",
       "1                       0.0                         0.0            0.0   \n",
       "2                       0.0                         0.0            0.0   \n",
       "3                       0.0                         0.0            0.0   \n",
       "4                       0.0                         0.0            0.0   \n",
       "\n",
       "   Market_Europe  Market_LATAM  Market_Pacific Asia  Market_USCA  \\\n",
       "0            0.0           0.0                  1.0          0.0   \n",
       "1            0.0           0.0                  1.0          0.0   \n",
       "2            0.0           0.0                  1.0          0.0   \n",
       "3            0.0           0.0                  1.0          0.0   \n",
       "4            0.0           0.0                  1.0          0.0   \n",
       "\n",
       "   Order Item Quantity_1  Order Item Quantity_2  Order Item Quantity_3  \\\n",
       "0                    1.0                    0.0                    0.0   \n",
       "1                    1.0                    0.0                    0.0   \n",
       "2                    1.0                    0.0                    0.0   \n",
       "3                    1.0                    0.0                    0.0   \n",
       "4                    1.0                    0.0                    0.0   \n",
       "\n",
       "   Order Item Quantity_4  Order Item Quantity_5  Order Status_CANCELED  \\\n",
       "0                    0.0                    0.0                    0.0   \n",
       "1                    0.0                    0.0                    0.0   \n",
       "2                    0.0                    0.0                    0.0   \n",
       "3                    0.0                    0.0                    0.0   \n",
       "4                    0.0                    0.0                    0.0   \n",
       "\n",
       "   Order Status_CLOSED  Order Status_COMPLETE  Order Status_ON_HOLD  \\\n",
       "0                  0.0                    1.0                   0.0   \n",
       "1                  0.0                    0.0                   0.0   \n",
       "2                  1.0                    0.0                   0.0   \n",
       "3                  0.0                    1.0                   0.0   \n",
       "4                  0.0                    0.0                   0.0   \n",
       "\n",
       "   Order Status_PAYMENT_REVIEW  Order Status_PENDING  \\\n",
       "0                          0.0                   0.0   \n",
       "1                          0.0                   1.0   \n",
       "2                          0.0                   0.0   \n",
       "3                          0.0                   0.0   \n",
       "4                          0.0                   0.0   \n",
       "\n",
       "   Order Status_PENDING_PAYMENT  Order Status_PROCESSING  \\\n",
       "0                           0.0                      0.0   \n",
       "1                           0.0                      0.0   \n",
       "2                           0.0                      0.0   \n",
       "3                           0.0                      0.0   \n",
       "4                           1.0                      0.0   \n",
       "\n",
       "   Order Status_SUSPECTED_FRAUD  Shipping Mode_First Class  \\\n",
       "0                           0.0                        0.0   \n",
       "1                           0.0                        0.0   \n",
       "2                           0.0                        0.0   \n",
       "3                           0.0                        0.0   \n",
       "4                           0.0                        0.0   \n",
       "\n",
       "   Shipping Mode_Same Day  Shipping Mode_Second Class  \\\n",
       "0                     0.0                         0.0   \n",
       "1                     0.0                         0.0   \n",
       "2                     0.0                         0.0   \n",
       "3                     0.0                         0.0   \n",
       "4                     0.0                         0.0   \n",
       "\n",
       "   Shipping Mode_Standard Class  \n",
       "0                           1.0  \n",
       "1                           1.0  \n",
       "2                           1.0  \n",
       "3                           1.0  \n",
       "4                           1.0  "
      ]
     },
     "execution_count": 190,
     "metadata": {},
     "output_type": "execute_result"
    }
   ],
   "source": [
    "# Drop the old versions of the OneHotEncoded variables from the dataframe\n",
    "dataset = dataset.drop(columns=to_OHE)\n",
    "\n",
    "# Concatenate the original dataframe with the transformed/onehotencoded variables \n",
    "dataset = pd.concat([dataset,df_ohe_transform],axis=1)\n",
    "dataset.head()"
   ]
  },
  {
   "cell_type": "markdown",
   "metadata": {},
   "source": [
    "**Question 2:** <br>\n",
    "**Transform the remaining categorical variables (those with more than 15 unique values) using `LabelEncoder`**. <br>\n",
    "If you need help selecting categorical variables with more than 15 unique values, run the following cell\n",
    "\n"
   ]
  },
  {
   "cell_type": "code",
   "execution_count": 191,
   "metadata": {
    "tags": []
   },
   "outputs": [],
   "source": [
    "# Create a list with the columns to transform with LabelEncoder\n",
    "to_label_encoder=[key for key in df_categorical.keys() if key not in to_OHE]"
   ]
  },
  {
   "cell_type": "markdown",
   "metadata": {},
   "source": [
    "*Note: The `LabelEncoder` function can only transform 1 column at a time, where as `OneHotEncoder` can directly transform multiple columns.* <br>"
   ]
  },
  {
   "cell_type": "code",
   "execution_count": 192,
   "metadata": {
    "tags": []
   },
   "outputs": [],
   "source": [
    "# Apply LabelEncoder to the variables\n",
    "enc_label = LabelEncoder()\n",
    "\n",
    "for column in to_label_encoder:\n",
    "    label_transform = enc_label.fit_transform(dataset[column])\n",
    "    dataset[column] = label_transform"
   ]
  },
  {
   "cell_type": "markdown",
   "metadata": {},
   "source": [
    "**Question 3 (Bonus)**: <br>\n",
    "**Try other data preprocessing methods on the data (StandardScaler, MinMaxScaler...).**<br>\n",
    "*Scale continuous feature variables (with a float type), not categorical*"
   ]
  },
  {
   "cell_type": "code",
   "execution_count": 193,
   "metadata": {},
   "outputs": [
    {
     "data": {
      "text/html": [
       "<div>\n",
       "<style scoped>\n",
       "    .dataframe tbody tr th:only-of-type {\n",
       "        vertical-align: middle;\n",
       "    }\n",
       "\n",
       "    .dataframe tbody tr th {\n",
       "        vertical-align: top;\n",
       "    }\n",
       "\n",
       "    .dataframe thead th {\n",
       "        text-align: right;\n",
       "    }\n",
       "</style>\n",
       "<table border=\"1\" class=\"dataframe\">\n",
       "  <thead>\n",
       "    <tr style=\"text-align: right;\">\n",
       "      <th></th>\n",
       "      <th>Benefit per order</th>\n",
       "      <th>Customer Zipcode</th>\n",
       "      <th>Latitude</th>\n",
       "      <th>Longitude</th>\n",
       "      <th>Order Item Discount</th>\n",
       "      <th>Order Item Discount Rate</th>\n",
       "      <th>Order Item Product Price</th>\n",
       "      <th>Order Item Profit Ratio</th>\n",
       "      <th>Sales</th>\n",
       "      <th>Order Item Total</th>\n",
       "      <th>Order Profit Per Order</th>\n",
       "      <th>Product Price</th>\n",
       "    </tr>\n",
       "  </thead>\n",
       "  <tbody>\n",
       "    <tr>\n",
       "      <th>0</th>\n",
       "      <td>0.702374</td>\n",
       "      <td>-1.025500</td>\n",
       "      <td>-1.307865</td>\n",
       "      <td>0.950217</td>\n",
       "      <td>-0.311288</td>\n",
       "      <td>-0.875865</td>\n",
       "      <td>1.507881</td>\n",
       "      <td>0.362677</td>\n",
       "      <td>1.050624</td>\n",
       "      <td>1.213851</td>\n",
       "      <td>0.702374</td>\n",
       "      <td>1.507881</td>\n",
       "    </tr>\n",
       "    <tr>\n",
       "      <th>1</th>\n",
       "      <td>-2.690977</td>\n",
       "      <td>-1.025500</td>\n",
       "      <td>-1.304941</td>\n",
       "      <td>0.950216</td>\n",
       "      <td>-0.154365</td>\n",
       "      <td>-0.733803</td>\n",
       "      <td>1.507881</td>\n",
       "      <td>-1.976000</td>\n",
       "      <td>1.050624</td>\n",
       "      <td>1.185592</td>\n",
       "      <td>-2.690977</td>\n",
       "      <td>1.507881</td>\n",
       "    </tr>\n",
       "    <tr>\n",
       "      <th>2</th>\n",
       "      <td>-2.677916</td>\n",
       "      <td>1.483942</td>\n",
       "      <td>0.680738</td>\n",
       "      <td>-1.624539</td>\n",
       "      <td>-0.075903</td>\n",
       "      <td>-0.591741</td>\n",
       "      <td>1.507881</td>\n",
       "      <td>-1.976000</td>\n",
       "      <td>1.050624</td>\n",
       "      <td>1.171463</td>\n",
       "      <td>-2.677916</td>\n",
       "      <td>1.507881</td>\n",
       "    </tr>\n",
       "    <tr>\n",
       "      <th>3</th>\n",
       "      <td>0.020493</td>\n",
       "      <td>1.348421</td>\n",
       "      <td>0.350053</td>\n",
       "      <td>-1.459006</td>\n",
       "      <td>0.159003</td>\n",
       "      <td>-0.449679</td>\n",
       "      <td>1.507881</td>\n",
       "      <td>-0.087894</td>\n",
       "      <td>1.050624</td>\n",
       "      <td>1.129162</td>\n",
       "      <td>0.020493</td>\n",
       "      <td>1.507881</td>\n",
       "    </tr>\n",
       "    <tr>\n",
       "      <th>4</th>\n",
       "      <td>1.130706</td>\n",
       "      <td>-1.025500</td>\n",
       "      <td>-1.307623</td>\n",
       "      <td>0.950217</td>\n",
       "      <td>0.472849</td>\n",
       "      <td>-0.165554</td>\n",
       "      <td>1.507881</td>\n",
       "      <td>0.705969</td>\n",
       "      <td>1.050624</td>\n",
       "      <td>1.072646</td>\n",
       "      <td>1.130706</td>\n",
       "      <td>1.507881</td>\n",
       "    </tr>\n",
       "  </tbody>\n",
       "</table>\n",
       "</div>"
      ],
      "text/plain": [
       "   Benefit per order  Customer Zipcode  Latitude  Longitude  \\\n",
       "0           0.702374         -1.025500 -1.307865   0.950217   \n",
       "1          -2.690977         -1.025500 -1.304941   0.950216   \n",
       "2          -2.677916          1.483942  0.680738  -1.624539   \n",
       "3           0.020493          1.348421  0.350053  -1.459006   \n",
       "4           1.130706         -1.025500 -1.307623   0.950217   \n",
       "\n",
       "   Order Item Discount  Order Item Discount Rate  Order Item Product Price  \\\n",
       "0            -0.311288                 -0.875865                  1.507881   \n",
       "1            -0.154365                 -0.733803                  1.507881   \n",
       "2            -0.075903                 -0.591741                  1.507881   \n",
       "3             0.159003                 -0.449679                  1.507881   \n",
       "4             0.472849                 -0.165554                  1.507881   \n",
       "\n",
       "   Order Item Profit Ratio     Sales  Order Item Total  \\\n",
       "0                 0.362677  1.050624          1.213851   \n",
       "1                -1.976000  1.050624          1.185592   \n",
       "2                -1.976000  1.050624          1.171463   \n",
       "3                -0.087894  1.050624          1.129162   \n",
       "4                 0.705969  1.050624          1.072646   \n",
       "\n",
       "   Order Profit Per Order  Product Price  \n",
       "0                0.702374       1.507881  \n",
       "1               -2.690977       1.507881  \n",
       "2               -2.677916       1.507881  \n",
       "3                0.020493       1.507881  \n",
       "4                1.130706       1.507881  "
      ]
     },
     "execution_count": 193,
     "metadata": {},
     "output_type": "execute_result"
    }
   ],
   "source": [
    "scaler = StandardScaler() \n",
    "df_scaler = pd.DataFrame(scaler.fit_transform(df_continuous), columns=df_continuous.columns)\n",
    "df_scaler.head()"
   ]
  },
  {
   "cell_type": "code",
   "execution_count": 194,
   "metadata": {
    "tags": []
   },
   "outputs": [],
   "source": [
    "dataset = pd.concat([dataset.drop(columns=df_continuous.columns),df_scaler],axis=1)"
   ]
  },
  {
   "cell_type": "markdown",
   "metadata": {},
   "source": [
    "**Question 4**: <br>\n",
    "**Create a `y` variable with the target variable in the dataset you've chosen to predict.** <br>"
   ]
  },
  {
   "cell_type": "code",
   "execution_count": 224,
   "metadata": {
    "tags": []
   },
   "outputs": [],
   "source": [
    "y = dataset[\"Delivery Status\"]\n",
    "y = label_binarize(y, classes=[0,1,2,3])"
   ]
  },
  {
   "cell_type": "markdown",
   "metadata": {},
   "source": [
    "**Create a `X` variable with the remaining feature variables of your dataset.** <br>"
   ]
  },
  {
   "cell_type": "code",
   "execution_count": 225,
   "metadata": {
    "tags": []
   },
   "outputs": [],
   "source": [
    "X = dataset.drop(columns=[\"Delivery Status\"])"
   ]
  },
  {
   "cell_type": "markdown",
   "metadata": {
    "id": "XhryaZlk7c7R"
   },
   "source": [
    "\n",
    "**Question 5**: <br>\n",
    "**Split X and y into training and validation/test sets using scikit-learn's `train_test_split()` function. <br>**\n",
    "\n",
    "*Note: Add `stratify=y` to make sure your splits are stratified and `random_state=42`*\n",
    "- *The training set will be used to train/fit our data to the model*\n",
    "- *The test/validation set will be used to quantify the performance of the model on new data*"
   ]
  },
  {
   "cell_type": "code",
   "execution_count": 226,
   "metadata": {
    "id": "Zg8ZDc7E5LD3",
    "tags": []
   },
   "outputs": [],
   "source": [
    "X_train, X_test, y_train, y_test = train_test_split(X, y, test_size=0.33, stratify=y, random_state=42)"
   ]
  },
  {
   "cell_type": "markdown",
   "metadata": {
    "id": "K9P9cvpH73he"
   },
   "source": [
    "### **2.2 Train/fit a Machine Learning model**\n",
    "Now that our dataset is clean and has the right format, we can use it train Machine Learning models with this data.\n",
    "\n",
    "\n",
    "\n"
   ]
  },
  {
   "cell_type": "markdown",
   "metadata": {},
   "source": [
    "**Question 6**: <br>\n",
    "**Train Logistic Regression, DecisionTree and Random forest models using scikit-learn's `.fit()` method. <br>**\n",
    "\n",
    "*Note: Train these models on the training set (`X_train` and `y_train`).* <br>\n",
    "*You can find the scikit-learn pages of these classifier models in the Machine Learning course page on HFactory.*"
   ]
  },
  {
   "cell_type": "code",
   "execution_count": 227,
   "metadata": {
    "colab": {
     "base_uri": "https://localhost:8080/",
     "height": 131
    },
    "id": "v3DAahos6fY7",
    "outputId": "b3f1fcbc-e9bd-44a4-b3a3-23c05ab1485e",
    "tags": []
   },
   "outputs": [
    {
     "data": {
      "text/html": [
       "<style>#sk-container-id-14 {color: black;background-color: white;}#sk-container-id-14 pre{padding: 0;}#sk-container-id-14 div.sk-toggleable {background-color: white;}#sk-container-id-14 label.sk-toggleable__label {cursor: pointer;display: block;width: 100%;margin-bottom: 0;padding: 0.3em;box-sizing: border-box;text-align: center;}#sk-container-id-14 label.sk-toggleable__label-arrow:before {content: \"▸\";float: left;margin-right: 0.25em;color: #696969;}#sk-container-id-14 label.sk-toggleable__label-arrow:hover:before {color: black;}#sk-container-id-14 div.sk-estimator:hover label.sk-toggleable__label-arrow:before {color: black;}#sk-container-id-14 div.sk-toggleable__content {max-height: 0;max-width: 0;overflow: hidden;text-align: left;background-color: #f0f8ff;}#sk-container-id-14 div.sk-toggleable__content pre {margin: 0.2em;color: black;border-radius: 0.25em;background-color: #f0f8ff;}#sk-container-id-14 input.sk-toggleable__control:checked~div.sk-toggleable__content {max-height: 200px;max-width: 100%;overflow: auto;}#sk-container-id-14 input.sk-toggleable__control:checked~label.sk-toggleable__label-arrow:before {content: \"▾\";}#sk-container-id-14 div.sk-estimator input.sk-toggleable__control:checked~label.sk-toggleable__label {background-color: #d4ebff;}#sk-container-id-14 div.sk-label input.sk-toggleable__control:checked~label.sk-toggleable__label {background-color: #d4ebff;}#sk-container-id-14 input.sk-hidden--visually {border: 0;clip: rect(1px 1px 1px 1px);clip: rect(1px, 1px, 1px, 1px);height: 1px;margin: -1px;overflow: hidden;padding: 0;position: absolute;width: 1px;}#sk-container-id-14 div.sk-estimator {font-family: monospace;background-color: #f0f8ff;border: 1px dotted black;border-radius: 0.25em;box-sizing: border-box;margin-bottom: 0.5em;}#sk-container-id-14 div.sk-estimator:hover {background-color: #d4ebff;}#sk-container-id-14 div.sk-parallel-item::after {content: \"\";width: 100%;border-bottom: 1px solid gray;flex-grow: 1;}#sk-container-id-14 div.sk-label:hover label.sk-toggleable__label {background-color: #d4ebff;}#sk-container-id-14 div.sk-serial::before {content: \"\";position: absolute;border-left: 1px solid gray;box-sizing: border-box;top: 0;bottom: 0;left: 50%;z-index: 0;}#sk-container-id-14 div.sk-serial {display: flex;flex-direction: column;align-items: center;background-color: white;padding-right: 0.2em;padding-left: 0.2em;position: relative;}#sk-container-id-14 div.sk-item {position: relative;z-index: 1;}#sk-container-id-14 div.sk-parallel {display: flex;align-items: stretch;justify-content: center;background-color: white;position: relative;}#sk-container-id-14 div.sk-item::before, #sk-container-id-14 div.sk-parallel-item::before {content: \"\";position: absolute;border-left: 1px solid gray;box-sizing: border-box;top: 0;bottom: 0;left: 50%;z-index: -1;}#sk-container-id-14 div.sk-parallel-item {display: flex;flex-direction: column;z-index: 1;position: relative;background-color: white;}#sk-container-id-14 div.sk-parallel-item:first-child::after {align-self: flex-end;width: 50%;}#sk-container-id-14 div.sk-parallel-item:last-child::after {align-self: flex-start;width: 50%;}#sk-container-id-14 div.sk-parallel-item:only-child::after {width: 0;}#sk-container-id-14 div.sk-dashed-wrapped {border: 1px dashed gray;margin: 0 0.4em 0.5em 0.4em;box-sizing: border-box;padding-bottom: 0.4em;background-color: white;}#sk-container-id-14 div.sk-label label {font-family: monospace;font-weight: bold;display: inline-block;line-height: 1.2em;}#sk-container-id-14 div.sk-label-container {text-align: center;}#sk-container-id-14 div.sk-container {/* jupyter's `normalize.less` sets `[hidden] { display: none; }` but bootstrap.min.css set `[hidden] { display: none !important; }` so we also need the `!important` here to be able to override the default hidden behavior on the sphinx rendered scikit-learn.org. See: https://github.com/scikit-learn/scikit-learn/issues/21755 */display: inline-block !important;position: relative;}#sk-container-id-14 div.sk-text-repr-fallback {display: none;}</style><div id=\"sk-container-id-14\" class=\"sk-top-container\"><div class=\"sk-text-repr-fallback\"><pre>OneVsRestClassifier(estimator=DecisionTreeClassifier(max_depth=6))</pre><b>In a Jupyter environment, please rerun this cell to show the HTML representation or trust the notebook. <br />On GitHub, the HTML representation is unable to render, please try loading this page with nbviewer.org.</b></div><div class=\"sk-container\" hidden><div class=\"sk-item sk-dashed-wrapped\"><div class=\"sk-label-container\"><div class=\"sk-label sk-toggleable\"><input class=\"sk-toggleable__control sk-hidden--visually\" id=\"sk-estimator-id-22\" type=\"checkbox\" ><label for=\"sk-estimator-id-22\" class=\"sk-toggleable__label sk-toggleable__label-arrow\">OneVsRestClassifier</label><div class=\"sk-toggleable__content\"><pre>OneVsRestClassifier(estimator=DecisionTreeClassifier(max_depth=6))</pre></div></div></div><div class=\"sk-parallel\"><div class=\"sk-parallel-item\"><div class=\"sk-item\"><div class=\"sk-label-container\"><div class=\"sk-label sk-toggleable\"><input class=\"sk-toggleable__control sk-hidden--visually\" id=\"sk-estimator-id-23\" type=\"checkbox\" ><label for=\"sk-estimator-id-23\" class=\"sk-toggleable__label sk-toggleable__label-arrow\">estimator: DecisionTreeClassifier</label><div class=\"sk-toggleable__content\"><pre>DecisionTreeClassifier(max_depth=6)</pre></div></div></div><div class=\"sk-serial\"><div class=\"sk-item\"><div class=\"sk-estimator sk-toggleable\"><input class=\"sk-toggleable__control sk-hidden--visually\" id=\"sk-estimator-id-24\" type=\"checkbox\" ><label for=\"sk-estimator-id-24\" class=\"sk-toggleable__label sk-toggleable__label-arrow\">DecisionTreeClassifier</label><div class=\"sk-toggleable__content\"><pre>DecisionTreeClassifier(max_depth=6)</pre></div></div></div></div></div></div></div></div></div></div>"
      ],
      "text/plain": [
       "OneVsRestClassifier(estimator=DecisionTreeClassifier(max_depth=6))"
      ]
     },
     "execution_count": 227,
     "metadata": {},
     "output_type": "execute_result"
    }
   ],
   "source": [
    "tree = DecisionTreeClassifier(max_depth=6)\n",
    "ovr_tree = OneVsRestClassifier(tree)\n",
    "ovr_tree.fit(X_train, y_train)"
   ]
  },
  {
   "cell_type": "code",
   "execution_count": 228,
   "metadata": {
    "tags": []
   },
   "outputs": [
    {
     "name": "stderr",
     "output_type": "stream",
     "text": [
      "lbfgs failed to converge (status=1):\n",
      "STOP: TOTAL NO. of ITERATIONS REACHED LIMIT.\n",
      "\n",
      "Increase the number of iterations (max_iter) or scale the data as shown in:\n",
      "    https://scikit-learn.org/stable/modules/preprocessing.html\n",
      "Please also refer to the documentation for alternative solver options:\n",
      "    https://scikit-learn.org/stable/modules/linear_model.html#logistic-regression\n"
     ]
    },
    {
     "data": {
      "text/html": [
       "<style>#sk-container-id-15 {color: black;background-color: white;}#sk-container-id-15 pre{padding: 0;}#sk-container-id-15 div.sk-toggleable {background-color: white;}#sk-container-id-15 label.sk-toggleable__label {cursor: pointer;display: block;width: 100%;margin-bottom: 0;padding: 0.3em;box-sizing: border-box;text-align: center;}#sk-container-id-15 label.sk-toggleable__label-arrow:before {content: \"▸\";float: left;margin-right: 0.25em;color: #696969;}#sk-container-id-15 label.sk-toggleable__label-arrow:hover:before {color: black;}#sk-container-id-15 div.sk-estimator:hover label.sk-toggleable__label-arrow:before {color: black;}#sk-container-id-15 div.sk-toggleable__content {max-height: 0;max-width: 0;overflow: hidden;text-align: left;background-color: #f0f8ff;}#sk-container-id-15 div.sk-toggleable__content pre {margin: 0.2em;color: black;border-radius: 0.25em;background-color: #f0f8ff;}#sk-container-id-15 input.sk-toggleable__control:checked~div.sk-toggleable__content {max-height: 200px;max-width: 100%;overflow: auto;}#sk-container-id-15 input.sk-toggleable__control:checked~label.sk-toggleable__label-arrow:before {content: \"▾\";}#sk-container-id-15 div.sk-estimator input.sk-toggleable__control:checked~label.sk-toggleable__label {background-color: #d4ebff;}#sk-container-id-15 div.sk-label input.sk-toggleable__control:checked~label.sk-toggleable__label {background-color: #d4ebff;}#sk-container-id-15 input.sk-hidden--visually {border: 0;clip: rect(1px 1px 1px 1px);clip: rect(1px, 1px, 1px, 1px);height: 1px;margin: -1px;overflow: hidden;padding: 0;position: absolute;width: 1px;}#sk-container-id-15 div.sk-estimator {font-family: monospace;background-color: #f0f8ff;border: 1px dotted black;border-radius: 0.25em;box-sizing: border-box;margin-bottom: 0.5em;}#sk-container-id-15 div.sk-estimator:hover {background-color: #d4ebff;}#sk-container-id-15 div.sk-parallel-item::after {content: \"\";width: 100%;border-bottom: 1px solid gray;flex-grow: 1;}#sk-container-id-15 div.sk-label:hover label.sk-toggleable__label {background-color: #d4ebff;}#sk-container-id-15 div.sk-serial::before {content: \"\";position: absolute;border-left: 1px solid gray;box-sizing: border-box;top: 0;bottom: 0;left: 50%;z-index: 0;}#sk-container-id-15 div.sk-serial {display: flex;flex-direction: column;align-items: center;background-color: white;padding-right: 0.2em;padding-left: 0.2em;position: relative;}#sk-container-id-15 div.sk-item {position: relative;z-index: 1;}#sk-container-id-15 div.sk-parallel {display: flex;align-items: stretch;justify-content: center;background-color: white;position: relative;}#sk-container-id-15 div.sk-item::before, #sk-container-id-15 div.sk-parallel-item::before {content: \"\";position: absolute;border-left: 1px solid gray;box-sizing: border-box;top: 0;bottom: 0;left: 50%;z-index: -1;}#sk-container-id-15 div.sk-parallel-item {display: flex;flex-direction: column;z-index: 1;position: relative;background-color: white;}#sk-container-id-15 div.sk-parallel-item:first-child::after {align-self: flex-end;width: 50%;}#sk-container-id-15 div.sk-parallel-item:last-child::after {align-self: flex-start;width: 50%;}#sk-container-id-15 div.sk-parallel-item:only-child::after {width: 0;}#sk-container-id-15 div.sk-dashed-wrapped {border: 1px dashed gray;margin: 0 0.4em 0.5em 0.4em;box-sizing: border-box;padding-bottom: 0.4em;background-color: white;}#sk-container-id-15 div.sk-label label {font-family: monospace;font-weight: bold;display: inline-block;line-height: 1.2em;}#sk-container-id-15 div.sk-label-container {text-align: center;}#sk-container-id-15 div.sk-container {/* jupyter's `normalize.less` sets `[hidden] { display: none; }` but bootstrap.min.css set `[hidden] { display: none !important; }` so we also need the `!important` here to be able to override the default hidden behavior on the sphinx rendered scikit-learn.org. See: https://github.com/scikit-learn/scikit-learn/issues/21755 */display: inline-block !important;position: relative;}#sk-container-id-15 div.sk-text-repr-fallback {display: none;}</style><div id=\"sk-container-id-15\" class=\"sk-top-container\"><div class=\"sk-text-repr-fallback\"><pre>OneVsRestClassifier(estimator=LogisticRegression(max_iter=2000))</pre><b>In a Jupyter environment, please rerun this cell to show the HTML representation or trust the notebook. <br />On GitHub, the HTML representation is unable to render, please try loading this page with nbviewer.org.</b></div><div class=\"sk-container\" hidden><div class=\"sk-item sk-dashed-wrapped\"><div class=\"sk-label-container\"><div class=\"sk-label sk-toggleable\"><input class=\"sk-toggleable__control sk-hidden--visually\" id=\"sk-estimator-id-25\" type=\"checkbox\" ><label for=\"sk-estimator-id-25\" class=\"sk-toggleable__label sk-toggleable__label-arrow\">OneVsRestClassifier</label><div class=\"sk-toggleable__content\"><pre>OneVsRestClassifier(estimator=LogisticRegression(max_iter=2000))</pre></div></div></div><div class=\"sk-parallel\"><div class=\"sk-parallel-item\"><div class=\"sk-item\"><div class=\"sk-label-container\"><div class=\"sk-label sk-toggleable\"><input class=\"sk-toggleable__control sk-hidden--visually\" id=\"sk-estimator-id-26\" type=\"checkbox\" ><label for=\"sk-estimator-id-26\" class=\"sk-toggleable__label sk-toggleable__label-arrow\">estimator: LogisticRegression</label><div class=\"sk-toggleable__content\"><pre>LogisticRegression(max_iter=2000)</pre></div></div></div><div class=\"sk-serial\"><div class=\"sk-item\"><div class=\"sk-estimator sk-toggleable\"><input class=\"sk-toggleable__control sk-hidden--visually\" id=\"sk-estimator-id-27\" type=\"checkbox\" ><label for=\"sk-estimator-id-27\" class=\"sk-toggleable__label sk-toggleable__label-arrow\">LogisticRegression</label><div class=\"sk-toggleable__content\"><pre>LogisticRegression(max_iter=2000)</pre></div></div></div></div></div></div></div></div></div></div>"
      ],
      "text/plain": [
       "OneVsRestClassifier(estimator=LogisticRegression(max_iter=2000))"
      ]
     },
     "execution_count": 228,
     "metadata": {},
     "output_type": "execute_result"
    }
   ],
   "source": [
    "logistic = LogisticRegression(max_iter=2000)\n",
    "ovr_logistic = OneVsRestClassifier(logistic)\n",
    "ovr_logistic.fit(X_train, y_train)"
   ]
  },
  {
   "cell_type": "code",
   "execution_count": 229,
   "metadata": {
    "tags": []
   },
   "outputs": [
    {
     "data": {
      "text/html": [
       "<style>#sk-container-id-16 {color: black;background-color: white;}#sk-container-id-16 pre{padding: 0;}#sk-container-id-16 div.sk-toggleable {background-color: white;}#sk-container-id-16 label.sk-toggleable__label {cursor: pointer;display: block;width: 100%;margin-bottom: 0;padding: 0.3em;box-sizing: border-box;text-align: center;}#sk-container-id-16 label.sk-toggleable__label-arrow:before {content: \"▸\";float: left;margin-right: 0.25em;color: #696969;}#sk-container-id-16 label.sk-toggleable__label-arrow:hover:before {color: black;}#sk-container-id-16 div.sk-estimator:hover label.sk-toggleable__label-arrow:before {color: black;}#sk-container-id-16 div.sk-toggleable__content {max-height: 0;max-width: 0;overflow: hidden;text-align: left;background-color: #f0f8ff;}#sk-container-id-16 div.sk-toggleable__content pre {margin: 0.2em;color: black;border-radius: 0.25em;background-color: #f0f8ff;}#sk-container-id-16 input.sk-toggleable__control:checked~div.sk-toggleable__content {max-height: 200px;max-width: 100%;overflow: auto;}#sk-container-id-16 input.sk-toggleable__control:checked~label.sk-toggleable__label-arrow:before {content: \"▾\";}#sk-container-id-16 div.sk-estimator input.sk-toggleable__control:checked~label.sk-toggleable__label {background-color: #d4ebff;}#sk-container-id-16 div.sk-label input.sk-toggleable__control:checked~label.sk-toggleable__label {background-color: #d4ebff;}#sk-container-id-16 input.sk-hidden--visually {border: 0;clip: rect(1px 1px 1px 1px);clip: rect(1px, 1px, 1px, 1px);height: 1px;margin: -1px;overflow: hidden;padding: 0;position: absolute;width: 1px;}#sk-container-id-16 div.sk-estimator {font-family: monospace;background-color: #f0f8ff;border: 1px dotted black;border-radius: 0.25em;box-sizing: border-box;margin-bottom: 0.5em;}#sk-container-id-16 div.sk-estimator:hover {background-color: #d4ebff;}#sk-container-id-16 div.sk-parallel-item::after {content: \"\";width: 100%;border-bottom: 1px solid gray;flex-grow: 1;}#sk-container-id-16 div.sk-label:hover label.sk-toggleable__label {background-color: #d4ebff;}#sk-container-id-16 div.sk-serial::before {content: \"\";position: absolute;border-left: 1px solid gray;box-sizing: border-box;top: 0;bottom: 0;left: 50%;z-index: 0;}#sk-container-id-16 div.sk-serial {display: flex;flex-direction: column;align-items: center;background-color: white;padding-right: 0.2em;padding-left: 0.2em;position: relative;}#sk-container-id-16 div.sk-item {position: relative;z-index: 1;}#sk-container-id-16 div.sk-parallel {display: flex;align-items: stretch;justify-content: center;background-color: white;position: relative;}#sk-container-id-16 div.sk-item::before, #sk-container-id-16 div.sk-parallel-item::before {content: \"\";position: absolute;border-left: 1px solid gray;box-sizing: border-box;top: 0;bottom: 0;left: 50%;z-index: -1;}#sk-container-id-16 div.sk-parallel-item {display: flex;flex-direction: column;z-index: 1;position: relative;background-color: white;}#sk-container-id-16 div.sk-parallel-item:first-child::after {align-self: flex-end;width: 50%;}#sk-container-id-16 div.sk-parallel-item:last-child::after {align-self: flex-start;width: 50%;}#sk-container-id-16 div.sk-parallel-item:only-child::after {width: 0;}#sk-container-id-16 div.sk-dashed-wrapped {border: 1px dashed gray;margin: 0 0.4em 0.5em 0.4em;box-sizing: border-box;padding-bottom: 0.4em;background-color: white;}#sk-container-id-16 div.sk-label label {font-family: monospace;font-weight: bold;display: inline-block;line-height: 1.2em;}#sk-container-id-16 div.sk-label-container {text-align: center;}#sk-container-id-16 div.sk-container {/* jupyter's `normalize.less` sets `[hidden] { display: none; }` but bootstrap.min.css set `[hidden] { display: none !important; }` so we also need the `!important` here to be able to override the default hidden behavior on the sphinx rendered scikit-learn.org. See: https://github.com/scikit-learn/scikit-learn/issues/21755 */display: inline-block !important;position: relative;}#sk-container-id-16 div.sk-text-repr-fallback {display: none;}</style><div id=\"sk-container-id-16\" class=\"sk-top-container\"><div class=\"sk-text-repr-fallback\"><pre>OneVsRestClassifier(estimator=RandomForestClassifier(max_depth=6,\n",
       "                                                     n_estimators=200))</pre><b>In a Jupyter environment, please rerun this cell to show the HTML representation or trust the notebook. <br />On GitHub, the HTML representation is unable to render, please try loading this page with nbviewer.org.</b></div><div class=\"sk-container\" hidden><div class=\"sk-item sk-dashed-wrapped\"><div class=\"sk-label-container\"><div class=\"sk-label sk-toggleable\"><input class=\"sk-toggleable__control sk-hidden--visually\" id=\"sk-estimator-id-28\" type=\"checkbox\" ><label for=\"sk-estimator-id-28\" class=\"sk-toggleable__label sk-toggleable__label-arrow\">OneVsRestClassifier</label><div class=\"sk-toggleable__content\"><pre>OneVsRestClassifier(estimator=RandomForestClassifier(max_depth=6,\n",
       "                                                     n_estimators=200))</pre></div></div></div><div class=\"sk-parallel\"><div class=\"sk-parallel-item\"><div class=\"sk-item\"><div class=\"sk-label-container\"><div class=\"sk-label sk-toggleable\"><input class=\"sk-toggleable__control sk-hidden--visually\" id=\"sk-estimator-id-29\" type=\"checkbox\" ><label for=\"sk-estimator-id-29\" class=\"sk-toggleable__label sk-toggleable__label-arrow\">estimator: RandomForestClassifier</label><div class=\"sk-toggleable__content\"><pre>RandomForestClassifier(max_depth=6, n_estimators=200)</pre></div></div></div><div class=\"sk-serial\"><div class=\"sk-item\"><div class=\"sk-estimator sk-toggleable\"><input class=\"sk-toggleable__control sk-hidden--visually\" id=\"sk-estimator-id-30\" type=\"checkbox\" ><label for=\"sk-estimator-id-30\" class=\"sk-toggleable__label sk-toggleable__label-arrow\">RandomForestClassifier</label><div class=\"sk-toggleable__content\"><pre>RandomForestClassifier(max_depth=6, n_estimators=200)</pre></div></div></div></div></div></div></div></div></div></div>"
      ],
      "text/plain": [
       "OneVsRestClassifier(estimator=RandomForestClassifier(max_depth=6,\n",
       "                                                     n_estimators=200))"
      ]
     },
     "execution_count": 229,
     "metadata": {},
     "output_type": "execute_result"
    }
   ],
   "source": [
    "randomforest = RandomForestClassifier(max_depth=6, n_estimators=200)\n",
    "ovr_rf = OneVsRestClassifier(randomforest)\n",
    "ovr_rf.fit(X_train,y_train)"
   ]
  },
  {
   "cell_type": "markdown",
   "metadata": {},
   "source": [
    "**Question 7**: <br>\n",
    "**Compute the probability of the predicted values for the trained models with `.predict_proba()`**\n"
   ]
  },
  {
   "cell_type": "code",
   "execution_count": 230,
   "metadata": {
    "tags": []
   },
   "outputs": [],
   "source": [
    "# Compute predicted proba for each class \n",
    "ovr_tree_proba = ovr_tree.predict_proba(X_test)\n",
    "ovr_logistic_proba = ovr_logistic.predict_proba(X_test)\n",
    "ovr_rf_proba = ovr_rf.predict_proba(X_test)"
   ]
  },
  {
   "cell_type": "markdown",
   "metadata": {},
   "source": [
    "**Question 8 (Bonus)**: <br>\n",
    "**Now do the same with two other models (K nearest neighbors, AdaBoost, SVM,...).** <br>\n",
    "*Be careful, scikit-learn's `SVC` function can take a long time to train.* <br>\n"
   ]
  },
  {
   "cell_type": "code",
   "execution_count": null,
   "metadata": {},
   "outputs": [],
   "source": []
  },
  {
   "cell_type": "markdown",
   "metadata": {},
   "source": [
    "### **2.3 Evaluate/test the performance of the models**\n",
    "\n",
    "**Question 9**: <br>\n",
    "**Compute the AUC score of the trained models with `roc_auc_score()`**."
   ]
  },
  {
   "cell_type": "code",
   "execution_count": 212,
   "metadata": {
    "tags": []
   },
   "outputs": [],
   "source": [
    "ovr_tree_auc = roc_auc_score(y_test, ovr_tree_proba, multi_class = \"ovr\", average=\"weighted\")\n",
    "ovr_log_auc = roc_auc_score(y_test, ovr_logistic_proba, multi_class = \"ovr\", average=\"weighted\")\n",
    "ovr_randomforest_auc = roc_auc_score(y_test, ovr_rf_proba, multi_class = \"ovr\", average=\"weighted\")"
   ]
  },
  {
   "cell_type": "code",
   "execution_count": 213,
   "metadata": {
    "tags": []
   },
   "outputs": [
    {
     "name": "stdout",
     "output_type": "stream",
     "text": [
      "Tree AUC: 0.75\n",
      "Log AUC: 0.51\n",
      "Random Forest AUC: 0.76\n"
     ]
    }
   ],
   "source": [
    "print(\"Tree AUC:\", np.round(ovr_tree_auc,2))\n",
    "print(\"Log AUC:\", np.round(ovr_log_auc,2))\n",
    "print(\"Random Forest AUC:\", np.round(ovr_randomforest_auc,2))"
   ]
  },
  {
   "cell_type": "markdown",
   "metadata": {},
   "source": [
    "If the AUC score of your models are low, here are some tips/ideas of how you can improve their performances:\n",
    "- You can retrain the models in Question 6 and 7 with different parameters. <br>\n",
    "- You can drop columns or include more in the dataset\n",
    "- You can scale the dataset with `StandardScaler` or `MinMaxScaler`\n",
    "- You can try to find a model's optimal parameters with `GridSearch`, `RandomSearch`, `crossvalscore` (Section 2.4)"
   ]
  },
  {
   "cell_type": "markdown",
   "metadata": {
    "id": "uPA8yhL-Vr0h"
   },
   "source": [
    "**Question 10**: <br>\n",
    "**Display the ROC curve for the trained models with `roc_curve()` and add their AUC score on the plot.** <br>\n"
   ]
  },
  {
   "cell_type": "code",
   "execution_count": 235,
   "metadata": {
    "tags": []
   },
   "outputs": [
    {
     "data": {
      "text/plain": [
       "array([0, 0, 1, ..., 1, 1, 0])"
      ]
     },
     "execution_count": 235,
     "metadata": {},
     "output_type": "execute_result"
    }
   ],
   "source": [
    "y_test[::,1]"
   ]
  },
  {
   "cell_type": "code",
   "execution_count": 237,
   "metadata": {
    "tags": []
   },
   "outputs": [
    {
     "data": {
      "text/plain": [
       "array([0.38194987, 0.38194987, 0.40186399, ..., 0.97081835, 0.40186399,\n",
       "       0.        ])"
      ]
     },
     "execution_count": 237,
     "metadata": {},
     "output_type": "execute_result"
    }
   ],
   "source": [
    " ovr_tree_proba[::, 1]"
   ]
  },
  {
   "cell_type": "code",
   "execution_count": 238,
   "metadata": {
    "tags": []
   },
   "outputs": [
    {
     "name": "stdout",
     "output_type": "stream",
     "text": [
      "[0.00000000e+00 2.62390671e-04 2.91545190e-04 5.53935860e-04\n",
      " 9.62099125e-04 1.13702624e-03 3.21137026e-01 4.40262391e-01\n",
      " 4.40320700e-01 4.41370262e-01 4.41399417e-01 4.41516035e-01\n",
      " 4.41778426e-01 4.41836735e-01 4.42419825e-01 5.04431487e-01\n",
      " 7.12011662e-01 9.61428571e-01 9.75481050e-01 9.88338192e-01\n",
      " 9.98921283e-01 1.00000000e+00] [0.00000000e+00 0.00000000e+00 8.66884993e-04 4.14178386e-03\n",
      " 5.77923329e-03 6.26083606e-03 7.09111924e-01 9.67443652e-01\n",
      " 9.67443652e-01 9.70044307e-01 9.70044307e-01 9.70044307e-01\n",
      " 9.70044307e-01 9.70044307e-01 9.70044307e-01 9.73608168e-01\n",
      " 9.84877673e-01 9.98169909e-01 9.98747833e-01 9.99133115e-01\n",
      " 1.00000000e+00 1.00000000e+00]\n"
     ]
    },
    {
     "ename": "ValueError",
     "evalue": "continuous format is not supported",
     "output_type": "error",
     "traceback": [
      "\u001b[0;31m---------------------------------------------------------------------------\u001b[0m",
      "\u001b[0;31mValueError\u001b[0m                                Traceback (most recent call last)",
      "Cell \u001b[0;32mIn[238], line 10\u001b[0m\n\u001b[1;32m      8\u001b[0m     fpr[i], tpr[i], _ \u001b[38;5;241m=\u001b[39m roc_curve(y_test[::, i], ovr_tree_proba[::, i])\n\u001b[1;32m      9\u001b[0m     \u001b[38;5;28mprint\u001b[39m(fpr[i], tpr[i])\n\u001b[0;32m---> 10\u001b[0m     roc_auc[i] \u001b[38;5;241m=\u001b[39m \u001b[43mroc_auc_score\u001b[49m\u001b[43m(\u001b[49m\u001b[43mfpr\u001b[49m\u001b[43m[\u001b[49m\u001b[43mi\u001b[49m\u001b[43m]\u001b[49m\u001b[43m,\u001b[49m\u001b[43m \u001b[49m\u001b[43mtpr\u001b[49m\u001b[43m[\u001b[49m\u001b[43mi\u001b[49m\u001b[43m]\u001b[49m\u001b[43m)\u001b[49m\n\u001b[1;32m     12\u001b[0m \u001b[38;5;66;03m# Plot of a ROC curve for a specific class\u001b[39;00m\n\u001b[1;32m     13\u001b[0m \u001b[38;5;28;01mfor\u001b[39;00m i \u001b[38;5;129;01min\u001b[39;00m \u001b[38;5;28mrange\u001b[39m(n_classes):\n",
      "File \u001b[0;32m/opt/conda/lib/python3.10/site-packages/sklearn/metrics/_ranking.py:580\u001b[0m, in \u001b[0;36mroc_auc_score\u001b[0;34m(y_true, y_score, average, sample_weight, max_fpr, multi_class, labels)\u001b[0m\n\u001b[1;32m    572\u001b[0m     \u001b[38;5;28;01mreturn\u001b[39;00m _average_binary_score(\n\u001b[1;32m    573\u001b[0m         partial(_binary_roc_auc_score, max_fpr\u001b[38;5;241m=\u001b[39mmax_fpr),\n\u001b[1;32m    574\u001b[0m         y_true,\n\u001b[0;32m   (...)\u001b[0m\n\u001b[1;32m    577\u001b[0m         sample_weight\u001b[38;5;241m=\u001b[39msample_weight,\n\u001b[1;32m    578\u001b[0m     )\n\u001b[1;32m    579\u001b[0m \u001b[38;5;28;01melse\u001b[39;00m:  \u001b[38;5;66;03m# multilabel-indicator\u001b[39;00m\n\u001b[0;32m--> 580\u001b[0m     \u001b[38;5;28;01mreturn\u001b[39;00m \u001b[43m_average_binary_score\u001b[49m\u001b[43m(\u001b[49m\n\u001b[1;32m    581\u001b[0m \u001b[43m        \u001b[49m\u001b[43mpartial\u001b[49m\u001b[43m(\u001b[49m\u001b[43m_binary_roc_auc_score\u001b[49m\u001b[43m,\u001b[49m\u001b[43m \u001b[49m\u001b[43mmax_fpr\u001b[49m\u001b[38;5;241;43m=\u001b[39;49m\u001b[43mmax_fpr\u001b[49m\u001b[43m)\u001b[49m\u001b[43m,\u001b[49m\n\u001b[1;32m    582\u001b[0m \u001b[43m        \u001b[49m\u001b[43my_true\u001b[49m\u001b[43m,\u001b[49m\n\u001b[1;32m    583\u001b[0m \u001b[43m        \u001b[49m\u001b[43my_score\u001b[49m\u001b[43m,\u001b[49m\n\u001b[1;32m    584\u001b[0m \u001b[43m        \u001b[49m\u001b[43maverage\u001b[49m\u001b[43m,\u001b[49m\n\u001b[1;32m    585\u001b[0m \u001b[43m        \u001b[49m\u001b[43msample_weight\u001b[49m\u001b[38;5;241;43m=\u001b[39;49m\u001b[43msample_weight\u001b[49m\u001b[43m,\u001b[49m\n\u001b[1;32m    586\u001b[0m \u001b[43m    \u001b[49m\u001b[43m)\u001b[49m\n",
      "File \u001b[0;32m/opt/conda/lib/python3.10/site-packages/sklearn/metrics/_base.py:72\u001b[0m, in \u001b[0;36m_average_binary_score\u001b[0;34m(binary_metric, y_true, y_score, average, sample_weight)\u001b[0m\n\u001b[1;32m     70\u001b[0m y_type \u001b[38;5;241m=\u001b[39m type_of_target(y_true)\n\u001b[1;32m     71\u001b[0m \u001b[38;5;28;01mif\u001b[39;00m y_type \u001b[38;5;129;01mnot\u001b[39;00m \u001b[38;5;129;01min\u001b[39;00m (\u001b[38;5;124m\"\u001b[39m\u001b[38;5;124mbinary\u001b[39m\u001b[38;5;124m\"\u001b[39m, \u001b[38;5;124m\"\u001b[39m\u001b[38;5;124mmultilabel-indicator\u001b[39m\u001b[38;5;124m\"\u001b[39m):\n\u001b[0;32m---> 72\u001b[0m     \u001b[38;5;28;01mraise\u001b[39;00m \u001b[38;5;167;01mValueError\u001b[39;00m(\u001b[38;5;124m\"\u001b[39m\u001b[38;5;132;01m{0}\u001b[39;00m\u001b[38;5;124m format is not supported\u001b[39m\u001b[38;5;124m\"\u001b[39m\u001b[38;5;241m.\u001b[39mformat(y_type))\n\u001b[1;32m     74\u001b[0m \u001b[38;5;28;01mif\u001b[39;00m y_type \u001b[38;5;241m==\u001b[39m \u001b[38;5;124m\"\u001b[39m\u001b[38;5;124mbinary\u001b[39m\u001b[38;5;124m\"\u001b[39m:\n\u001b[1;32m     75\u001b[0m     \u001b[38;5;28;01mreturn\u001b[39;00m binary_metric(y_true, y_score, sample_weight\u001b[38;5;241m=\u001b[39msample_weight)\n",
      "\u001b[0;31mValueError\u001b[0m: continuous format is not supported"
     ]
    }
   ],
   "source": [
    "# Compute ROC curve and ROC area for each class\n",
    "n_classes = y.shape[1]\n",
    "fpr = dict()\n",
    "tpr = dict()\n",
    "roc_auc = dict()\n",
    "\n",
    "for i in range(n_classes):\n",
    "    fpr[i], tpr[i], _ = roc_curve(y_test[::, i], ovr_tree_proba[::, i])\n",
    "    print(fpr[i], tpr[i])\n",
    "    roc_auc[i] = roc_auc_score(fpr[i], tpr[i])\n",
    "\n",
    "# Plot of a ROC curve for a specific class\n",
    "for i in range(n_classes):\n",
    "    plt.figure()\n",
    "    plt.plot(fpr[i], tpr[i], label='ROC curve (area = %0.2f)' % roc_auc[i])\n",
    "    plt.plot([0, 1], [0, 1], 'k--')\n",
    "    plt.xlim([0.0, 1.0])\n",
    "    plt.ylim([0.0, 1.05])\n",
    "    plt.xlabel('False Positive Rate')\n",
    "    plt.ylabel('True Positive Rate')\n",
    "    plt.title('Receiver operating characteristic example')\n",
    "    plt.legend(loc=\"lower right\")\n",
    "    plt.show()"
   ]
  },
  {
   "cell_type": "markdown",
   "metadata": {
    "id": "pQuofktDkbwM"
   },
   "source": [
    "**Question 11**: <br>\n",
    "**Create a confusion matrix for the two models with the best AUC score.** <br>\n",
    "**Then, use `sns.heatmap()` to plot the confusion matrix**. <br>\n",
    "\n",
    "*You need to compute the prediction of the model with `.predict()` to compute the confusion matrix*"
   ]
  },
  {
   "cell_type": "code",
   "execution_count": 180,
   "metadata": {
    "colab": {
     "base_uri": "https://localhost:8080/",
     "height": 481
    },
    "id": "arkp_xaxkvGv",
    "outputId": "18d359c9-6227-4237-c6c8-9d15478e04ff",
    "tags": []
   },
   "outputs": [
    {
     "data": {
      "image/png": "[encoded data removed]",
      "text/plain": [
       "<Figure size 640x480 with 2 Axes>"
      ]
     },
     "metadata": {},
     "output_type": "display_data"
    }
   ],
   "source": [
    "tree_predictions = tree.predict(X_test)\n",
    "\n",
    "tree_matrix = confusion_matrix(y_test,tree_predictions)\n",
    "sns.heatmap(tree_matrix,\n",
    "            annot=True,\n",
    "            fmt='g')\n",
    "\n",
    "plt.ylabel('Predicted',fontsize=13)\n",
    "plt.xlabel('True',fontsize=13)\n",
    "plt.title(\"Decision Tree confusion matrix\")\n",
    "plt.show()\n"
   ]
  },
  {
   "cell_type": "code",
   "execution_count": 181,
   "metadata": {
    "tags": []
   },
   "outputs": [
    {
     "data": {
      "image/png": "[encoded data removed]",
      "text/plain": [
       "<Figure size 640x480 with 2 Axes>"
      ]
     },
     "metadata": {},
     "output_type": "display_data"
    }
   ],
   "source": [
    "randomforest_predictions = randomforest.predict(X_test)\n",
    "\n",
    "randomforest_matrix = confusion_matrix(y_test,randomforest_predictions)\n",
    "sns.heatmap(randomforest_matrix,\n",
    "            annot=True,\n",
    "            fmt='g')\n",
    "\n",
    "plt.ylabel('Predicted',fontsize=13)\n",
    "plt.xlabel('True',fontsize=13)\n",
    "plt.title(\"Random Forest confusion matrix\")\n",
    "plt.show()\n"
   ]
  },
  {
   "cell_type": "markdown",
   "metadata": {
    "id": "ytj5AGeWI13g"
   },
   "source": [
    "### **2.4 Upgrade your model! (Bonus)**\n",
    "\n",
    "**Use Grid Search, Cross validation and/or Random Search to find the optimal parameters for your model(s).** <br>\n",
    "*Don't use these optimization methods on every model you've tested, just try them on the best model you've tested.* <br>\n",
    "*For `GridSearchCV`, use the parameter `scoring='roc_auc'` to use the AUC score as the performance metric.*\n",
    "\n"
   ]
  },
  {
   "cell_type": "code",
   "execution_count": 68,
   "metadata": {
    "tags": []
   },
   "outputs": [],
   "source": [
    "# Create a dictionary with possible hyperparameter values\n",
    "param_grid_tree = {'max_depth' : [4, 6, 8, 10],\n",
    "                   'min_samples_split' : [2,4,6,8],\n",
    "                   'criterion' :['gini', 'entropy']}"
   ]
  },
  {
   "cell_type": "code",
   "execution_count": 69,
   "metadata": {
    "tags": []
   },
   "outputs": [
    {
     "data": {
      "text/html": [
       "<style>#sk-container-id-4 {color: black;background-color: white;}#sk-container-id-4 pre{padding: 0;}#sk-container-id-4 div.sk-toggleable {background-color: white;}#sk-container-id-4 label.sk-toggleable__label {cursor: pointer;display: block;width: 100%;margin-bottom: 0;padding: 0.3em;box-sizing: border-box;text-align: center;}#sk-container-id-4 label.sk-toggleable__label-arrow:before {content: \"▸\";float: left;margin-right: 0.25em;color: #696969;}#sk-container-id-4 label.sk-toggleable__label-arrow:hover:before {color: black;}#sk-container-id-4 div.sk-estimator:hover label.sk-toggleable__label-arrow:before {color: black;}#sk-container-id-4 div.sk-toggleable__content {max-height: 0;max-width: 0;overflow: hidden;text-align: left;background-color: #f0f8ff;}#sk-container-id-4 div.sk-toggleable__content pre {margin: 0.2em;color: black;border-radius: 0.25em;background-color: #f0f8ff;}#sk-container-id-4 input.sk-toggleable__control:checked~div.sk-toggleable__content {max-height: 200px;max-width: 100%;overflow: auto;}#sk-container-id-4 input.sk-toggleable__control:checked~label.sk-toggleable__label-arrow:before {content: \"▾\";}#sk-container-id-4 div.sk-estimator input.sk-toggleable__control:checked~label.sk-toggleable__label {background-color: #d4ebff;}#sk-container-id-4 div.sk-label input.sk-toggleable__control:checked~label.sk-toggleable__label {background-color: #d4ebff;}#sk-container-id-4 input.sk-hidden--visually {border: 0;clip: rect(1px 1px 1px 1px);clip: rect(1px, 1px, 1px, 1px);height: 1px;margin: -1px;overflow: hidden;padding: 0;position: absolute;width: 1px;}#sk-container-id-4 div.sk-estimator {font-family: monospace;background-color: #f0f8ff;border: 1px dotted black;border-radius: 0.25em;box-sizing: border-box;margin-bottom: 0.5em;}#sk-container-id-4 div.sk-estimator:hover {background-color: #d4ebff;}#sk-container-id-4 div.sk-parallel-item::after {content: \"\";width: 100%;border-bottom: 1px solid gray;flex-grow: 1;}#sk-container-id-4 div.sk-label:hover label.sk-toggleable__label {background-color: #d4ebff;}#sk-container-id-4 div.sk-serial::before {content: \"\";position: absolute;border-left: 1px solid gray;box-sizing: border-box;top: 0;bottom: 0;left: 50%;z-index: 0;}#sk-container-id-4 div.sk-serial {display: flex;flex-direction: column;align-items: center;background-color: white;padding-right: 0.2em;padding-left: 0.2em;position: relative;}#sk-container-id-4 div.sk-item {position: relative;z-index: 1;}#sk-container-id-4 div.sk-parallel {display: flex;align-items: stretch;justify-content: center;background-color: white;position: relative;}#sk-container-id-4 div.sk-item::before, #sk-container-id-4 div.sk-parallel-item::before {content: \"\";position: absolute;border-left: 1px solid gray;box-sizing: border-box;top: 0;bottom: 0;left: 50%;z-index: -1;}#sk-container-id-4 div.sk-parallel-item {display: flex;flex-direction: column;z-index: 1;position: relative;background-color: white;}#sk-container-id-4 div.sk-parallel-item:first-child::after {align-self: flex-end;width: 50%;}#sk-container-id-4 div.sk-parallel-item:last-child::after {align-self: flex-start;width: 50%;}#sk-container-id-4 div.sk-parallel-item:only-child::after {width: 0;}#sk-container-id-4 div.sk-dashed-wrapped {border: 1px dashed gray;margin: 0 0.4em 0.5em 0.4em;box-sizing: border-box;padding-bottom: 0.4em;background-color: white;}#sk-container-id-4 div.sk-label label {font-family: monospace;font-weight: bold;display: inline-block;line-height: 1.2em;}#sk-container-id-4 div.sk-label-container {text-align: center;}#sk-container-id-4 div.sk-container {/* jupyter's `normalize.less` sets `[hidden] { display: none; }` but bootstrap.min.css set `[hidden] { display: none !important; }` so we also need the `!important` here to be able to override the default hidden behavior on the sphinx rendered scikit-learn.org. See: https://github.com/scikit-learn/scikit-learn/issues/21755 */display: inline-block !important;position: relative;}#sk-container-id-4 div.sk-text-repr-fallback {display: none;}</style><div id=\"sk-container-id-4\" class=\"sk-top-container\"><div class=\"sk-text-repr-fallback\"><pre>GridSearchCV(cv=5, estimator=DecisionTreeClassifier(max_depth=6),\n",
       "             param_grid={&#x27;criterion&#x27;: [&#x27;gini&#x27;, &#x27;entropy&#x27;],\n",
       "                         &#x27;max_depth&#x27;: [4, 6, 8, 10],\n",
       "                         &#x27;min_samples_split&#x27;: [2, 4, 6, 8]},\n",
       "             scoring=&#x27;roc_auc&#x27;)</pre><b>In a Jupyter environment, please rerun this cell to show the HTML representation or trust the notebook. <br />On GitHub, the HTML representation is unable to render, please try loading this page with nbviewer.org.</b></div><div class=\"sk-container\" hidden><div class=\"sk-item sk-dashed-wrapped\"><div class=\"sk-label-container\"><div class=\"sk-label sk-toggleable\"><input class=\"sk-toggleable__control sk-hidden--visually\" id=\"sk-estimator-id-4\" type=\"checkbox\" ><label for=\"sk-estimator-id-4\" class=\"sk-toggleable__label sk-toggleable__label-arrow\">GridSearchCV</label><div class=\"sk-toggleable__content\"><pre>GridSearchCV(cv=5, estimator=DecisionTreeClassifier(max_depth=6),\n",
       "             param_grid={&#x27;criterion&#x27;: [&#x27;gini&#x27;, &#x27;entropy&#x27;],\n",
       "                         &#x27;max_depth&#x27;: [4, 6, 8, 10],\n",
       "                         &#x27;min_samples_split&#x27;: [2, 4, 6, 8]},\n",
       "             scoring=&#x27;roc_auc&#x27;)</pre></div></div></div><div class=\"sk-parallel\"><div class=\"sk-parallel-item\"><div class=\"sk-item\"><div class=\"sk-label-container\"><div class=\"sk-label sk-toggleable\"><input class=\"sk-toggleable__control sk-hidden--visually\" id=\"sk-estimator-id-5\" type=\"checkbox\" ><label for=\"sk-estimator-id-5\" class=\"sk-toggleable__label sk-toggleable__label-arrow\">estimator: DecisionTreeClassifier</label><div class=\"sk-toggleable__content\"><pre>DecisionTreeClassifier(max_depth=6)</pre></div></div></div><div class=\"sk-serial\"><div class=\"sk-item\"><div class=\"sk-estimator sk-toggleable\"><input class=\"sk-toggleable__control sk-hidden--visually\" id=\"sk-estimator-id-6\" type=\"checkbox\" ><label for=\"sk-estimator-id-6\" class=\"sk-toggleable__label sk-toggleable__label-arrow\">DecisionTreeClassifier</label><div class=\"sk-toggleable__content\"><pre>DecisionTreeClassifier(max_depth=6)</pre></div></div></div></div></div></div></div></div></div></div>"
      ],
      "text/plain": [
       "GridSearchCV(cv=5, estimator=DecisionTreeClassifier(max_depth=6),\n",
       "             param_grid={'criterion': ['gini', 'entropy'],\n",
       "                         'max_depth': [4, 6, 8, 10],\n",
       "                         'min_samples_split': [2, 4, 6, 8]},\n",
       "             scoring='roc_auc')"
      ]
     },
     "execution_count": 69,
     "metadata": {},
     "output_type": "execute_result"
    }
   ],
   "source": [
    "grid_tree = GridSearchCV(tree, param_grid=param_grid_tree, cv=5, scoring='roc_auc')\n",
    "grid_tree.fit(X_train, y_train)"
   ]
  },
  {
   "cell_type": "code",
   "execution_count": 70,
   "metadata": {
    "tags": []
   },
   "outputs": [
    {
     "data": {
      "text/plain": [
       "{'criterion': 'gini', 'max_depth': 10, 'min_samples_split': 8}"
      ]
     },
     "execution_count": 70,
     "metadata": {},
     "output_type": "execute_result"
    }
   ],
   "source": [
    "grid_tree.best_params_"
   ]
  },
  {
   "cell_type": "code",
   "execution_count": 71,
   "metadata": {
    "tags": []
   },
   "outputs": [
    {
     "data": {
      "text/plain": [
       "0.7447296591387528"
      ]
     },
     "execution_count": 71,
     "metadata": {},
     "output_type": "execute_result"
    }
   ],
   "source": [
    "grid_tree.best_score_"
   ]
  },
  {
   "cell_type": "markdown",
   "metadata": {},
   "source": [
    "## **3. Explainability with shap**\n",
    "\n",
    "The `shap` library (SHapley Additive exPlanations) is a Python library used for explaining the output of machine learning models. <br> It provides a unified framework for interpreting complex models and understanding the contributions of individual features to model predictions. <br> \n",
    "\n",
    "Shap is particularly useful for understanding black-box models like boosting, random forests, and deep neural networks, among others. <br>\n",
    "It can also be used with any classification model."
   ]
  },
  {
   "cell_type": "markdown",
   "metadata": {},
   "source": [
    "**Let's install and import the shap library.**"
   ]
  },
  {
   "cell_type": "code",
   "execution_count": 72,
   "metadata": {
    "tags": []
   },
   "outputs": [
    {
     "name": "stdout",
     "output_type": "stream",
     "text": [
      "Requirement already satisfied: shap in /opt/conda/lib/python3.10/site-packages (0.41.0)\n",
      "Requirement already satisfied: numpy in /opt/conda/lib/python3.10/site-packages (from shap) (1.24.4)\n",
      "Requirement already satisfied: scipy in /opt/conda/lib/python3.10/site-packages (from shap) (1.10.1)\n",
      "Requirement already satisfied: scikit-learn in /opt/conda/lib/python3.10/site-packages (from shap) (1.2.2)\n",
      "Requirement already satisfied: pandas in /opt/conda/lib/python3.10/site-packages (from shap) (2.0.3)\n",
      "Requirement already satisfied: tqdm>4.25.0 in /opt/conda/lib/python3.10/site-packages (from shap) (4.65.0)\n",
      "Requirement already satisfied: packaging>20.9 in /opt/conda/lib/python3.10/site-packages (from shap) (23.1)\n",
      "Requirement already satisfied: slicer==0.0.7 in /opt/conda/lib/python3.10/site-packages (from shap) (0.0.7)\n",
      "Requirement already satisfied: numba in /opt/conda/lib/python3.10/site-packages (from shap) (0.57.1)\n",
      "Requirement already satisfied: cloudpickle in /opt/conda/lib/python3.10/site-packages (from shap) (2.2.1)\n",
      "Requirement already satisfied: llvmlite<0.41,>=0.40.0dev0 in /opt/conda/lib/python3.10/site-packages (from numba->shap) (0.40.1)\n",
      "Requirement already satisfied: python-dateutil>=2.8.2 in /opt/conda/lib/python3.10/site-packages (from pandas->shap) (2.8.2)\n",
      "Requirement already satisfied: pytz>=2020.1 in /opt/conda/lib/python3.10/site-packages (from pandas->shap) (2023.3)\n",
      "Requirement already satisfied: tzdata>=2022.1 in /opt/conda/lib/python3.10/site-packages (from pandas->shap) (2023.3)\n",
      "Requirement already satisfied: joblib>=1.1.1 in /opt/conda/lib/python3.10/site-packages (from scikit-learn->shap) (1.3.0)\n",
      "Requirement already satisfied: threadpoolctl>=2.0.0 in /opt/conda/lib/python3.10/site-packages (from scikit-learn->shap) (3.1.0)\n",
      "Requirement already satisfied: six>=1.5 in /opt/conda/lib/python3.10/site-packages (from python-dateutil>=2.8.2->pandas->shap) (1.16.0)\n"
     ]
    }
   ],
   "source": [
    "!pip install shap"
   ]
  },
  {
   "cell_type": "code",
   "execution_count": 76,
   "metadata": {
    "tags": []
   },
   "outputs": [],
   "source": [
    "import shap\n",
    "np.bool=bool"
   ]
  },
  {
   "cell_type": "markdown",
   "metadata": {},
   "source": [
    "Shap is very heavy and takes a long time to compute. <br> \n",
    "To facilitate execution and reduce computing time, we'll work on the **first 5000 rows** of X_train. "
   ]
  },
  {
   "cell_type": "code",
   "execution_count": 77,
   "metadata": {
    "tags": []
   },
   "outputs": [],
   "source": [
    "dataset_shap = X_train[:5000]"
   ]
  },
  {
   "cell_type": "markdown",
   "metadata": {},
   "source": [
    "**Question 10**: <br>\n",
    "**Create an object that can compute the shap values using `shap.Explainer`** <br>\n"
   ]
  },
  {
   "cell_type": "code",
   "execution_count": 78,
   "metadata": {},
   "outputs": [],
   "source": [
    "explainer = shap.Explainer(randomforest)"
   ]
  },
  {
   "cell_type": "markdown",
   "metadata": {},
   "source": [
    "**Now, compute the shap values of a trained model with `.shap_values()`.** <br>\n",
    "Save the computed shap values in a `shap_values` variable."
   ]
  },
  {
   "cell_type": "code",
   "execution_count": 80,
   "metadata": {
    "tags": []
   },
   "outputs": [],
   "source": [
    "shap_values = explainer.shap_values(dataset_shap)"
   ]
  },
  {
   "cell_type": "markdown",
   "metadata": {},
   "source": [
    "**Question 11**: <br>\n",
    "**Create multiple shap summary plots using `shap.summary_plot()`**:\n",
    "- Create the first plot with `shap_values` \n",
    "- Create the second plot with `shap_values[0]` and `plot_type=\"dot\"` "
   ]
  },
  {
   "cell_type": "code",
   "execution_count": 81,
   "metadata": {
    "tags": []
   },
   "outputs": [
    {
     "data": {
      "image/png": "[encoded data removed]",
      "text/plain": [
       "<Figure size 800x950 with 1 Axes>"
      ]
     },
     "metadata": {},
     "output_type": "display_data"
    }
   ],
   "source": [
    "# First plot\n",
    "shap.summary_plot(shap_values, dataset_shap)"
   ]
  },
  {
   "cell_type": "code",
   "execution_count": 82,
   "metadata": {
    "tags": []
   },
   "outputs": [
    {
     "name": "stderr",
     "output_type": "stream",
     "text": [
      "No data for colormapping provided via 'c'. Parameters 'vmin', 'vmax' will be ignored\n"
     ]
    },
    {
     "data": {
      "image/png": "[encoded data removed]",
      "text/plain": [
       "<Figure size 800x950 with 2 Axes>"
      ]
     },
     "metadata": {},
     "output_type": "display_data"
    }
   ],
   "source": [
    "# Second plot\n",
    "shap.summary_plot(shap_values[0], dataset_shap, plot_type=\"dot\")"
   ]
  },
  {
   "cell_type": "markdown",
   "metadata": {},
   "source": [
    "**Question 12 (Bonus)**: <br>\n",
    "**Display other shap plots**"
   ]
  },
  {
   "cell_type": "code",
   "execution_count": null,
   "metadata": {},
   "outputs": [],
   "source": []
  },
  {
   "cell_type": "markdown",
   "metadata": {},
   "source": [
    "## **4. Deep Learning (Bonus)**\n",
    "\n",
    "**We will start by importing one of Python's Deep Learning libraries `tensorflow`/`keras`.**"
   ]
  },
  {
   "cell_type": "code",
   "execution_count": 85,
   "metadata": {},
   "outputs": [
    {
     "name": "stderr",
     "output_type": "stream",
     "text": [
      "2023-08-29 07:03:29.162812: I tensorflow/core/platform/cpu_feature_guard.cc:193] This TensorFlow binary is optimized with oneAPI Deep Neural Network Library (oneDNN) to use the following CPU instructions in performance-critical operations:  AVX2 AVX512F AVX512_VNNI FMA\n",
      "To enable them in other operations, rebuild TensorFlow with the appropriate compiler flags.\n"
     ]
    }
   ],
   "source": [
    "import tensorflow as tf\n",
    "from tensorflow import feature_column\n",
    "from tensorflow.keras import layers"
   ]
  },
  {
   "cell_type": "markdown",
   "metadata": {},
   "source": [
    "**Now should run the following cells to prepare the data to train a Deep Learning model.** <br>\n",
    "*`dataset` should be the dataframe you transformed with data pre-processing (Onehotencoded, LabelEncoder,...).* "
   ]
  },
  {
   "cell_type": "code",
   "execution_count": 89,
   "metadata": {
    "tags": []
   },
   "outputs": [],
   "source": [
    "dataset_DL = dataset.copy()"
   ]
  },
  {
   "cell_type": "code",
   "execution_count": 90,
   "metadata": {},
   "outputs": [
    {
     "data": {
      "text/plain": [
       "['Order_Item_Profit_Ratio',\n",
       " 'Sales',\n",
       " 'Order_Item_Total',\n",
       " 'Order_Profit_Per_Order',\n",
       " 'Product_Price']"
      ]
     },
     "execution_count": 90,
     "metadata": {},
     "output_type": "execute_result"
    }
   ],
   "source": [
    "col_names = list(dataset_DL.keys())\n",
    "col_names_replace = [sub.replace(\" \", \"_\") for sub in col_names]\n",
    "col_names_replace[-5:]"
   ]
  },
  {
   "cell_type": "code",
   "execution_count": 91,
   "metadata": {},
   "outputs": [],
   "source": [
    "dict_map = {}\n",
    "for key,value in zip(col_names, col_names_replace):\n",
    "  dict_map[key] = value"
   ]
  },
  {
   "cell_type": "code",
   "execution_count": 92,
   "metadata": {},
   "outputs": [],
   "source": [
    "dataset_DL.columns = dataset_DL.columns.map(dict_map)"
   ]
  },
  {
   "cell_type": "code",
   "execution_count": 93,
   "metadata": {},
   "outputs": [],
   "source": [
    "def df_to_dataset(dataframe, shuffle=True, batch_size=32):\n",
    "  dataframe = dataframe.copy()\n",
    "  labels = dataframe.pop('Late_delivery_risk')\n",
    "  ds = tf.data.Dataset.from_tensor_slices((dict(dataframe), labels))\n",
    "  if shuffle:\n",
    "    ds = ds.shuffle(buffer_size=len(dataframe))\n",
    "  ds = ds.batch(batch_size)\n",
    "  return ds"
   ]
  },
  {
   "cell_type": "code",
   "execution_count": 94,
   "metadata": {},
   "outputs": [],
   "source": [
    "feature_columns = []\n",
    "# numeric cols\n",
    "for header in X.keys():\n",
    "  feature_columns.append(feature_column.numeric_column(header))"
   ]
  },
  {
   "cell_type": "code",
   "execution_count": 95,
   "metadata": {},
   "outputs": [],
   "source": [
    "feature_layer = tf.keras.layers.DenseFeatures(feature_columns)"
   ]
  },
  {
   "cell_type": "code",
   "execution_count": 97,
   "metadata": {
    "tags": []
   },
   "outputs": [],
   "source": [
    "train, test = train_test_split(dataset_DL, test_size=0.2)\n",
    "train, val = train_test_split(train, test_size=0.2)"
   ]
  },
  {
   "cell_type": "code",
   "execution_count": 98,
   "metadata": {},
   "outputs": [
    {
     "name": "stderr",
     "output_type": "stream",
     "text": [
      "2023-08-29 07:05:09.316000: W tensorflow/compiler/xla/stream_executor/platform/default/dso_loader.cc:64] Could not load dynamic library 'libcuda.so.1'; dlerror: libcuda.so.1: cannot open shared object file: No such file or directory; LD_LIBRARY_PATH: /opt/conda/lib:/opt/conda/lib/python3.10/site-packages/tensorrt_libs:/usr/local/cuda/lib64:/usr/local/nvidia/lib:/usr/local/nvidia/lib64:/opt/conda/lib:/opt/conda/lib/python3.10/site-packages/tensorrt_libs:/usr/local/cuda/lib64:/usr/local/nvidia/lib:/usr/local/nvidia/lib64\n",
      "2023-08-29 07:05:09.316046: W tensorflow/compiler/xla/stream_executor/cuda/cuda_driver.cc:265] failed call to cuInit: UNKNOWN ERROR (303)\n",
      "2023-08-29 07:05:09.316083: I tensorflow/compiler/xla/stream_executor/cuda/cuda_diagnostics.cc:163] no NVIDIA GPU device is present: /dev/nvidia0 does not exist\n",
      "2023-08-29 07:05:09.316417: I tensorflow/core/platform/cpu_feature_guard.cc:193] This TensorFlow binary is optimized with oneAPI Deep Neural Network Library (oneDNN) to use the following CPU instructions in performance-critical operations:  AVX2 AVX512F AVX512_VNNI FMA\n",
      "To enable them in other operations, rebuild TensorFlow with the appropriate compiler flags.\n"
     ]
    }
   ],
   "source": [
    "batch_size = 32 # A small batch sized is used for demonstration purposes\n",
    "train_ds = df_to_dataset(train, batch_size=batch_size)\n",
    "val_ds = df_to_dataset(val, shuffle=False, batch_size=batch_size)\n",
    "test_ds = df_to_dataset(test, shuffle=False, batch_size=batch_size)"
   ]
  },
  {
   "cell_type": "markdown",
   "metadata": {},
   "source": [
    "**Question 14** <br>\n",
    "**Make a small neural network model using `tensorflow`/`keras`, and print the accuracy**\n",
    "\n",
    "*Note: You can use the following elements to train the neural network* <br>\n",
    "- *`tf.keras.Sequential`*\n",
    "- *`layers.Dense(INTEGER, activation='relu')`*,\n",
    "- *`tf.keras.losses.BinaryCrossentropy`*\n",
    "- *`model.compile(optimizer='adam', ...)`* \n",
    "- *`model.fit`*\n",
    "- *`model.evaluate`* with epoch ~= 10"
   ]
  },
  {
   "cell_type": "code",
   "execution_count": 99,
   "metadata": {},
   "outputs": [],
   "source": [
    "model = tf.keras.Sequential([\n",
    "\n",
    "  feature_layer,\n",
    "  layers.Dense(128, activation='relu'),\n",
    "  layers.Dense(128, activation='relu'),\n",
    "  layers.Dense(1)\n",
    "])"
   ]
  },
  {
   "cell_type": "code",
   "execution_count": 100,
   "metadata": {
    "tags": []
   },
   "outputs": [],
   "source": [
    "model.compile(optimizer='adam',\n",
    "              loss=tf.keras.losses.BinaryCrossentropy(from_logits=True),\n",
    "              metrics=['accuracy'])"
   ]
  },
  {
   "cell_type": "code",
   "execution_count": 101,
   "metadata": {
    "tags": []
   },
   "outputs": [
    {
     "name": "stdout",
     "output_type": "stream",
     "text": [
      "Epoch 1/5\n",
      "WARNING:tensorflow:Layers in a Sequential model should only have a single input tensor. Received: inputs={'Category_Id': <tf.Tensor 'IteratorGetNext:1' shape=(None,) dtype=int64>, 'Category_Name': <tf.Tensor 'IteratorGetNext:2' shape=(None,) dtype=int64>, 'Customer_City': <tf.Tensor 'IteratorGetNext:3' shape=(None,) dtype=int64>, 'Customer_Id': <tf.Tensor 'IteratorGetNext:6' shape=(None,) dtype=int64>, 'Customer_State': <tf.Tensor 'IteratorGetNext:10' shape=(None,) dtype=int64>, 'Order_City': <tf.Tensor 'IteratorGetNext:41' shape=(None,) dtype=int64>, 'Order_Country': <tf.Tensor 'IteratorGetNext:42' shape=(None,) dtype=int64>, 'Order_Customer_Id': <tf.Tensor 'IteratorGetNext:43' shape=(None,) dtype=int64>, 'order_date_(DateOrders)': <tf.Tensor 'IteratorGetNext:82' shape=(None,) dtype=int64>, 'Order_Id': <tf.Tensor 'IteratorGetNext:44' shape=(None,) dtype=int64>, 'Order_Item_Cardprod_Id': <tf.Tensor 'IteratorGetNext:45' shape=(None,) dtype=int64>, 'Order_Item_Id': <tf.Tensor 'IteratorGetNext:48' shape=(None,) dtype=int64>, 'Order_Region': <tf.Tensor 'IteratorGetNext:58' shape=(None,) dtype=int64>, 'Order_State': <tf.Tensor 'IteratorGetNext:59' shape=(None,) dtype=int64>, 'Product_Category_Id': <tf.Tensor 'IteratorGetNext:69' shape=(None,) dtype=int64>, 'Product_Image': <tf.Tensor 'IteratorGetNext:70' shape=(None,) dtype=int64>, 'Product_Name': <tf.Tensor 'IteratorGetNext:71' shape=(None,) dtype=int64>, 'shipping_date_(DateOrders)': <tf.Tensor 'IteratorGetNext:83' shape=(None,) dtype=int64>, 'Type_CASH': <tf.Tensor 'IteratorGetNext:78' shape=(None,) dtype=float64>, 'Type_DEBIT': <tf.Tensor 'IteratorGetNext:79' shape=(None,) dtype=float64>, 'Type_PAYMENT': <tf.Tensor 'IteratorGetNext:80' shape=(None,) dtype=float64>, 'Type_TRANSFER': <tf.Tensor 'IteratorGetNext:81' shape=(None,) dtype=float64>, 'Customer_Country_EE._UU.': <tf.Tensor 'IteratorGetNext:4' shape=(None,) dtype=float64>, 'Customer_Country_Puerto_Rico': <tf.Tensor 'IteratorGetNext:5' shape=(None,) dtype=float64>, 'Customer_Segment_Consumer': <tf.Tensor 'IteratorGetNext:7' shape=(None,) dtype=float64>, 'Customer_Segment_Corporate': <tf.Tensor 'IteratorGetNext:8' shape=(None,) dtype=float64>, 'Customer_Segment_Home_Office': <tf.Tensor 'IteratorGetNext:9' shape=(None,) dtype=float64>, 'Department_Id_2': <tf.Tensor 'IteratorGetNext:15' shape=(None,) dtype=float64>, 'Department_Id_3': <tf.Tensor 'IteratorGetNext:16' shape=(None,) dtype=float64>, 'Department_Id_4': <tf.Tensor 'IteratorGetNext:17' shape=(None,) dtype=float64>, 'Department_Id_5': <tf.Tensor 'IteratorGetNext:18' shape=(None,) dtype=float64>, 'Department_Id_6': <tf.Tensor 'IteratorGetNext:19' shape=(None,) dtype=float64>, 'Department_Id_7': <tf.Tensor 'IteratorGetNext:20' shape=(None,) dtype=float64>, 'Department_Id_8': <tf.Tensor 'IteratorGetNext:21' shape=(None,) dtype=float64>, 'Department_Id_9': <tf.Tensor 'IteratorGetNext:22' shape=(None,) dtype=float64>, 'Department_Id_10': <tf.Tensor 'IteratorGetNext:12' shape=(None,) dtype=float64>, 'Department_Id_11': <tf.Tensor 'IteratorGetNext:13' shape=(None,) dtype=float64>, 'Department_Id_12': <tf.Tensor 'IteratorGetNext:14' shape=(None,) dtype=float64>, 'Department_Name_Apparel': <tf.Tensor 'IteratorGetNext:23' shape=(None,) dtype=float64>, 'Department_Name_Book_Shop': <tf.Tensor 'IteratorGetNext:24' shape=(None,) dtype=float64>, 'Department_Name_Discs_Shop': <tf.Tensor 'IteratorGetNext:25' shape=(None,) dtype=float64>, 'Department_Name_Fan_Shop': <tf.Tensor 'IteratorGetNext:26' shape=(None,) dtype=float64>, 'Department_Name_Fitness': <tf.Tensor 'IteratorGetNext:27' shape=(None,) dtype=float64>, 'Department_Name_Footwear': <tf.Tensor 'IteratorGetNext:28' shape=(None,) dtype=float64>, 'Department_Name_Golf': <tf.Tensor 'IteratorGetNext:29' shape=(None,) dtype=float64>, 'Department_Name_Health_and_Beauty_': <tf.Tensor 'IteratorGetNext:30' shape=(None,) dtype=float64>, 'Department_Name_Outdoors': <tf.Tensor 'IteratorGetNext:31' shape=(None,) dtype=float64>, 'Department_Name_Pet_Shop': <tf.Tensor 'IteratorGetNext:32' shape=(None,) dtype=float64>, 'Department_Name_Technology': <tf.Tensor 'IteratorGetNext:33' shape=(None,) dtype=float64>, 'Market_Africa': <tf.Tensor 'IteratorGetNext:36' shape=(None,) dtype=float64>, 'Market_Europe': <tf.Tensor 'IteratorGetNext:37' shape=(None,) dtype=float64>, 'Market_LATAM': <tf.Tensor 'IteratorGetNext:38' shape=(None,) dtype=float64>, 'Market_Pacific_Asia': <tf.Tensor 'IteratorGetNext:39' shape=(None,) dtype=float64>, 'Market_USCA': <tf.Tensor 'IteratorGetNext:40' shape=(None,) dtype=float64>, 'Order_Item_Quantity_1': <tf.Tensor 'IteratorGetNext:51' shape=(None,) dtype=float64>, 'Order_Item_Quantity_2': <tf.Tensor 'IteratorGetNext:52' shape=(None,) dtype=float64>, 'Order_Item_Quantity_3': <tf.Tensor 'IteratorGetNext:53' shape=(None,) dtype=float64>, 'Order_Item_Quantity_4': <tf.Tensor 'IteratorGetNext:54' shape=(None,) dtype=float64>, 'Order_Item_Quantity_5': <tf.Tensor 'IteratorGetNext:55' shape=(None,) dtype=float64>, 'Order_Status_CANCELED': <tf.Tensor 'IteratorGetNext:60' shape=(None,) dtype=float64>, 'Order_Status_CLOSED': <tf.Tensor 'IteratorGetNext:61' shape=(None,) dtype=float64>, 'Order_Status_COMPLETE': <tf.Tensor 'IteratorGetNext:62' shape=(None,) dtype=float64>, 'Order_Status_ON_HOLD': <tf.Tensor 'IteratorGetNext:63' shape=(None,) dtype=float64>, 'Order_Status_PAYMENT_REVIEW': <tf.Tensor 'IteratorGetNext:64' shape=(None,) dtype=float64>, 'Order_Status_PENDING': <tf.Tensor 'IteratorGetNext:65' shape=(None,) dtype=float64>, 'Order_Status_PENDING_PAYMENT': <tf.Tensor 'IteratorGetNext:66' shape=(None,) dtype=float64>, 'Order_Status_PROCESSING': <tf.Tensor 'IteratorGetNext:67' shape=(None,) dtype=float64>, 'Order_Status_SUSPECTED_FRAUD': <tf.Tensor 'IteratorGetNext:68' shape=(None,) dtype=float64>, 'Shipping_Mode_First_Class': <tf.Tensor 'IteratorGetNext:74' shape=(None,) dtype=float64>, 'Shipping_Mode_Same_Day': <tf.Tensor 'IteratorGetNext:75' shape=(None,) dtype=float64>, 'Shipping_Mode_Second_Class': <tf.Tensor 'IteratorGetNext:76' shape=(None,) dtype=float64>, 'Shipping_Mode_Standard_Class': <tf.Tensor 'IteratorGetNext:77' shape=(None,) dtype=float64>, 'Benefit_per_order': <tf.Tensor 'IteratorGetNext:0' shape=(None,) dtype=float64>, 'Customer_Zipcode': <tf.Tensor 'IteratorGetNext:11' shape=(None,) dtype=float64>, 'Latitude': <tf.Tensor 'IteratorGetNext:34' shape=(None,) dtype=float64>, 'Longitude': <tf.Tensor 'IteratorGetNext:35' shape=(None,) dtype=float64>, 'Order_Item_Discount': <tf.Tensor 'IteratorGetNext:46' shape=(None,) dtype=float64>, 'Order_Item_Discount_Rate': <tf.Tensor 'IteratorGetNext:47' shape=(None,) dtype=float64>, 'Order_Item_Product_Price': <tf.Tensor 'IteratorGetNext:49' shape=(None,) dtype=float64>, 'Order_Item_Profit_Ratio': <tf.Tensor 'IteratorGetNext:50' shape=(None,) dtype=float64>, 'Sales': <tf.Tensor 'IteratorGetNext:73' shape=(None,) dtype=float64>, 'Order_Item_Total': <tf.Tensor 'IteratorGetNext:56' shape=(None,) dtype=float64>, 'Order_Profit_Per_Order': <tf.Tensor 'IteratorGetNext:57' shape=(None,) dtype=float64>, 'Product_Price': <tf.Tensor 'IteratorGetNext:72' shape=(None,) dtype=float64>}. Consider rewriting this model with the Functional API.\n"
     ]
    },
    {
     "ename": "ValueError",
     "evalue": "in user code:\n\n    File \"/opt/conda/lib/python3.10/site-packages/keras/engine/training.py\", line 1249, in train_function  *\n        return step_function(self, iterator)\n    File \"/opt/conda/lib/python3.10/site-packages/keras/engine/training.py\", line 1233, in step_function  **\n        outputs = model.distribute_strategy.run(run_step, args=(data,))\n    File \"/opt/conda/lib/python3.10/site-packages/keras/engine/training.py\", line 1222, in run_step  **\n        outputs = model.train_step(data)\n    File \"/opt/conda/lib/python3.10/site-packages/keras/engine/training.py\", line 1023, in train_step\n        y_pred = self(x, training=True)\n    File \"/opt/conda/lib/python3.10/site-packages/keras/utils/traceback_utils.py\", line 70, in error_handler\n        raise e.with_traceback(filtered_tb) from None\n    File \"/opt/conda/lib/python3.10/contextlib.py\", line 135, in __enter__\n        return next(self.gen)\n\n    ValueError: Exception encountered when calling layer 'dense_features' (type DenseFeatures).\n    \n    'Benefit per order' is not a valid scope name. A scope name has to match the following pattern: ^[A-Za-z0-9_.\\\\/>-]*$\n    \n    Call arguments received by layer 'dense_features' (type DenseFeatures):\n      • features={'Category_Id': 'tf.Tensor(shape=(None,), dtype=int64)', 'Category_Name': 'tf.Tensor(shape=(None,), dtype=int64)', 'Customer_City': 'tf.Tensor(shape=(None,), dtype=int64)', 'Customer_Id': 'tf.Tensor(shape=(None,), dtype=int64)', 'Customer_State': 'tf.Tensor(shape=(None,), dtype=int64)', 'Order_City': 'tf.Tensor(shape=(None,), dtype=int64)', 'Order_Country': 'tf.Tensor(shape=(None,), dtype=int64)', 'Order_Customer_Id': 'tf.Tensor(shape=(None,), dtype=int64)', 'order_date_(DateOrders)': 'tf.Tensor(shape=(None,), dtype=int64)', 'Order_Id': 'tf.Tensor(shape=(None,), dtype=int64)', 'Order_Item_Cardprod_Id': 'tf.Tensor(shape=(None,), dtype=int64)', 'Order_Item_Id': 'tf.Tensor(shape=(None,), dtype=int64)', 'Order_Region': 'tf.Tensor(shape=(None,), dtype=int64)', 'Order_State': 'tf.Tensor(shape=(None,), dtype=int64)', 'Product_Category_Id': 'tf.Tensor(shape=(None,), dtype=int64)', 'Product_Image': 'tf.Tensor(shape=(None,), dtype=int64)', 'Product_Name': 'tf.Tensor(shape=(None,), dtype=int64)', 'shipping_date_(DateOrders)': 'tf.Tensor(shape=(None,), dtype=int64)', 'Type_CASH': 'tf.Tensor(shape=(None,), dtype=float32)', 'Type_DEBIT': 'tf.Tensor(shape=(None,), dtype=float32)', 'Type_PAYMENT': 'tf.Tensor(shape=(None,), dtype=float32)', 'Type_TRANSFER': 'tf.Tensor(shape=(None,), dtype=float32)', 'Customer_Country_EE._UU.': 'tf.Tensor(shape=(None,), dtype=float32)', 'Customer_Country_Puerto_Rico': 'tf.Tensor(shape=(None,), dtype=float32)', 'Customer_Segment_Consumer': 'tf.Tensor(shape=(None,), dtype=float32)', 'Customer_Segment_Corporate': 'tf.Tensor(shape=(None,), dtype=float32)', 'Customer_Segment_Home_Office': 'tf.Tensor(shape=(None,), dtype=float32)', 'Department_Id_2': 'tf.Tensor(shape=(None,), dtype=float32)', 'Department_Id_3': 'tf.Tensor(shape=(None,), dtype=float32)', 'Department_Id_4': 'tf.Tensor(shape=(None,), dtype=float32)', 'Department_Id_5': 'tf.Tensor(shape=(None,), dtype=float32)', 'Department_Id_6': 'tf.Tensor(shape=(None,), dtype=float32)', 'Department_Id_7': 'tf.Tensor(shape=(None,), dtype=float32)', 'Department_Id_8': 'tf.Tensor(shape=(None,), dtype=float32)', 'Department_Id_9': 'tf.Tensor(shape=(None,), dtype=float32)', 'Department_Id_10': 'tf.Tensor(shape=(None,), dtype=float32)', 'Department_Id_11': 'tf.Tensor(shape=(None,), dtype=float32)', 'Department_Id_12': 'tf.Tensor(shape=(None,), dtype=float32)', 'Department_Name_Apparel': 'tf.Tensor(shape=(None,), dtype=float32)', 'Department_Name_Book_Shop': 'tf.Tensor(shape=(None,), dtype=float32)', 'Department_Name_Discs_Shop': 'tf.Tensor(shape=(None,), dtype=float32)', 'Department_Name_Fan_Shop': 'tf.Tensor(shape=(None,), dtype=float32)', 'Department_Name_Fitness': 'tf.Tensor(shape=(None,), dtype=float32)', 'Department_Name_Footwear': 'tf.Tensor(shape=(None,), dtype=float32)', 'Department_Name_Golf': 'tf.Tensor(shape=(None,), dtype=float32)', 'Department_Name_Health_and_Beauty_': 'tf.Tensor(shape=(None,), dtype=float32)', 'Department_Name_Outdoors': 'tf.Tensor(shape=(None,), dtype=float32)', 'Department_Name_Pet_Shop': 'tf.Tensor(shape=(None,), dtype=float32)', 'Department_Name_Technology': 'tf.Tensor(shape=(None,), dtype=float32)', 'Market_Africa': 'tf.Tensor(shape=(None,), dtype=float32)', 'Market_Europe': 'tf.Tensor(shape=(None,), dtype=float32)', 'Market_LATAM': 'tf.Tensor(shape=(None,), dtype=float32)', 'Market_Pacific_Asia': 'tf.Tensor(shape=(None,), dtype=float32)', 'Market_USCA': 'tf.Tensor(shape=(None,), dtype=float32)', 'Order_Item_Quantity_1': 'tf.Tensor(shape=(None,), dtype=float32)', 'Order_Item_Quantity_2': 'tf.Tensor(shape=(None,), dtype=float32)', 'Order_Item_Quantity_3': 'tf.Tensor(shape=(None,), dtype=float32)', 'Order_Item_Quantity_4': 'tf.Tensor(shape=(None,), dtype=float32)', 'Order_Item_Quantity_5': 'tf.Tensor(shape=(None,), dtype=float32)', 'Order_Status_CANCELED': 'tf.Tensor(shape=(None,), dtype=float32)', 'Order_Status_CLOSED': 'tf.Tensor(shape=(None,), dtype=float32)', 'Order_Status_COMPLETE': 'tf.Tensor(shape=(None,), dtype=float32)', 'Order_Status_ON_HOLD': 'tf.Tensor(shape=(None,), dtype=float32)', 'Order_Status_PAYMENT_REVIEW': 'tf.Tensor(shape=(None,), dtype=float32)', 'Order_Status_PENDING': 'tf.Tensor(shape=(None,), dtype=float32)', 'Order_Status_PENDING_PAYMENT': 'tf.Tensor(shape=(None,), dtype=float32)', 'Order_Status_PROCESSING': 'tf.Tensor(shape=(None,), dtype=float32)', 'Order_Status_SUSPECTED_FRAUD': 'tf.Tensor(shape=(None,), dtype=float32)', 'Shipping_Mode_First_Class': 'tf.Tensor(shape=(None,), dtype=float32)', 'Shipping_Mode_Same_Day': 'tf.Tensor(shape=(None,), dtype=float32)', 'Shipping_Mode_Second_Class': 'tf.Tensor(shape=(None,), dtype=float32)', 'Shipping_Mode_Standard_Class': 'tf.Tensor(shape=(None,), dtype=float32)', 'Benefit_per_order': 'tf.Tensor(shape=(None,), dtype=float32)', 'Customer_Zipcode': 'tf.Tensor(shape=(None,), dtype=float32)', 'Latitude': 'tf.Tensor(shape=(None,), dtype=float32)', 'Longitude': 'tf.Tensor(shape=(None,), dtype=float32)', 'Order_Item_Discount': 'tf.Tensor(shape=(None,), dtype=float32)', 'Order_Item_Discount_Rate': 'tf.Tensor(shape=(None,), dtype=float32)', 'Order_Item_Product_Price': 'tf.Tensor(shape=(None,), dtype=float32)', 'Order_Item_Profit_Ratio': 'tf.Tensor(shape=(None,), dtype=float32)', 'Sales': 'tf.Tensor(shape=(None,), dtype=float32)', 'Order_Item_Total': 'tf.Tensor(shape=(None,), dtype=float32)', 'Order_Profit_Per_Order': 'tf.Tensor(shape=(None,), dtype=float32)', 'Product_Price': 'tf.Tensor(shape=(None,), dtype=float32)'}\n      • cols_to_output_tensors=None\n      • training=True\n",
     "output_type": "error",
     "traceback": [
      "\u001b[0;31m---------------------------------------------------------------------------\u001b[0m",
      "\u001b[0;31mValueError\u001b[0m                                Traceback (most recent call last)",
      "Cell \u001b[0;32mIn[101], line 1\u001b[0m\n\u001b[0;32m----> 1\u001b[0m \u001b[43mmodel\u001b[49m\u001b[38;5;241;43m.\u001b[39;49m\u001b[43mfit\u001b[49m\u001b[43m(\u001b[49m\u001b[43mtrain_ds\u001b[49m\u001b[43m,\u001b[49m\n\u001b[1;32m      2\u001b[0m \u001b[43m          \u001b[49m\u001b[43mvalidation_data\u001b[49m\u001b[38;5;241;43m=\u001b[39;49m\u001b[43mval_ds\u001b[49m\u001b[43m,\u001b[49m\n\u001b[1;32m      3\u001b[0m \u001b[43m          \u001b[49m\u001b[43mepochs\u001b[49m\u001b[38;5;241;43m=\u001b[39;49m\u001b[38;5;241;43m5\u001b[39;49m\u001b[43m)\u001b[49m\n",
      "File \u001b[0;32m/opt/conda/lib/python3.10/site-packages/keras/utils/traceback_utils.py:70\u001b[0m, in \u001b[0;36mfilter_traceback.<locals>.error_handler\u001b[0;34m(*args, **kwargs)\u001b[0m\n\u001b[1;32m     67\u001b[0m     filtered_tb \u001b[38;5;241m=\u001b[39m _process_traceback_frames(e\u001b[38;5;241m.\u001b[39m__traceback__)\n\u001b[1;32m     68\u001b[0m     \u001b[38;5;66;03m# To get the full stack trace, call:\u001b[39;00m\n\u001b[1;32m     69\u001b[0m     \u001b[38;5;66;03m# `tf.debugging.disable_traceback_filtering()`\u001b[39;00m\n\u001b[0;32m---> 70\u001b[0m     \u001b[38;5;28;01mraise\u001b[39;00m e\u001b[38;5;241m.\u001b[39mwith_traceback(filtered_tb) \u001b[38;5;28;01mfrom\u001b[39;00m \u001b[38;5;28;01mNone\u001b[39;00m\n\u001b[1;32m     71\u001b[0m \u001b[38;5;28;01mfinally\u001b[39;00m:\n\u001b[1;32m     72\u001b[0m     \u001b[38;5;28;01mdel\u001b[39;00m filtered_tb\n",
      "File \u001b[0;32m/tmp/__autograph_generated_file9etcrccn.py:15\u001b[0m, in \u001b[0;36mouter_factory.<locals>.inner_factory.<locals>.tf__train_function\u001b[0;34m(iterator)\u001b[0m\n\u001b[1;32m     13\u001b[0m \u001b[38;5;28;01mtry\u001b[39;00m:\n\u001b[1;32m     14\u001b[0m     do_return \u001b[38;5;241m=\u001b[39m \u001b[38;5;28;01mTrue\u001b[39;00m\n\u001b[0;32m---> 15\u001b[0m     retval_ \u001b[38;5;241m=\u001b[39m ag__\u001b[38;5;241m.\u001b[39mconverted_call(ag__\u001b[38;5;241m.\u001b[39mld(step_function), (ag__\u001b[38;5;241m.\u001b[39mld(\u001b[38;5;28mself\u001b[39m), ag__\u001b[38;5;241m.\u001b[39mld(iterator)), \u001b[38;5;28;01mNone\u001b[39;00m, fscope)\n\u001b[1;32m     16\u001b[0m \u001b[38;5;28;01mexcept\u001b[39;00m:\n\u001b[1;32m     17\u001b[0m     do_return \u001b[38;5;241m=\u001b[39m \u001b[38;5;28;01mFalse\u001b[39;00m\n",
      "File \u001b[0;32m/opt/conda/lib/python3.10/contextlib.py:135\u001b[0m, in \u001b[0;36m_GeneratorContextManager.__enter__\u001b[0;34m(self)\u001b[0m\n\u001b[1;32m    133\u001b[0m \u001b[38;5;28;01mdel\u001b[39;00m \u001b[38;5;28mself\u001b[39m\u001b[38;5;241m.\u001b[39margs, \u001b[38;5;28mself\u001b[39m\u001b[38;5;241m.\u001b[39mkwds, \u001b[38;5;28mself\u001b[39m\u001b[38;5;241m.\u001b[39mfunc\n\u001b[1;32m    134\u001b[0m \u001b[38;5;28;01mtry\u001b[39;00m:\n\u001b[0;32m--> 135\u001b[0m     \u001b[38;5;28;01mreturn\u001b[39;00m \u001b[38;5;28mnext\u001b[39m(\u001b[38;5;28mself\u001b[39m\u001b[38;5;241m.\u001b[39mgen)\n\u001b[1;32m    136\u001b[0m \u001b[38;5;28;01mexcept\u001b[39;00m \u001b[38;5;167;01mStopIteration\u001b[39;00m:\n\u001b[1;32m    137\u001b[0m     \u001b[38;5;28;01mraise\u001b[39;00m \u001b[38;5;167;01mRuntimeError\u001b[39;00m(\u001b[38;5;124m\"\u001b[39m\u001b[38;5;124mgenerator didn\u001b[39m\u001b[38;5;124m'\u001b[39m\u001b[38;5;124mt yield\u001b[39m\u001b[38;5;124m\"\u001b[39m) \u001b[38;5;28;01mfrom\u001b[39;00m \u001b[38;5;28;01mNone\u001b[39;00m\n",
      "\u001b[0;31mValueError\u001b[0m: in user code:\n\n    File \"/opt/conda/lib/python3.10/site-packages/keras/engine/training.py\", line 1249, in train_function  *\n        return step_function(self, iterator)\n    File \"/opt/conda/lib/python3.10/site-packages/keras/engine/training.py\", line 1233, in step_function  **\n        outputs = model.distribute_strategy.run(run_step, args=(data,))\n    File \"/opt/conda/lib/python3.10/site-packages/keras/engine/training.py\", line 1222, in run_step  **\n        outputs = model.train_step(data)\n    File \"/opt/conda/lib/python3.10/site-packages/keras/engine/training.py\", line 1023, in train_step\n        y_pred = self(x, training=True)\n    File \"/opt/conda/lib/python3.10/site-packages/keras/utils/traceback_utils.py\", line 70, in error_handler\n        raise e.with_traceback(filtered_tb) from None\n    File \"/opt/conda/lib/python3.10/contextlib.py\", line 135, in __enter__\n        return next(self.gen)\n\n    ValueError: Exception encountered when calling layer 'dense_features' (type DenseFeatures).\n    \n    'Benefit per order' is not a valid scope name. A scope name has to match the following pattern: ^[A-Za-z0-9_.\\\\/>-]*$\n    \n    Call arguments received by layer 'dense_features' (type DenseFeatures):\n      • features={'Category_Id': 'tf.Tensor(shape=(None,), dtype=int64)', 'Category_Name': 'tf.Tensor(shape=(None,), dtype=int64)', 'Customer_City': 'tf.Tensor(shape=(None,), dtype=int64)', 'Customer_Id': 'tf.Tensor(shape=(None,), dtype=int64)', 'Customer_State': 'tf.Tensor(shape=(None,), dtype=int64)', 'Order_City': 'tf.Tensor(shape=(None,), dtype=int64)', 'Order_Country': 'tf.Tensor(shape=(None,), dtype=int64)', 'Order_Customer_Id': 'tf.Tensor(shape=(None,), dtype=int64)', 'order_date_(DateOrders)': 'tf.Tensor(shape=(None,), dtype=int64)', 'Order_Id': 'tf.Tensor(shape=(None,), dtype=int64)', 'Order_Item_Cardprod_Id': 'tf.Tensor(shape=(None,), dtype=int64)', 'Order_Item_Id': 'tf.Tensor(shape=(None,), dtype=int64)', 'Order_Region': 'tf.Tensor(shape=(None,), dtype=int64)', 'Order_State': 'tf.Tensor(shape=(None,), dtype=int64)', 'Product_Category_Id': 'tf.Tensor(shape=(None,), dtype=int64)', 'Product_Image': 'tf.Tensor(shape=(None,), dtype=int64)', 'Product_Name': 'tf.Tensor(shape=(None,), dtype=int64)', 'shipping_date_(DateOrders)': 'tf.Tensor(shape=(None,), dtype=int64)', 'Type_CASH': 'tf.Tensor(shape=(None,), dtype=float32)', 'Type_DEBIT': 'tf.Tensor(shape=(None,), dtype=float32)', 'Type_PAYMENT': 'tf.Tensor(shape=(None,), dtype=float32)', 'Type_TRANSFER': 'tf.Tensor(shape=(None,), dtype=float32)', 'Customer_Country_EE._UU.': 'tf.Tensor(shape=(None,), dtype=float32)', 'Customer_Country_Puerto_Rico': 'tf.Tensor(shape=(None,), dtype=float32)', 'Customer_Segment_Consumer': 'tf.Tensor(shape=(None,), dtype=float32)', 'Customer_Segment_Corporate': 'tf.Tensor(shape=(None,), dtype=float32)', 'Customer_Segment_Home_Office': 'tf.Tensor(shape=(None,), dtype=float32)', 'Department_Id_2': 'tf.Tensor(shape=(None,), dtype=float32)', 'Department_Id_3': 'tf.Tensor(shape=(None,), dtype=float32)', 'Department_Id_4': 'tf.Tensor(shape=(None,), dtype=float32)', 'Department_Id_5': 'tf.Tensor(shape=(None,), dtype=float32)', 'Department_Id_6': 'tf.Tensor(shape=(None,), dtype=float32)', 'Department_Id_7': 'tf.Tensor(shape=(None,), dtype=float32)', 'Department_Id_8': 'tf.Tensor(shape=(None,), dtype=float32)', 'Department_Id_9': 'tf.Tensor(shape=(None,), dtype=float32)', 'Department_Id_10': 'tf.Tensor(shape=(None,), dtype=float32)', 'Department_Id_11': 'tf.Tensor(shape=(None,), dtype=float32)', 'Department_Id_12': 'tf.Tensor(shape=(None,), dtype=float32)', 'Department_Name_Apparel': 'tf.Tensor(shape=(None,), dtype=float32)', 'Department_Name_Book_Shop': 'tf.Tensor(shape=(None,), dtype=float32)', 'Department_Name_Discs_Shop': 'tf.Tensor(shape=(None,), dtype=float32)', 'Department_Name_Fan_Shop': 'tf.Tensor(shape=(None,), dtype=float32)', 'Department_Name_Fitness': 'tf.Tensor(shape=(None,), dtype=float32)', 'Department_Name_Footwear': 'tf.Tensor(shape=(None,), dtype=float32)', 'Department_Name_Golf': 'tf.Tensor(shape=(None,), dtype=float32)', 'Department_Name_Health_and_Beauty_': 'tf.Tensor(shape=(None,), dtype=float32)', 'Department_Name_Outdoors': 'tf.Tensor(shape=(None,), dtype=float32)', 'Department_Name_Pet_Shop': 'tf.Tensor(shape=(None,), dtype=float32)', 'Department_Name_Technology': 'tf.Tensor(shape=(None,), dtype=float32)', 'Market_Africa': 'tf.Tensor(shape=(None,), dtype=float32)', 'Market_Europe': 'tf.Tensor(shape=(None,), dtype=float32)', 'Market_LATAM': 'tf.Tensor(shape=(None,), dtype=float32)', 'Market_Pacific_Asia': 'tf.Tensor(shape=(None,), dtype=float32)', 'Market_USCA': 'tf.Tensor(shape=(None,), dtype=float32)', 'Order_Item_Quantity_1': 'tf.Tensor(shape=(None,), dtype=float32)', 'Order_Item_Quantity_2': 'tf.Tensor(shape=(None,), dtype=float32)', 'Order_Item_Quantity_3': 'tf.Tensor(shape=(None,), dtype=float32)', 'Order_Item_Quantity_4': 'tf.Tensor(shape=(None,), dtype=float32)', 'Order_Item_Quantity_5': 'tf.Tensor(shape=(None,), dtype=float32)', 'Order_Status_CANCELED': 'tf.Tensor(shape=(None,), dtype=float32)', 'Order_Status_CLOSED': 'tf.Tensor(shape=(None,), dtype=float32)', 'Order_Status_COMPLETE': 'tf.Tensor(shape=(None,), dtype=float32)', 'Order_Status_ON_HOLD': 'tf.Tensor(shape=(None,), dtype=float32)', 'Order_Status_PAYMENT_REVIEW': 'tf.Tensor(shape=(None,), dtype=float32)', 'Order_Status_PENDING': 'tf.Tensor(shape=(None,), dtype=float32)', 'Order_Status_PENDING_PAYMENT': 'tf.Tensor(shape=(None,), dtype=float32)', 'Order_Status_PROCESSING': 'tf.Tensor(shape=(None,), dtype=float32)', 'Order_Status_SUSPECTED_FRAUD': 'tf.Tensor(shape=(None,), dtype=float32)', 'Shipping_Mode_First_Class': 'tf.Tensor(shape=(None,), dtype=float32)', 'Shipping_Mode_Same_Day': 'tf.Tensor(shape=(None,), dtype=float32)', 'Shipping_Mode_Second_Class': 'tf.Tensor(shape=(None,), dtype=float32)', 'Shipping_Mode_Standard_Class': 'tf.Tensor(shape=(None,), dtype=float32)', 'Benefit_per_order': 'tf.Tensor(shape=(None,), dtype=float32)', 'Customer_Zipcode': 'tf.Tensor(shape=(None,), dtype=float32)', 'Latitude': 'tf.Tensor(shape=(None,), dtype=float32)', 'Longitude': 'tf.Tensor(shape=(None,), dtype=float32)', 'Order_Item_Discount': 'tf.Tensor(shape=(None,), dtype=float32)', 'Order_Item_Discount_Rate': 'tf.Tensor(shape=(None,), dtype=float32)', 'Order_Item_Product_Price': 'tf.Tensor(shape=(None,), dtype=float32)', 'Order_Item_Profit_Ratio': 'tf.Tensor(shape=(None,), dtype=float32)', 'Sales': 'tf.Tensor(shape=(None,), dtype=float32)', 'Order_Item_Total': 'tf.Tensor(shape=(None,), dtype=float32)', 'Order_Profit_Per_Order': 'tf.Tensor(shape=(None,), dtype=float32)', 'Product_Price': 'tf.Tensor(shape=(None,), dtype=float32)'}\n      • cols_to_output_tensors=None\n      • training=True\n"
     ]
    }
   ],
   "source": [
    "model.fit(train_ds,\n",
    "          validation_data=val_ds,\n",
    "          epochs=5)"
   ]
  },
  {
   "cell_type": "code",
   "execution_count": null,
   "metadata": {},
   "outputs": [],
   "source": []
  }
 ],
 "metadata": {
  "colab": {
   "provenance": []
  },
  "kernelspec": {
   "display_name": "Python 3 (ipykernel)",
   "language": "python",
   "name": "python3"
  },
  "language_info": {
   "codemirror_mode": {
    "name": "ipython",
    "version": 3
   },
   "file_extension": ".py",
   "mimetype": "text/x-python",
   "name": "python",
   "nbconvert_exporter": "python",
   "pygments_lexer": "ipython3",
   "version": "3.10.12"
  }
 },
 "nbformat": 4,
 "nbformat_minor": 4
}
