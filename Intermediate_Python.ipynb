{
 "cells": [
  {
   "cell_type": "markdown",
   "metadata": {
    "id": "xc1rPOw-Q_PJ"
   },
   "source": [
    "**<center><font color='#023F7C' size=\"6.5\">Intermediate Python &#128421;&#65039;</font>** <br>\n",
    "<font color=#023F7C size=4>**Hi! PARIS DataBootcamp 2023**</font> <br>\n",
    "<font color=#023F7C size=2>11:30-12:30 AM / 1:30-2:30 PM </font> <br>\n",
    "\n",
    "</center>\n",
    "\n",
    "<img src = https://www.hi-paris.fr/wp-content/uploads/2020/09/logo-hi-paris-retina.png width = \"300\" height = \"200\" >\n",
    "\n",
    "<font color=\"#023F7C\">**Author**:</font> Laurène DAVID, Machine Learning Research Engineer @ Hi! PARIS <br>\n"
   ]
  },
  {
   "cell_type": "markdown",
   "metadata": {
    "id": "3Rdi-kiAQ_PP"
   },
   "source": [
    "# **<font color='#023F7C'>Introduction</font>**\n",
    "\n",
    "This course is designed for **programmers** who are already comfortable with Python's basic syntax. <br>\n",
    "\n",
    "In the first section, we'll teach you how to develop reliable, efficient and clean code to **level-up your Python skills** 📈. <br>\n",
    "The second section will introduce essential **Python libraries for Data Science 🚀**.\n",
    "\n",
    "<br>\n",
    "\n",
    "<img src = https://www.freecodecamp.org/news/content/images/2021/08/chris-ried-ieic5Tq8YMk-unsplash.jpg width = \"500\" height = \"300\" >\n",
    "\n"
   ]
  },
  {
   "cell_type": "markdown",
   "metadata": {
    "id": "m8KrIa5naEBF"
   },
   "source": [
    "<font size=5>**Reminder on Python's syntax 👩‍🏫**</font> <br>\n",
    "\n",
    "Python is popular programming language with many built-in functionalities. <br>\n",
    "Today, it is used for many tasks such as Data visualization, Web development, Machine Learning to name a few.\n",
    "\n",
    "Here is a summary of Python's basic objects/features:\n",
    "- **Data types**: numerical (int, float), string, lists, dictionaries, sets, boolean, noneType\n",
    "- **Operators**: arithmetic, logical, membership (`==`, `or`/`and`, `in`)\n",
    "- **Loops**: `for`, `while` loops to repeat code\n",
    "- **Conditional statements**: `if`, `else`, `elif` keywords\n",
    "- **Functions**: `print()`, `len()`, `range()`, `max()`, `min()`\n",
    "- **Methods**: `.append()`, `.extend()`, `.sort()` (lists), `.split()`, `.join()` (string)\n"
   ]
  },
  {
   "cell_type": "markdown",
   "metadata": {
    "id": "BjHHR-3hr4dG"
   },
   "source": [
    "<font size=5>**Basic rules to follow 💡**</font> <br>\n",
    "\n",
    "Before starting the course, we'd like to share a few basic rules to follow for Python developpers. <br>\n",
    "We'll also introduce more advanced practices at the end of the first section.\n",
    "- Add comments (`#`) to your code\n",
    "- Create unique variable names (not already defined in Python)\n",
    "- Don't hesitate to debug your code using `print()`\n",
    "- Restart your Python environment when using a notebook\n",
    "- Use the `help()` function to get more information"
   ]
  },
  {
   "cell_type": "markdown",
   "metadata": {
    "id": "McmTgqqku1rd"
   },
   "source": [
    "# <font color='#023F7C'>**1. Improve your Python skills 📈**</font>\n",
    "\n",
    "In this section, you'll learn how to use Python's Standard Library, how to create efficient lists and to manipulate strings. <br>\n",
    "We'll also introduce some best practices for Python programming.\n",
    "\n",
    "\n",
    "\n"
   ]
  },
  {
   "cell_type": "markdown",
   "metadata": {
    "id": "bNfjfRutovHQ"
   },
   "source": [
    "## <font color='#023F7C'>**1.1 Standard Library: os, datetime, csv/json**</font>\n",
    "\n",
    "The **Standard Library** is a collection of modules that can easily be imported into Python code. <br>\n",
    "It comes bundled with Python's core distribution and includes 200 core modules.\n",
    "\n",
    "In this section, we will introduce four Standard Library modules: `os`, `datetime`, `csv` and `json`. <br>\n",
    "Other modules include `math`, `random`, `re`, `collections`...\n",
    "\n",
    "<img src = https://ajaytech.co/wp-content/uploads/2019/05/python_standard_libraries-1.png width = \"550\" height = \"350\" >\n",
    "\n",
    "\n",
    "\n"
   ]
  },
  {
   "cell_type": "markdown",
   "metadata": {
    "id": "2AXMIyO8tBFx"
   },
   "source": [
    "**What is a module ?** <br>\n",
    "A module is a Python file containing definitions, statements, and functions. <br>\n",
    "To import a module into your code, you can use the `import` keyword."
   ]
  },
  {
   "cell_type": "code",
   "execution_count": 1,
   "metadata": {
    "id": "Gjfb-f_z0qo2",
    "tags": []
   },
   "outputs": [],
   "source": [
    "import os\n",
    "import datetime\n",
    "import csv\n",
    "import json"
   ]
  },
  {
   "cell_type": "markdown",
   "metadata": {
    "id": "nTzcthxnjUoJ"
   },
   "source": [
    "<font size=5 color='#023F7C'>**os**: interact with your operating system</font> <br>\n",
    "\n",
    "The **os** module provides functions to interact with an **operating system** (Windows, macOS, Linux...). <br> It enables programmers to develop **robust** and **platform-independent** Python code. <br>\n",
    "- Create, delete and manage files and directories\n",
    "- Handle path manipulation to ensure compatibility between platforms\n",
    "\n"
   ]
  },
  {
   "attachments": {
    "f7a25912-8ee2-4da0-b8f1-ea4da7b918f5.webp": {
     "image/webp": "[encoded data removed]"
    }
   },
   "cell_type": "markdown",
   "metadata": {},
   "source": [
    "<!-- ![Exampes-of-operating-system.webp](attachment:f7a25912-8ee2-4da0-b8f1-ea4da7b918f5.webp) -->\n",
    "\n",
    "Here are some examples of operating systems:\n",
    "\n",
    "<div>\n",
    "<img src=\"attachment:f7a25912-8ee2-4da0-b8f1-ea4da7b918f5.webp\" width=\"700\"/>\n",
    "</div>"
   ]
  },
  {
   "cell_type": "markdown",
   "metadata": {
    "id": "tRZb0PObz5px"
   },
   "source": [
    "Here is a list of methods built-in with the os module.\n",
    "\n",
    "| os methods | description |\n",
    "| --------| -------------|\n",
    "|`os.getcwd()` | Get the current working directory.\n",
    "|`os.chdir(path)` | Change the current working directory to a specified path.\n",
    "|`os.listdir(path)` | List the files and directories in the specified path.\n",
    "|`os.path.join(path, *paths)`| Join one or more path components into a single path.\n",
    "|`os.path.split(path)`| Split a path into the directory part and the filename part.\n",
    "\n",
    "\n",
    "\n"
   ]
  },
  {
   "cell_type": "markdown",
   "metadata": {
    "id": "NqMECGMqeH9N"
   },
   "source": [
    "**What is the current working directory ?** <br>\n",
    "The current working directory (cwd) is the directory where Python is executing code in your computer. <br>\n",
    "To access files outside of the cwd, you need to write the file's exact path.\n",
    "\n"
   ]
  },
  {
   "cell_type": "code",
   "execution_count": 2,
   "metadata": {
    "colab": {
     "base_uri": "https://localhost:8080/",
     "height": 35
    },
    "id": "Cs2oiOqE6W_q",
    "outputId": "9b8f8a5b-175b-45e3-8c1c-aec1dd3d144d",
    "tags": []
   },
   "outputs": [
    {
     "data": {
      "text/plain": [
       "'/mnt/internal/hi__paris_data_bootcamp/organizers_shared_workspace/Intermediate_Python'"
      ]
     },
     "execution_count": 2,
     "metadata": {},
     "output_type": "execute_result"
    }
   ],
   "source": [
    "# Get the current working directory of the notebook\n",
    "os.getcwd() "
   ]
  },
  {
   "cell_type": "markdown",
   "metadata": {},
   "source": [
    "**Let's imagine that you need to import a csv file to run your code.** <br>\n",
    "Other contributors on your project might have stored this file in a different path/folder than yours. <br>\n",
    "Using the `path.join()` function makes it easier to specify a path to find the file in your own os."
   ]
  },
  {
   "cell_type": "code",
   "execution_count": 3,
   "metadata": {
    "colab": {
     "base_uri": "https://localhost:8080/",
     "height": 35
    },
    "id": "bweNAWwGuw0D",
    "outputId": "cd61aad8-1a76-4306-917f-64bda5da41e9",
    "tags": []
   },
   "outputs": [
    {
     "data": {
      "text/plain": [
       "'path/file_name.csv'"
      ]
     },
     "execution_count": 3,
     "metadata": {},
     "output_type": "execute_result"
    }
   ],
   "source": [
    "# Join a path with a file name\n",
    "path_to_data = 'path'\n",
    "os.path.join(path_to_data,'file_name.csv') "
   ]
  },
  {
   "cell_type": "markdown",
   "metadata": {},
   "source": [
    "**What if you need to import multiple files from a specific directory into your code ?** <br>\n",
    "Instead of writting the name of every file, you can use `os.listdir()`. <br>\n",
    "This function gives the file's name but not its full directory."
   ]
  },
  {
   "cell_type": "code",
   "execution_count": 4,
   "metadata": {
    "colab": {
     "base_uri": "https://localhost:8080/"
    },
    "id": "rLipLvkJ84RD",
    "outputId": "5fa959a1-76c1-4a5e-c87f-1af008a05d7e",
    "tags": []
   },
   "outputs": [
    {
     "data": {
      "text/plain": [
       "['Data', 'Intermediate_Python_correction.ipynb', '.ipynb_checkpoints']"
      ]
     },
     "execution_count": 4,
     "metadata": {},
     "output_type": "execute_result"
    }
   ],
   "source": [
    "# Get all the files in the current directory\n",
    "os.listdir() "
   ]
  },
  {
   "cell_type": "markdown",
   "metadata": {
    "id": "vkNs2IfVuHkn"
   },
   "source": [
    "<!-- <font color='#023F7C'>**Try it yourself**:</font>\n",
    "1. Create a `path` variable that indicates the file path to the `Data` folder with  `os.getcwd` and `os.path.join`.\n",
    "2. Write a statement that prints files with an `.ipynb` extension in the current working directory -->"
   ]
  },
  {
   "cell_type": "markdown",
   "metadata": {
    "id": "aXwBMwyK1qUd"
   },
   "source": [
    "You can also use the `glob` module to find files that matches a specific pattern. <br>\n",
    "The `glob.glob()` function takes a file path pattern and returns a list of file names that match the pattern."
   ]
  },
  {
   "cell_type": "markdown",
   "metadata": {
    "id": "L4trG_QVKvl3"
   },
   "source": [
    "<br>\n",
    "\n",
    "<font size=5 color='#023F7C'>**datetime**: Manipulate date & time data</font> <br>\n",
    "\n",
    "Python doesn't have a built-in data type to work with date/time data. It often stores this type of data as string objects. \n",
    "\n",
    "The **datetime** module provides data types and methods to easily process dates, time, and time intervals. <br>\n",
    "The module has six main classes to work with date/time data."
   ]
  },
  {
   "cell_type": "markdown",
   "metadata": {
    "id": "_UNrylIWopG2"
   },
   "source": [
    "\n",
    "| Datetime class | Description |\n",
    "| ------| ------------|\n",
    "| `date`|  Date (year, month, and day) without time information |\n",
    "|`time` | Time (hour, minute, second, and microsecond) without date information |\n",
    "| `datetime` | Combination of date and time (year, month, day, hour, minute, second) |\n",
    "| `timedelta` | Duration or difference between two dates or times.\n",
    "| `tzinfo`/`timezone`| Time zone information objects, used to handle time zones and daylight saving adjustments."
   ]
  },
  {
   "cell_type": "markdown",
   "metadata": {
    "id": "egKTSXOEySZZ"
   },
   "source": [
    "Each class has its own methods which includes creating dates, extracting parts of a date...  <br>\n",
    "You can import a specific class using `from ... import ...`."
   ]
  },
  {
   "cell_type": "code",
   "execution_count": 5,
   "metadata": {
    "id": "t6cHrhMNwpiE"
   },
   "outputs": [],
   "source": [
    "from datetime import date # date class\n",
    "from datetime import datetime # datetime class"
   ]
  },
  {
   "cell_type": "markdown",
   "metadata": {},
   "source": [
    "You can easily select parts of a date using `.year`, `.month`, `.day`."
   ]
  },
  {
   "cell_type": "code",
   "execution_count": 6,
   "metadata": {
    "colab": {
     "base_uri": "https://localhost:8080/"
    },
    "id": "-sa7oFpY0VXQ",
    "outputId": "387804cf-38b1-42c0-ccd7-b0826e5776d5"
   },
   "outputs": [
    {
     "name": "stdout",
     "output_type": "stream",
     "text": [
      "2012-10-04\n",
      "Year: 2012\n",
      "Month: 10\n",
      "Day: 4\n"
     ]
    }
   ],
   "source": [
    "# Create a date object\n",
    "date_ = date(year=2012, month=10, day=4) # 4th of October 2012\n",
    "print(\"2012-10-04\")\n",
    "\n",
    "print(\"Year:\",date_.year)\n",
    "print(\"Month:\",date_.month)\n",
    "print(\"Day:\",date_.day)"
   ]
  },
  {
   "cell_type": "markdown",
   "metadata": {
    "id": "mxSoz3nyWrff"
   },
   "source": [
    "You can **extract a date/datetime** with a specific format using `.strftime(format)`. <br>\n",
    "Formats for timestamps include `%Y` for year, `%m` for month, for `%d` day, `%H` for hour ..."
   ]
  },
  {
   "cell_type": "code",
   "execution_count": 7,
   "metadata": {
    "colab": {
     "base_uri": "https://localhost:8080/"
    },
    "id": "gPeF6OwL2dMW",
    "outputId": "e45e3257-1aa4-40ae-8d8d-95d215015c6d"
   },
   "outputs": [
    {
     "name": "stdout",
     "output_type": "stream",
     "text": [
      "2012-10-04 10:35:00\n",
      "Year-month-day: 2012-10-04\n",
      "Year-month: 2012-10\n"
     ]
    }
   ],
   "source": [
    "# Create a datetime object\n",
    "datetime_ = datetime(year=2012, month=10, day=4, hour=10, minute=35, second=00)\n",
    "\n",
    "# Create different formats for dates\n",
    "year_month_day = \"%Y-%m-%d\"\n",
    "year_month = \"%Y-%m\"\n",
    "\n",
    "print(\"2012-10-04 10:35:00\")\n",
    "print(\"Year-month-day:\",datetime_.strftime(year_month_day))\n",
    "print(\"Year-month:\",datetime_.strftime(year_month))"
   ]
  },
  {
   "cell_type": "markdown",
   "metadata": {
    "id": "ghOZldpwVFX4"
   },
   "source": [
    "You can also **convert strings to a datetime** object using `datetime.strptime(str,format)`. <br>\n",
    "You will need to specify a format `'%Y-%m-%d %H:%M:%S'` to convert to a datetime object."
   ]
  },
  {
   "cell_type": "code",
   "execution_count": 8,
   "metadata": {
    "colab": {
     "base_uri": "https://localhost:8080/"
    },
    "id": "fDu0rNws4tLG",
    "outputId": "96ae2e81-1018-4cf7-fcd4-3a92fbdc4ef6"
   },
   "outputs": [
    {
     "data": {
      "text/plain": [
       "datetime.datetime(2012, 10, 4, 11, 35)"
      ]
     },
     "execution_count": 8,
     "metadata": {},
     "output_type": "execute_result"
    }
   ],
   "source": [
    "# Convert a string to a datetime object\n",
    "datetime_str = \"2012-10-4 11:35:00\" # string\n",
    "datetime_format = '%Y-%m-%d %H:%M:%S'# datetime format\n",
    "\n",
    "datetime.strptime(datetime_str, datetime_format)"
   ]
  },
  {
   "cell_type": "markdown",
   "metadata": {
    "id": "KIRVnQm1vqTE"
   },
   "source": [
    "<br>\n",
    "\n",
    "<font color='#023F7C' size=4>**Try it yourself 🖐️**: </font><br>\n",
    "<font color='#023F7C'>**1. Write a statement that creates a list of dates from the 11th to the 22th of January 2012**<br>\n",
    "<font color='#023F7C'>**2. Write a statement that converts the strings in `list_timestamps` to a datetime object and only keep the year in the date.**\n"
   ]
  },
  {
   "cell_type": "code",
   "execution_count": 9,
   "metadata": {
    "tags": []
   },
   "outputs": [
    {
     "data": {
      "text/plain": [
       "[datetime.date(2012, 1, 11),\n",
       " datetime.date(2012, 1, 12),\n",
       " datetime.date(2012, 1, 13),\n",
       " datetime.date(2012, 1, 14),\n",
       " datetime.date(2012, 1, 15),\n",
       " datetime.date(2012, 1, 16),\n",
       " datetime.date(2012, 1, 17),\n",
       " datetime.date(2012, 1, 18),\n",
       " datetime.date(2012, 1, 19),\n",
       " datetime.date(2012, 1, 20),\n",
       " datetime.date(2012, 1, 21),\n",
       " datetime.date(2012, 1, 22)]"
      ]
     },
     "execution_count": 9,
     "metadata": {},
     "output_type": "execute_result"
    }
   ],
   "source": [
    "# 1 Create a list of dates \n",
    "list_dates = []\n",
    "for i in range(11,23):\n",
    "    list_dates.append(date(year=2012, month=1, day=i))\n",
    "    \n",
    "list_dates"
   ]
  },
  {
   "cell_type": "code",
   "execution_count": 10,
   "metadata": {
    "id": "yMt7fFlAA_Tg"
   },
   "outputs": [],
   "source": [
    "list_timestamps = ['2015-01-02 22:35:00', '2015-01-02 22:35:00', '2015-01-02 22:35:00', '2015-01-02 22:35:00','2015-01-02 22:35:00']"
   ]
  },
  {
   "cell_type": "code",
   "execution_count": 11,
   "metadata": {
    "tags": []
   },
   "outputs": [
    {
     "data": {
      "text/plain": [
       "[2015, 2015, 2015, 2015, 2015]"
      ]
     },
     "execution_count": 11,
     "metadata": {},
     "output_type": "execute_result"
    }
   ],
   "source": [
    "# 2 Convert a list of strings to a datetime object with only the year\n",
    "datetime_format = '%Y-%m-%d %H:%M:%S'\n",
    "list_datetime = []\n",
    "\n",
    "for date in list_timestamps:\n",
    "    list_datetime.append(datetime.strptime(date, datetime_format).year)\n",
    "    \n",
    "list_datetime"
   ]
  },
  {
   "cell_type": "markdown",
   "metadata": {
    "id": "wYjpoaJxyC2W"
   },
   "source": [
    "<br>\n",
    "\n",
    "<font size=5 color='#023F7C'>**csv, json**: Work with various data formats</font> <br>\n",
    "\n",
    "The **csv** and **json** modules in Python provide functionalities to work with CSV and JSON files. <br> Both are commonly used formats to store data for tabular and nested data.\n",
    "\n",
    "\n",
    "To open external files in Python, you need to use `open(file, mode)`\n",
    "- `file`: File or file path  \n",
    "- `mode`:  Read a file with 'r', create a new file 'w'\n",
    "\n",
    "\n",
    "\n",
    "\n",
    "\n",
    "\n",
    "\n",
    "\n"
   ]
  },
  {
   "attachments": {
    "ecac5377-12da-4920-9257-57947d79338c.png": {
     "image/png": "[encoded data removed]"
    }
   },
   "cell_type": "markdown",
   "metadata": {
    "id": "EhKfSsbZOJIM"
   },
   "source": [
    "**1. CSV file** `.csv` <br>\n",
    "Store data in a tabular format with values separated by commas (or other delimiters).<br>\n",
    "- Write (create) a csv file with `csv.writer()`\n",
    "- Read a csv file with `csv.reader()`\n",
    "- Uses: **Data Storage**, **Data Export**, **Reporting**\n",
    "\n",
    "![guide-import_person_csv_notepad.png](attachment:ecac5377-12da-4920-9257-57947d79338c.png)\n",
    "\n",
    "\n",
    "\n",
    "\n",
    "\n"
   ]
  },
  {
   "cell_type": "code",
   "execution_count": 12,
   "metadata": {
    "id": "q4TDgTEJ5lhp"
   },
   "outputs": [],
   "source": [
    "# Read a csv file from the Data folder\n",
    "path_data = \"Data\"\n",
    "\n",
    "with open(os.path.join(path_data,\"data_customer.csv\"),\"r\") as f:\n",
    "    csv_file = csv.reader(f)"
   ]
  },
  {
   "attachments": {
    "0c30e592-f924-4e62-8434-e86e77e38e9e.png": {
     "image/png": "[encoded data removed]"
    }
   },
   "cell_type": "markdown",
   "metadata": {
    "id": "oVPFOZEGcKg5"
   },
   "source": [
    "<br>\n",
    "\n",
    "**2. JSON file** `.json` <br>\n",
    "A directory-like notation where every row is saved as a separate dictionary, with keys as column names. <br>\n",
    "- Write a json file with `json.dump()`\n",
    "- Read a json file with `json.load()`\n",
    "- Uses: **Data Storage**, **API Responses**, **Configuration files** \n",
    "\n",
    "![GUID-800BE275-3250-4BF9-93C2-B934C9AA468E-web.png](attachment:0c30e592-f924-4e62-8434-e86e77e38e9e.png)"
   ]
  },
  {
   "cell_type": "code",
   "execution_count": 13,
   "metadata": {
    "id": "vCjUZajPhh2x"
   },
   "outputs": [],
   "source": [
    "dict_to_json = {\"customer1\":{\"one\":\"1\", \"two\":\"2\", \"three\":\"3\"},\n",
    "                \"index2\":{\"one\":\"4\", \"two\":\"3\", \"three\":\"2\"}}"
   ]
  },
  {
   "cell_type": "code",
   "execution_count": 14,
   "metadata": {
    "id": "vM5tiqn2bdGE"
   },
   "outputs": [],
   "source": [
    "# Export a json file to the Data folder\n",
    "with open(os.path.join(path_data,\"new_file.json\"),\"w\") as new_json:\n",
    "    json.dump(dict_to_json, new_json)"
   ]
  },
  {
   "cell_type": "markdown",
   "metadata": {
    "id": "TxSmImSIf4fw"
   },
   "source": [
    "Data can be stored in other types of formats, such as excel spreadsheets (`.xlsx`), text files (`.txt`), YAML files (`.yaml`), ... <br>\n",
    "The `Pandas` library can also be used to load/export external files (see Section 2.2 for more info)"
   ]
  },
  {
   "cell_type": "markdown",
   "metadata": {
    "id": "xXEibKNJRbwg"
   },
   "source": [
    "<br>\n",
    "\n",
    "## <font color='#023F7C'>**1.2  Efficient loops: list comprehension, enumerate/zip, control statements**</font>\n",
    "\n",
    "\n",
    "For-loops allow code to be repeated a fixed number of times. <br>\n",
    "\n",
    "\n",
    "In this example, we want to compute the length of each word in `list_text` and save results as a list.<br>\n",
    "We are going to write a `for` loop statement to create the list.\n",
    "\n",
    "\n",
    "\n",
    "\n",
    "\n",
    "\n"
   ]
  },
  {
   "cell_type": "code",
   "execution_count": 15,
   "metadata": {
    "id": "BXoVpfxqdvRp"
   },
   "outputs": [],
   "source": [
    "list_text = [\"Welcome\",\"to\",\"the\",\"Hi!\",\"Paris\",\"Data\",\"Bootcamp\"]"
   ]
  },
  {
   "cell_type": "code",
   "execution_count": 16,
   "metadata": {
    "id": "8ZJWzcDN3f0P"
   },
   "outputs": [],
   "source": [
    "# Compute the length of each word\n",
    "result = []\n",
    "for elem in list_text:\n",
    "  result.append(len(elem))"
   ]
  },
  {
   "cell_type": "code",
   "execution_count": 17,
   "metadata": {
    "colab": {
     "base_uri": "https://localhost:8080/"
    },
    "id": "kyOWJd4F3oad",
    "outputId": "5b586f32-8115-462f-f320-8e9792f24cf1"
   },
   "outputs": [
    {
     "data": {
      "text/plain": [
       "[7, 2, 3, 3, 5, 4, 8]"
      ]
     },
     "execution_count": 17,
     "metadata": {},
     "output_type": "execute_result"
    }
   ],
   "source": [
    "result"
   ]
  },
  {
   "cell_type": "markdown",
   "metadata": {
    "id": "gvpH9RRmx_Ri"
   },
   "source": [
    "<font size=5 color='#023F7C'>**Single-line loops**: map and list comprehension</font> <br>\n",
    "\n",
    "Python has additional tools to write concise loops with improved readability.<br>\n",
    "In some cases, these methods are faster than traditional for-loops.\n",
    "\n"
   ]
  },
  {
   "cell_type": "markdown",
   "metadata": {
    "id": "0qqhxywy83Wu"
   },
   "source": [
    "**1. Map** <br>\n",
    "\n",
    "The `map()` function applies a given function to each element of an iterable (list, string,...).\n",
    "- To save results, you need to convert the map object to a list with `list()`\n",
    "- You can use pre-built functions or define your own lambda function\n"
   ]
  },
  {
   "cell_type": "code",
   "execution_count": 18,
   "metadata": {
    "colab": {
     "base_uri": "https://localhost:8080/"
    },
    "id": "prD_VsIH5FVM",
    "outputId": "337a8946-9705-4038-85ba-ece608abfb07"
   },
   "outputs": [
    {
     "data": {
      "text/plain": [
       "[7, 2, 3, 3, 5, 4, 8]"
      ]
     },
     "execution_count": 18,
     "metadata": {},
     "output_type": "execute_result"
    }
   ],
   "source": [
    "# Use the len() function on each element of the list\n",
    "list(map(len,list_text))"
   ]
  },
  {
   "cell_type": "code",
   "execution_count": 19,
   "metadata": {
    "colab": {
     "base_uri": "https://localhost:8080/"
    },
    "id": "9XKLbExOSNgu",
    "outputId": "a4a5b9f6-2995-43f8-c65c-7cf37cdf4b34"
   },
   "outputs": [
    {
     "data": {
      "text/plain": [
       "[49, 4, 9, 9, 25, 16, 64]"
      ]
     },
     "execution_count": 19,
     "metadata": {},
     "output_type": "execute_result"
    }
   ],
   "source": [
    "# Use a lambda function to return the length of each word squared\n",
    "len_squared = lambda x: len(x)**2\n",
    "\n",
    "list(map(len_squared,list_text))"
   ]
  },
  {
   "cell_type": "markdown",
   "metadata": {
    "id": "D_z34scU424I"
   },
   "source": [
    "**2. List comprehension** <br>\n",
    "\n",
    "List comprehensions allow you to write loops on a single line of code. <br>\n",
    "Rather than creating a list and adding elements to it, you define the list and its contents at the same time.\n",
    "\n",
    "- You can create nested loops by adding more `for` statements\n",
    "- You can add if/else statements to list comprehensions\n",
    "\n",
    "<img src = https://4.bp.blogspot.com/-uRPZqKbIGwQ/XRtgWhC6qqI/AAAAAAAAH0w/--oGnwKsnpo00GwQgH2gV3RPwHwK8uONgCLcBGAs/s1600/comprehension.PNG width = \"500\" height = \"200\" >"
   ]
  },
  {
   "cell_type": "code",
   "execution_count": 20,
   "metadata": {
    "colab": {
     "base_uri": "https://localhost:8080/"
    },
    "id": "iJ58rKZ65QEs",
    "outputId": "f2d043b6-9719-43db-ef05-aabcbd9d2364"
   },
   "outputs": [
    {
     "data": {
      "text/plain": [
       "[7, 2, 3, 3, 5, 4, 8]"
      ]
     },
     "execution_count": 20,
     "metadata": {},
     "output_type": "execute_result"
    }
   ],
   "source": [
    "# Compute the length of each word with list comprehension\n",
    "[len(elem) for elem in list_text]"
   ]
  },
  {
   "cell_type": "code",
   "execution_count": 21,
   "metadata": {
    "colab": {
     "base_uri": "https://localhost:8080/"
    },
    "id": "jNymxZLr9WMF",
    "outputId": "e65b784c-7a8e-4756-d6b1-f5c2e5dd8d01"
   },
   "outputs": [
    {
     "data": {
      "text/plain": [
       "[7, 2, 3, 3, 5, 4, 8]"
      ]
     },
     "execution_count": 21,
     "metadata": {},
     "output_type": "execute_result"
    }
   ],
   "source": [
    "# Create a nested list with the sentence\n",
    "nested_list_text = [[\"Welcome\",\"to\",\"the\",\"Hi!\"],[\"Paris\",\"Data\",\"Bootcamp\"]]\n",
    "\n",
    "# List comprehension for a nested list\n",
    "[len(elem) for list_ in nested_list_text for elem in list_]"
   ]
  },
  {
   "cell_type": "markdown",
   "metadata": {
    "id": "PgPnoD6-9fX5"
   },
   "source": [
    "You can also create a **dictionary comprehension** using the same method. <br>\n",
    "The dictionary items are defined with a `key:value` format."
   ]
  },
  {
   "cell_type": "code",
   "execution_count": 22,
   "metadata": {
    "id": "-rHHdpTW91Bd"
   },
   "outputs": [],
   "source": [
    "list_dict = [[\"key1\",1],[\"key2\",2]]"
   ]
  },
  {
   "cell_type": "code",
   "execution_count": 23,
   "metadata": {
    "colab": {
     "base_uri": "https://localhost:8080/"
    },
    "id": "KdoIPCtO9nlp",
    "outputId": "4e4834e3-bfb9-4883-f24d-a74ee3308c12"
   },
   "outputs": [
    {
     "data": {
      "text/plain": [
       "{'key1': 1, 'key2': 2}"
      ]
     },
     "execution_count": 23,
     "metadata": {},
     "output_type": "execute_result"
    }
   ],
   "source": [
    "{key:value for key,value in list_dict}"
   ]
  },
  {
   "cell_type": "markdown",
   "metadata": {
    "id": "3qJj3UPgcKmM"
   },
   "source": [
    "<font color='#023F7C' size=4>**Try it yourself 🖐️**: </font><br>\n",
    "\n",
    "<font color='#023F7C'>**1. Write a function that computes the average value of a list of integers** <br>\n",
    "<font color='#023F7C'>**2. Use this function to compute the average value of each list in `list_integers` using map** <br>\n",
    "<font color='#023F7C'>**3. Do the same with a list comprehension** <br>"
   ]
  },
  {
   "cell_type": "code",
   "execution_count": 24,
   "metadata": {
    "id": "YHxolm6Hcx18"
   },
   "outputs": [],
   "source": [
    "# Nested list of integers\n",
    "list_integers = [[2,7,16,20,8],[9,10,23,17],[2,6,18,22,6,12]]"
   ]
  },
  {
   "cell_type": "code",
   "execution_count": 25,
   "metadata": {
    "tags": []
   },
   "outputs": [],
   "source": [
    "# 1 Average value of a list of integers \n",
    "def compute_avg(list_ints):\n",
    "  return sum(list_ints)/len(list_ints)"
   ]
  },
  {
   "cell_type": "code",
   "execution_count": 26,
   "metadata": {
    "tags": []
   },
   "outputs": [
    {
     "data": {
      "text/plain": [
       "[10.6, 14.75, 11.0]"
      ]
     },
     "execution_count": 26,
     "metadata": {},
     "output_type": "execute_result"
    }
   ],
   "source": [
    "# 2 Map \n",
    "list(map(compute_avg,list_integers))"
   ]
  },
  {
   "cell_type": "code",
   "execution_count": 27,
   "metadata": {
    "id": "xKDZoWbLctyA"
   },
   "outputs": [
    {
     "data": {
      "text/plain": [
       "[10.6, 14.75, 11.0]"
      ]
     },
     "execution_count": 27,
     "metadata": {},
     "output_type": "execute_result"
    }
   ],
   "source": [
    "# 3 List comprehension\n",
    "[compute_avg(l) for l in list_integers] "
   ]
  },
  {
   "cell_type": "markdown",
   "metadata": {
    "id": "UmoV01Zk8Ch1"
   },
   "source": [
    "<br>\n",
    "\n",
    "<font size=5 color='#023F7C'>**Enumerate & zip functions**</font> <br>\n",
    "\n",
    "Python has convinient built-in functions to create iterable objects for loops. <br>\n",
    "This includes *range* to generate a range of integers, *enumerate* and *zip*.\n"
   ]
  },
  {
   "cell_type": "markdown",
   "metadata": {
    "id": "UH08mNc2Nq3J"
   },
   "source": [
    "\n",
    "**1. Enumerate** <br>\n",
    "\n",
    "The `enumerate()` function generates tuples with an iterable's items and corresponding index. <br>\n",
    "It is often used to get the indexes of an object, instead of using `range(len(object))`\n"
   ]
  },
  {
   "cell_type": "markdown",
   "metadata": {
    "id": "ASuBpsW_dBeO"
   },
   "source": [
    "**What is an iterable object ?** <br>\n",
    "An iterable is an object that can be iterated over, meaning you can loop through its elements one by one. <br>\n",
    "Examples of iterables are lists, tuples, strings and range objects"
   ]
  },
  {
   "cell_type": "code",
   "execution_count": 28,
   "metadata": {
    "colab": {
     "base_uri": "https://localhost:8080/"
    },
    "id": "KgXV0cwZULry",
    "outputId": "e2c6d76f-c10d-4cc2-ad9b-732c5bf4c847"
   },
   "outputs": [
    {
     "data": {
      "text/plain": [
       "[(0, 'Hi!'), (1, 'PARIS'), (2, 'Data'), (3, 'Bootcamp')]"
      ]
     },
     "execution_count": 28,
     "metadata": {},
     "output_type": "execute_result"
    }
   ],
   "source": [
    "# Define an iterable object (list)\n",
    "list_str = [\"Hi!\", \"PARIS\", \"Data\", \"Bootcamp\"]\n",
    "\n",
    "# Convert an enumerated object to a list\n",
    "list(enumerate(list_str))"
   ]
  },
  {
   "cell_type": "code",
   "execution_count": 29,
   "metadata": {
    "colab": {
     "base_uri": "https://localhost:8080/"
    },
    "id": "dKfBYljQVPt2",
    "outputId": "64bddd42-6a89-4576-c723-63df5d9591ba"
   },
   "outputs": [
    {
     "name": "stdout",
     "output_type": "stream",
     "text": [
      "(0, 'Hi!')\n",
      "(1, 'PARIS')\n",
      "(2, 'Data')\n",
      "(3, 'Bootcamp')\n"
     ]
    }
   ],
   "source": [
    "# Enumerate with a for-loop\n",
    "for elem in enumerate(list_str):\n",
    "  print(elem)"
   ]
  },
  {
   "cell_type": "code",
   "execution_count": 30,
   "metadata": {
    "colab": {
     "base_uri": "https://localhost:8080/"
    },
    "id": "b6Iw2yg7DqWR",
    "outputId": "cb3711f6-4677-4c4f-c2fd-95b71f232158"
   },
   "outputs": [
    {
     "data": {
      "text/plain": [
       "[(0, 'Hi!'), (1, 'PARIS'), (2, 'Data'), (3, 'Bootcamp')]"
      ]
     },
     "execution_count": 30,
     "metadata": {},
     "output_type": "execute_result"
    }
   ],
   "source": [
    "# Enumerate with list comprehension\n",
    "[(i,j) for i,j in enumerate(list_str)]"
   ]
  },
  {
   "cell_type": "markdown",
   "metadata": {
    "id": "eJHU1wJcIjhR"
   },
   "source": [
    "**2. Zip** <br>\n",
    "\n",
    "The `zip()` function combines multiple iterables (list, tuples,...) into a single iterable of tuples. <br>\n",
    "It pairs elements with the same index in each iterable `(item1,item2)` <br>\n",
    "- Allows you to loop through multiple iterables at the same time\n",
    "- Preferred over nested loops when possible"
   ]
  },
  {
   "cell_type": "code",
   "execution_count": 31,
   "metadata": {
    "colab": {
     "base_uri": "https://localhost:8080/"
    },
    "id": "iT-5K0A-PGqa",
    "outputId": "5fdd32c9-c72a-4602-97b4-3ea64c6203e7"
   },
   "outputs": [
    {
     "data": {
      "text/plain": [
       "[(2, 'Hi!'), (3, 'PARIS'), (4, 'Data'), (5, 'Bootcamp')]"
      ]
     },
     "execution_count": 31,
     "metadata": {},
     "output_type": "execute_result"
    }
   ],
   "source": [
    "# Create an iterable\n",
    "list_range = range(2,6)\n",
    "\n",
    "# Create an iterable by combining list_range and list_str\n",
    "list(zip(list_range,list_str))"
   ]
  },
  {
   "cell_type": "code",
   "execution_count": 32,
   "metadata": {
    "colab": {
     "base_uri": "https://localhost:8080/"
    },
    "id": "FTaWXI4XODI7",
    "outputId": "a7dbb90d-cf73-42e6-bfec-6db4aab468b2"
   },
   "outputs": [
    {
     "name": "stdout",
     "output_type": "stream",
     "text": [
      "iterable 1: 2 iterable 2: Hi!\n",
      "iterable 1: 3 iterable 2: PARIS\n",
      "iterable 1: 4 iterable 2: Data\n",
      "iterable 1: 5 iterable 2: Bootcamp\n"
     ]
    }
   ],
   "source": [
    "# Zip with a for-loop\n",
    "for i,j in zip(list_range,list_str):\n",
    "  print(\"iterable 1:\",i, \"iterable 2:\",j)"
   ]
  },
  {
   "cell_type": "code",
   "execution_count": 33,
   "metadata": {
    "colab": {
     "base_uri": "https://localhost:8080/"
    },
    "id": "M7slKgnvO6Gc",
    "outputId": "ac5b0415-b114-46c8-f4f4-d3ad71305811"
   },
   "outputs": [
    {
     "data": {
      "text/plain": [
       "[(2, 'Hi!'), (3, 'PARIS'), (4, 'Data'), (5, 'Bootcamp')]"
      ]
     },
     "execution_count": 33,
     "metadata": {},
     "output_type": "execute_result"
    }
   ],
   "source": [
    " # Zip with list-comprehension\n",
    "[(i,j) for i,j in zip(list_range,list_str)]"
   ]
  },
  {
   "cell_type": "markdown",
   "metadata": {},
   "source": [
    "You can easily **create a Python dictionary** from two lists using `zip()`."
   ]
  },
  {
   "cell_type": "code",
   "execution_count": 34,
   "metadata": {
    "tags": []
   },
   "outputs": [
    {
     "data": {
      "text/plain": [
       "{2: 'Hi!', 3: 'PARIS', 4: 'Data', 5: 'Bootcamp'}"
      ]
     },
     "execution_count": 34,
     "metadata": {},
     "output_type": "execute_result"
    }
   ],
   "source": [
    "dict(zip(list_range,list_str))"
   ]
  },
  {
   "cell_type": "markdown",
   "metadata": {
    "id": "oxmyoekg5mV4"
   },
   "source": [
    "<br>\n",
    "\n",
    "<font size=5 color='#023F7C'>**Loop control statements**: pass, continue & break</font> <br>\n",
    "\n",
    "Loop control statements allow you to control the flow of Python loops. <br>\n",
    "They can make loops break out prematurely, skip iterations or force loops to the start over.\n",
    "\n"
   ]
  },
  {
   "cell_type": "markdown",
   "metadata": {
    "id": "B3M7hwzhQ0oM"
   },
   "source": [
    "**1. Pass** <br>\n",
    "The `pass` statement is a null statement that can be used as a placeholder for future code. <br>\n",
    "It's mostly used to fill loops or functions that aren't fully implemented."
   ]
  },
  {
   "cell_type": "code",
   "execution_count": 35,
   "metadata": {
    "id": "D9ypWgz8RxQ7"
   },
   "outputs": [],
   "source": [
    "def random_function():\n",
    "  pass"
   ]
  },
  {
   "cell_type": "code",
   "execution_count": 36,
   "metadata": {
    "id": "6n-1g1fDSESb"
   },
   "outputs": [],
   "source": [
    "for i in [1,2,3,4]:\n",
    "  pass"
   ]
  },
  {
   "cell_type": "markdown",
   "metadata": {
    "id": "lJnImHTqQ5aI"
   },
   "source": [
    "**2. Continue** <br>\n",
    "The `continue` statement is used to skip the current iteration of a loop. <br>\n",
    "The flow of the program then goes to the next iteration."
   ]
  },
  {
   "cell_type": "code",
   "execution_count": 37,
   "metadata": {
    "colab": {
     "base_uri": "https://localhost:8080/"
    },
    "id": "hnSFqmeuYM3p",
    "outputId": "7b32564f-3a67-40ab-cfa1-5685293744f4"
   },
   "outputs": [
    {
     "name": "stdout",
     "output_type": "stream",
     "text": [
      "0\n",
      "1\n",
      "2\n",
      "4\n",
      "5\n"
     ]
    }
   ],
   "source": [
    "for i in range(6):\n",
    "  if i==3:\n",
    "    continue # don't print for i=3 and go to next iteration\n",
    "  print(i)"
   ]
  },
  {
   "cell_type": "markdown",
   "metadata": {
    "id": "rgF8KlI_QiNX"
   },
   "source": [
    "**3. Break** <br>\n",
    "The `break` statement in Python is used to terminate or abandon a loop. <br>\n",
    "It is often used with decision-making statements such as if statements.\n"
   ]
  },
  {
   "cell_type": "code",
   "execution_count": 38,
   "metadata": {
    "colab": {
     "base_uri": "https://localhost:8080/"
    },
    "id": "uIrs15YLTqLu",
    "outputId": "7a474928-0eb6-41eb-d5c5-3365a13f6cdc"
   },
   "outputs": [
    {
     "name": "stdout",
     "output_type": "stream",
     "text": [
      "0\n",
      "1\n",
      "2\n"
     ]
    }
   ],
   "source": [
    "for i in range(6):\n",
    "  if i==3:\n",
    "    break # stop iteration at i=3\n",
    "  print(i)"
   ]
  },
  {
   "cell_type": "markdown",
   "metadata": {
    "id": "UYUlleUymuWg"
   },
   "source": [
    "<br>\n",
    "<br>"
   ]
  },
  {
   "cell_type": "markdown",
   "metadata": {
    "id": "2hG0-kpHRqJu"
   },
   "source": [
    "## <font color='#023F7C'>**1.3 String manipulation: string methods & regex**</font>\n",
    "\n",
    "Strings are ordered collections of characters, that can be letters, numbers, spaces, ponctuation... <br>\n",
    "They are Python's built-in data type for text and are defined using quotes (`''` or `\"\"`) <br>\n",
    "\n",
    "In this section, we'll show you to handle strings using **string methods**, **fstrings** and **regex**.\n",
    "\n"
   ]
  },
  {
   "cell_type": "markdown",
   "metadata": {
    "id": "2GZNabgPixuV"
   },
   "source": [
    "<font size=5 color='#023F7C'>**String methods**</font> <br>\n",
    "\n",
    "Methods are operators that are associated to a specific Python object (string, list, dict,...). <br>\n",
    "They are used using the dot notation (examples: `.append`, `.sort`)\n",
    "\n",
    "In the following table, we've listed methods you can apply on strings. <br>"
   ]
  },
  {
   "cell_type": "markdown",
   "metadata": {
    "id": "q6UCMoCuuC61"
   },
   "source": [
    "| str method | Description | Arguments |\n",
    "|-----------| ------------|------------|\n",
    "| `.lower()`, `.upper()` | Converts all strings to lower or upper case | No arguments |\n",
    "| `.lstrip()`, `.rstrip()`, `.strip()` | Removes leading or trailing characters from a string (or both) | `chars`: set of characters to be removed (default= `\" \"`) |\n",
    "| `.replace()` | Replace all occurences of a substring | `oldvalue`: substring to search for <br> `newvalue`: substring to replace |\n",
    "| `.split()` | Splits the string into a list of substrings based on a separator | `separator`: separator to split string (default= `\" \"`) |\n",
    "| `.startswith(prefix)`, `.endswith(suffix)` | Check if a string starts or end with a substring | `prefix`: string to be checked at the start <br> `suffix`: string to be checked at the end |\n",
    "| `.join()` |  Join the elements of a list into a string with a specified separator | The separator is placed at the beginning ex: `\" \".join()`<br> The argument is the list of strings to join"
   ]
  },
  {
   "cell_type": "code",
   "execution_count": 39,
   "metadata": {
    "id": "mC6piT744inQ"
   },
   "outputs": [],
   "source": [
    "text = \"We###lco??me to the Hi!?? Par###is DataBoo??tcamp 2023 !\""
   ]
  },
  {
   "cell_type": "code",
   "execution_count": 40,
   "metadata": {
    "tags": []
   },
   "outputs": [
    {
     "data": {
      "text/plain": [
       "'we###lco??me to the hi!?? par###is databoo??tcamp 2023 !'"
      ]
     },
     "execution_count": 40,
     "metadata": {},
     "output_type": "execute_result"
    }
   ],
   "source": [
    "text.lower()"
   ]
  },
  {
   "cell_type": "code",
   "execution_count": 41,
   "metadata": {
    "tags": []
   },
   "outputs": [
    {
     "data": {
      "text/plain": [
       "'###lco??me to the Hi!?? Par###is DataBoo??tcamp 2023 !'"
      ]
     },
     "execution_count": 41,
     "metadata": {},
     "output_type": "execute_result"
    }
   ],
   "source": [
    "text.strip(\"We\")"
   ]
  },
  {
   "cell_type": "code",
   "execution_count": 42,
   "metadata": {
    "tags": []
   },
   "outputs": [
    {
     "data": {
      "text/plain": [
       "['We###lco??me',\n",
       " 'to',\n",
       " 'the',\n",
       " 'Hi!??',\n",
       " 'Par###is',\n",
       " 'DataBoo??tcamp',\n",
       " '2023',\n",
       " '!']"
      ]
     },
     "execution_count": 42,
     "metadata": {},
     "output_type": "execute_result"
    }
   ],
   "source": [
    "# Split the text into a list for cleaning\n",
    "text_split = text.split()\n",
    "text_split"
   ]
  },
  {
   "cell_type": "markdown",
   "metadata": {
    "id": "rU1eKNENnjy9"
   },
   "source": [
    "<font color='#023F7C' size=4>**Try it yourself**: 🖐️</font> <br>\n",
    "\n",
    "<font color='#023F7C'> **1. Replace each `??` and `###` character by a empty space in `text_split` with list comprehension.** <br>\n",
    "<font color='#023F7C'> **2. Use the `.join()` method to recreate the clean sentence**"
   ]
  },
  {
   "cell_type": "code",
   "execution_count": 43,
   "metadata": {
    "id": "_Y6fuBlknwfz"
   },
   "outputs": [
    {
     "data": {
      "text/plain": [
       "['Welcome', 'to', 'the', 'Hi!', 'Paris', 'DataBootcamp', '2023', '!']"
      ]
     },
     "execution_count": 43,
     "metadata": {},
     "output_type": "execute_result"
    }
   ],
   "source": [
    "# 1 Replace ??  and ### with an empty space\n",
    "clean_text_split = [text.replace(\"??\",\"\").replace(\"###\",\"\") for text in text_split]\n",
    "clean_text_split"
   ]
  },
  {
   "cell_type": "code",
   "execution_count": 44,
   "metadata": {
    "id": "RJqJRLhonwso"
   },
   "outputs": [
    {
     "data": {
      "text/plain": [
       "'Welcome to the Hi! Paris DataBootcamp 2023 !'"
      ]
     },
     "execution_count": 44,
     "metadata": {},
     "output_type": "execute_result"
    }
   ],
   "source": [
    "# 2 Join the cleaned word\n",
    "\" \".join(clean_text_split)"
   ]
  },
  {
   "cell_type": "markdown",
   "metadata": {
    "id": "JwWAwG8M4t7K"
   },
   "source": [
    "The text in this example was easy to clean since the replaced substring followed simple patterns (`###` or `??`). <br>\n",
    "In many cases, string methods aren't flexible enough to represent complex patterns. <br>"
   ]
  },
  {
   "cell_type": "markdown",
   "metadata": {
    "id": "EHCQYiVoumnL"
   },
   "source": [
    "<br>\n",
    "\n",
    "<font size=5 color='#023F7C'>**Regex**\n",
    "\n",
    "\n",
    "A regex (or regular expression) is a sequence of characters that forms a **search pattern.** <br>\n",
    "It is a powerful tool to create complex and flexible patterns for string matching/manipulation.\n",
    "- The `re` module provides support for regular expressions (use `re.sub` to replace characters)\n",
    "- You can also used them with the string method `.replace`"
   ]
  },
  {
   "cell_type": "markdown",
   "metadata": {
    "id": "zcNsmYi5-44d"
   },
   "source": [
    "\n",
    "Regular expressions have **special characters** to define search patterns. <br>\n",
    "We've listed below a few of these characters."
   ]
  },
  {
   "cell_type": "markdown",
   "metadata": {
    "id": "anaCtvmb8Nsn"
   },
   "source": [
    "| Regex character | Description |\n",
    "|-----------------|-------------|\n",
    "| `.` | Match any character except a new line |  \n",
    "| `^` | Match the start of a string |\n",
    "| `$` | Match the end of a string |  \n",
    "| `*` | Matches zero or more occurrences of the preceding characters |\n",
    "| `+` | Matches one or more occurrences of the preceding character or group |  \n",
    "| `\\|` | Acts as an OR operator, allowing you to match either the expression before or after |\n",
    "| `()` | Allows you to extract matched portions of the string.\n",
    "|`[]` | Allows you to match any one character inside the brackets |"
   ]
  },
  {
   "cell_type": "markdown",
   "metadata": {
    "id": "9wopq0zw98Y9"
   },
   "source": [
    "You can go to Python's documentation [page](https://docs.python.org/3/library/re.html) for more regex characters."
   ]
  },
  {
   "cell_type": "code",
   "execution_count": 45,
   "metadata": {
    "id": "M3xF3L-m_GA_"
   },
   "outputs": [],
   "source": [
    "import re"
   ]
  },
  {
   "cell_type": "markdown",
   "metadata": {},
   "source": [
    "Let's use the previous text example `text` and create a regex pattern that replaces both `??` and `###` with an empty string."
   ]
  },
  {
   "cell_type": "code",
   "execution_count": 46,
   "metadata": {
    "tags": []
   },
   "outputs": [
    {
     "data": {
      "text/plain": [
       "'We###lco??me to the Hi!?? Par###is DataBoo??tcamp 2023 !'"
      ]
     },
     "execution_count": 46,
     "metadata": {},
     "output_type": "execute_result"
    }
   ],
   "source": [
    "text"
   ]
  },
  {
   "cell_type": "code",
   "execution_count": 47,
   "metadata": {
    "id": "O1c7iV02T2Mj"
   },
   "outputs": [
    {
     "data": {
      "text/plain": [
       "'Welcome to the Hi! Paris DataBootcamp 2023 !'"
      ]
     },
     "execution_count": 47,
     "metadata": {},
     "output_type": "execute_result"
    }
   ],
   "source": [
    "# Use regex pattern to clean the text\n",
    "pattern = r'\\?\\?|###'\n",
    "re.sub(pattern,'',text)"
   ]
  },
  {
   "cell_type": "markdown",
   "metadata": {},
   "source": [
    "**Note**: <br>\n",
    "The backslash in `\\?` is used as an escape character to indicate that `?` should be treated literally and not as a special character. <br>\n",
    "In regular expressions, the question mark `?` is a special character that indicates that the preceding element is optional. "
   ]
  },
  {
   "cell_type": "markdown",
   "metadata": {
    "id": "LvhVfglB91V5"
   },
   "source": [
    "The `re` module has **other functions** to manipulation strings with regex, such as:\n",
    "- `re.search()`: Search for the first occurence of a regex pattern\n",
    "- `re.match()`: Check if the regex pattern matches\n",
    "- `re.findall()`: Return all occurences of the regex pattern in string/list"
   ]
  },
  {
   "cell_type": "code",
   "execution_count": 48,
   "metadata": {
    "colab": {
     "base_uri": "https://localhost:8080/"
    },
    "id": "7iRr0TeN-az6",
    "outputId": "df745aea-fdfb-4347-ad79-6816c385fe21"
   },
   "outputs": [
    {
     "data": {
      "text/plain": [
       "['06 23 45 67 89', '01 57 09 12 74']"
      ]
     },
     "execution_count": 48,
     "metadata": {},
     "output_type": "execute_result"
    }
   ],
   "source": [
    "# Find every phone number in a string with re.findall()\n",
    "text = \"My personal phone number is 06 23 45 67 89 and my home phone number is 01 57 09 12 74\"\n",
    "pattern = r\"\\b0\\d(?: \\d{2}){4}\\b\"\n",
    "\n",
    "re.findall(pattern, text)"
   ]
  },
  {
   "cell_type": "markdown",
   "metadata": {
    "id": "vGCK4AZH_OFz"
   },
   "source": [
    "**Explanation for the `\"\\b0\\d(?: \\d{2}){4}\\b\"` pattern:**\n",
    "- `\\b`: Boundary to ensure that the pattern matches whole phone numbers.\n",
    "- `0`: The phone number starts with a '0'.\n",
    "- `\\d`: Matches any digit.\n",
    "- `(?: \\d{2}){4}`: Matches four pairs of digits, each separated by a space."
   ]
  },
  {
   "cell_type": "markdown",
   "metadata": {
    "id": "aPS9ht1vltm_"
   },
   "source": [
    "## <font color='#023F7C'>**1.4 Best practices for Python development**</font>\n",
    "\n",
    "In the introduction to this course, we've included basic guidelines to follow\n",
    "\n",
    "\n",
    "\n",
    "\n",
    "\n"
   ]
  },
  {
   "cell_type": "markdown",
   "metadata": {
    "id": "KUenIbE-lWyF"
   },
   "source": [
    "<font size=5>**1. Follow the PEP 8 style guide**</font> <br>\n",
    "\n",
    "The **PEP 8** (Python Enhancement Proposal 8) guidelines allows you to write readable and consitent Python code. <br>\n",
    "It covers code layout, naming conventions, and other coding style recommendations.\n",
    "- Find these guidelines with this [link](https://peps.python.org/pep-0008/)\n",
    "- Use the `pep8` or `flake8` libraries to automatically check Python code\n",
    "\n",
    "<br>\n",
    "\n",
    "<img src = https://media.geeksforgeeks.org/wp-content/uploads/20200505225527/Pycharmi-IDE-1-300x207.png width = \"300\" height = \"200\" >\n"
   ]
  },
  {
   "cell_type": "markdown",
   "metadata": {
    "id": "obW-IiRSs99v"
   },
   "source": [
    "<font size=5>**2. Create Virtual Environments**</font> <br>\n",
    "\n",
    "You can create a **virtual environment** for each project to isolate package dependencies. <br>\n",
    "It is a useful tool when your projects requiere different Python versions or libraries versions.\n",
    "  - Create a virtual environment: `python -m venv <venv-name>`\n",
    "  - Activate the virtual environment: `<venv-path>\\Scripts\\activate`\n",
    "\n",
    "<img src = https://www.dataquest.io/wp-content/uploads/2022/01/python-virtual-envs1.webp width = \"550\" height = \"300\" >\n",
    "\n",
    "<!-- https://softcover.s3.amazonaws.com/636/learn_enough_git/images/figures/git_status_sequence.png -->\n",
    "\n",
    "<font size=5>**3. Use a Version control system (Git)**</font> <br>\n",
    "\n",
    "A **version control system** is a software tool that allows developers to manage changes to their code.  <br> **Git** is the most popular and widely used version control system.\n",
    "- Avoid conflicts when multiple people are working on the same code\n",
    "- Create separate branches to work on features independently\n",
    "\n",
    "<img src = https://docs.getdbt.com/img/docs/dbt-cloud/cloud-ide/git-overview.png width = \"400\" height = \"300\" >\n",
    "\n"
   ]
  },
  {
   "cell_type": "markdown",
   "metadata": {
    "id": "TS3XOFS6YXrc"
   },
   "source": [
    "**GitHub** is a web-based hosting service for Git repositories. <br> Git repositories tracks and saves the history of all changes made to files  <br>\n",
    "- Create a github repository for your project\n",
    "- Clone the repository to your computer: `git clone`\n",
    "- Add/commit/push modifications: `git add`, `git commit`, `git push`\n",
    "\n",
    "<img src = https://softcover.s3.amazonaws.com/636/learn_enough_git/images/figures/git_status_sequence.png width = \"600\" height = \"150\" >\n"
   ]
  },
  {
   "cell_type": "markdown",
   "metadata": {
    "id": "AxzSf4ZYm7-Z"
   },
   "source": [
    "<font size=5>**4. Document your code with docstrings**</font> <br>\n",
    "\n",
    "**Docstrings** are strings used to document functions, methods, classes, or modules. <br>\n",
    "They are defined with triple quotes `'''` and can be accessed with `__doc__` or `help()`\n"
   ]
  },
  {
   "cell_type": "code",
   "execution_count": 49,
   "metadata": {
    "id": "yVm2Mc2rhws7"
   },
   "outputs": [],
   "source": [
    "def multiply(a,b):\n",
    "  \"\"\"Compute the product of two numbers\n",
    "\n",
    "  Parameters:\n",
    "  -----------\n",
    "  a: float\n",
    "    The first number to be multiplied by\n",
    "  b: float\n",
    "    The second number to be multiplied by\n",
    "\n",
    "  \"\"\"\n",
    "  return a*b"
   ]
  },
  {
   "cell_type": "code",
   "execution_count": 50,
   "metadata": {
    "colab": {
     "base_uri": "https://localhost:8080/"
    },
    "id": "5xG3zP6rihSY",
    "outputId": "abe570ec-c862-4dcd-e116-9225c05fdc91"
   },
   "outputs": [
    {
     "name": "stdout",
     "output_type": "stream",
     "text": [
      "Help on function multiply in module __main__:\n",
      "\n",
      "multiply(a, b)\n",
      "    Compute the product of two numbers\n",
      "    \n",
      "    Parameters:\n",
      "    -----------\n",
      "    a: float\n",
      "      The first number to be multiplied by\n",
      "    b: float\n",
      "      The second number to be multiplied by\n",
      "\n"
     ]
    }
   ],
   "source": [
    "help(multiply)"
   ]
  },
  {
   "cell_type": "markdown",
   "metadata": {
    "id": "liUQ0bl-nAKs"
   },
   "source": [
    "\n",
    "<font size=5>**5. Unit testing**</font>\n",
    "\n",
    "Unit testing is a method by which testing is automated on small units of code, such as functions. <br>\n",
    "They can help you easily discover and fix bugs in your code.\n",
    "- `assert`: returns an `Assertion Error` if the tested statement fails\n",
    "- `try`, `except`: test a statement and specify the type of error\n",
    "\n",
    "```\n",
    "input_value = 100\n",
    "assert input_value < 80, \"the statement is False\"\n",
    "```\n",
    "\n",
    "You can also use the `pytest` and `unittest` libraries to create unit tests\n",
    "- unittest: https://docs.python.org/3/library/unittest.html\n",
    "- pytest: https://docs.pytest.org/en/7.4.x/"
   ]
  },
  {
   "cell_type": "markdown",
   "metadata": {
    "id": "TZI-KMQWK-Ud"
   },
   "source": [
    "# <font color='#023F7C'>**2. Python for Data Science 🚀**</font>\n",
    "\n",
    "An open-source library is a collection of modules made available to the public for free under an open-source license. <br>\n",
    "Python has a rich ecosystem of **open-source libraries** dedicated to Data Science.\n",
    "\n",
    "Data Science libraries are useful for every step of a project, from **Data Cleaning 🧹** to **Model Building ⚙️**. <br>\n",
    "You'll use the following librairies during the bootcamp:\n",
    "- **NumPy**: A fundamental library for Numerical computing in Python.\n",
    "- **Pandas**: A popular library for Data manipulation and analysis\n",
    "- **Matplotlib**/**Seaborn** : Plotting libraries to generate visualizations in Python.\n",
    "- **Scikit-learn**: A library that provides tools for Machine Learning (pre-processing, modeling,...).\n",
    "\n",
    "<br>\n",
    "\n",
    "<img src = https://global-uploads.webflow.com/6473d8d02a3cf26273f2787d/6473d8d02a3cf26273f2873c_image3-1024x683.png width = \"500\" height = \"350\" >\n"
   ]
  },
  {
   "cell_type": "markdown",
   "metadata": {
    "id": "3YLJ6dQFp9a_"
   },
   "source": [
    "Open-source libraries need to be installed before being imported to Python code.\n",
    "- Install a library using `pip install ...` (terminal or notebook cell)\n",
    "- Load a library with `import ...`"
   ]
  },
  {
   "cell_type": "markdown",
   "metadata": {
    "id": "IUc399t5_qL7"
   },
   "source": [
    "##  <font color='#023F7C'>**2.1 Numerical computing with NumPy**</font>\n",
    "\n",
    "**NumPy** is a fundamental Python library for Numerical computing. <br>\n",
    "- It provides tools to work with multi-dimensional arrays and matrices. <br>\n",
    "- It also provides a vast collection of mathematical functions that can be used on arrays.\n",
    "\n",
    "\n",
    "\n",
    "\n",
    "\n",
    "\n"
   ]
  },
  {
   "cell_type": "code",
   "execution_count": 51,
   "metadata": {
    "id": "w5hVdp_3m1Ib"
   },
   "outputs": [],
   "source": [
    "import numpy as np"
   ]
  },
  {
   "cell_type": "markdown",
   "metadata": {
    "id": "qTmp9dGoKJQ6"
   },
   "source": [
    "**<font size='5'>NumPy arrays**</font> <br>\n",
    "NumPy provides an **array object** that is much faster to process than lists. <br> They are created using `np.array()`.\n",
    "- Arrays are homogeneous, each item has the same data type\n",
    "- Arrays can be multidimensional (1D: vector, 2D: matrix, 3D...)"
   ]
  },
  {
   "cell_type": "markdown",
   "metadata": {
    "id": "wUa2MHG6NeqP"
   },
   "source": [
    "<img src = https://predictivehacks.com/wp-content/uploads/2020/08/numpy_arrays-1024x572.png width = \"500\" height = \"280\" >"
   ]
  },
  {
   "cell_type": "code",
   "execution_count": 52,
   "metadata": {
    "colab": {
     "base_uri": "https://localhost:8080/"
    },
    "id": "mTYSe4c_LXZm",
    "outputId": "9569c2be-e0e1-44c0-c6a2-d2e3fa735f24"
   },
   "outputs": [
    {
     "data": {
      "text/plain": [
       "array([1, 2, 3, 4, 5, 6])"
      ]
     },
     "execution_count": 52,
     "metadata": {},
     "output_type": "execute_result"
    }
   ],
   "source": [
    "# 1D array (vector)\n",
    "array_1d = np.array([1,2,3,4,5,6])\n",
    "array_1d"
   ]
  },
  {
   "cell_type": "code",
   "execution_count": 53,
   "metadata": {
    "colab": {
     "base_uri": "https://localhost:8080/"
    },
    "id": "8FWvvmRvLX1T",
    "outputId": "b10b1cd1-ce3a-4a70-c01d-9e718b0231d3"
   },
   "outputs": [
    {
     "data": {
      "text/plain": [
       "array([[1, 2, 3],\n",
       "       [4, 5, 6]])"
      ]
     },
     "execution_count": 53,
     "metadata": {},
     "output_type": "execute_result"
    }
   ],
   "source": [
    "# 2D array (matrix)\n",
    "array_2d = np.array([[1,2,3],[4,5,6]])\n",
    "array_2d"
   ]
  },
  {
   "cell_type": "code",
   "execution_count": 54,
   "metadata": {
    "colab": {
     "base_uri": "https://localhost:8080/"
    },
    "id": "EhUQlkH4Mfba",
    "outputId": "aa24d9f2-57de-4f74-a8f7-d661d4cf8d2f"
   },
   "outputs": [
    {
     "name": "stdout",
     "output_type": "stream",
     "text": [
      "1D shape: (6,)\n",
      "2D shape: (2, 3)\n"
     ]
    }
   ],
   "source": [
    "# Get an array's shape with np.shape (or .shape)\n",
    "print(\"1D shape:\",np.shape(array_1d))\n",
    "print(\"2D shape:\",np.shape(array_2d))"
   ]
  },
  {
   "cell_type": "markdown",
   "metadata": {
    "id": "5i_55hUQRbry"
   },
   "source": [
    "**Numpy functions** <br>\n",
    "You can generate arrays using built-in numpy functions:\n",
    "- `np.arange()`: array with evenly spaced numbers over an interval\n",
    "- `np.linspace()`: array with given number of elements over an interval\n",
    "- `np.random.randn()`: array with random numbers from a uniform distribution"
   ]
  },
  {
   "cell_type": "code",
   "execution_count": 55,
   "metadata": {
    "colab": {
     "base_uri": "https://localhost:8080/"
    },
    "id": "1nWfOrnEXuml",
    "outputId": "570bd789-2d15-4ff7-b9bb-2cec6220c0f3"
   },
   "outputs": [
    {
     "data": {
      "text/plain": [
       "array([ 2,  4,  6,  8, 10])"
      ]
     },
     "execution_count": 55,
     "metadata": {},
     "output_type": "execute_result"
    }
   ],
   "source": [
    "# Array with a range of integers between 2 and 12 with step=2\n",
    "np.arange(2,12,2)"
   ]
  },
  {
   "cell_type": "code",
   "execution_count": 56,
   "metadata": {
    "colab": {
     "base_uri": "https://localhost:8080/"
    },
    "id": "wEwBZzB3Q7tZ",
    "outputId": "5237c4c8-0243-4d55-909c-6e1581ac8f81"
   },
   "outputs": [
    {
     "data": {
      "text/plain": [
       "-0.007919236271924387"
      ]
     },
     "execution_count": 56,
     "metadata": {},
     "output_type": "execute_result"
    }
   ],
   "source": [
    "# Array with random numbers of size 10\n",
    "np.random.randn()"
   ]
  },
  {
   "cell_type": "markdown",
   "metadata": {
    "id": "9XCll1HEiMg-"
   },
   "source": [
    "**Array slicing** <br>\n",
    "Numpy array's can sliced using positional indexing, since its items are ordered. <br>\n",
    "You can also filter an array based on a condition.\n"
   ]
  },
  {
   "cell_type": "code",
   "execution_count": 57,
   "metadata": {
    "colab": {
     "base_uri": "https://localhost:8080/"
    },
    "id": "amXKl9eXLqPv",
    "outputId": "898e8d75-6047-4a48-e7d7-d901995e73af"
   },
   "outputs": [
    {
     "data": {
      "text/plain": [
       "1"
      ]
     },
     "execution_count": 57,
     "metadata": {},
     "output_type": "execute_result"
    }
   ],
   "source": [
    "# Slicing a 1D array with a single index\n",
    "array_1d[0]"
   ]
  },
  {
   "cell_type": "code",
   "execution_count": 58,
   "metadata": {
    "colab": {
     "base_uri": "https://localhost:8080/"
    },
    "id": "4EOQ7MnOjYbZ",
    "outputId": "ea6fad9e-6b67-4338-e965-a5b1d8e0357a"
   },
   "outputs": [
    {
     "data": {
      "text/plain": [
       "array([1, 2, 3])"
      ]
     },
     "execution_count": 58,
     "metadata": {},
     "output_type": "execute_result"
    }
   ],
   "source": [
    "# Slicing a 2D array with two indexes\n",
    "array_2d[0,:] # get the first row"
   ]
  },
  {
   "cell_type": "code",
   "execution_count": 59,
   "metadata": {
    "colab": {
     "base_uri": "https://localhost:8080/"
    },
    "id": "ocv7k7u0iXcw",
    "outputId": "58bd9ab6-f03e-4f9f-abb0-56dda476c566"
   },
   "outputs": [
    {
     "data": {
      "text/plain": [
       "array([5, 6])"
      ]
     },
     "execution_count": 59,
     "metadata": {},
     "output_type": "execute_result"
    }
   ],
   "source": [
    "# Filter a 1D array\n",
    "array_1d[array_1d>4]"
   ]
  },
  {
   "cell_type": "markdown",
   "metadata": {
    "id": "ylfWh2SGNWol"
   },
   "source": [
    "**<font size='5' color='#023F7C'>NumPy operations**</font> <br>\n",
    "\n",
    "NumPy has many mathematical functions that can be used on its arrays. <br>\n",
    "They extend the capabilities of Python's built-in operators and Standard library modules.\n",
    "- They allow operations to be **vectorized**, which means directly applied to each item of an array\n",
    "- In most cases, they are more efficient than for-loops and list comprehension\n",
    "\n",
    "\n"
   ]
  },
  {
   "cell_type": "markdown",
   "metadata": {
    "id": "wdH_jiDwLVo9"
   },
   "source": [
    "| Type | Numpy functions | Description |\n",
    "| ------------------| ------------|-----------------|\n",
    "| Basic operations | `np.add()`, `np.substract()`, <br> `np.multiply()`, `np.divide()` | Functions to add, substract, multiply, divide\n",
    "| Trigonometric | `np.cos()`, `np.sim()`, `np.tan()`, `np.arccos()` | Trigonometric and inverse trigonometric functions |\n",
    "| Exponential/Logarithmic |   `np.exp()`, `np.log()` |  Exponential and logarithm functions |\n",
    "| Rounding/Absolute |  `np.round()`, `np.floor()`, `np.ceil()`, `np.abs()` | Round a value or compute its absolute value |\n",
    "| Statistical | `np.mean()`, `np.median()`, `np.std()` | Compute basic statistical metrics (mean, median, std,...) |"
   ]
  },
  {
   "cell_type": "code",
   "execution_count": 60,
   "metadata": {
    "colab": {
     "base_uri": "https://localhost:8080/"
    },
    "id": "LzSCS39kTVjE",
    "outputId": "2a114186-9579-47ea-84a0-849603728023"
   },
   "outputs": [
    {
     "name": "stdout",
     "output_type": "stream",
     "text": [
      "1.0\n",
      "0.0\n"
     ]
    }
   ],
   "source": [
    "print(np.exp(0)) # exponential\n",
    "print(np.log(1)) # log"
   ]
  },
  {
   "cell_type": "code",
   "execution_count": 61,
   "metadata": {
    "colab": {
     "base_uri": "https://localhost:8080/"
    },
    "id": "plTAkhPOTkeo",
    "outputId": "bae2975b-685e-4ca2-90ce-21cb8cd97d8c"
   },
   "outputs": [
    {
     "data": {
      "text/plain": [
       "array([ 4,  6,  8, 10, 12])"
      ]
     },
     "execution_count": 61,
     "metadata": {},
     "output_type": "execute_result"
    }
   ],
   "source": [
    "array1 = np.array([2,4,6,8,10])\n",
    "array2 = np.array([2,2,2,2,2])\n",
    "\n",
    "# Add elements of array1 and array2 element wise\n",
    "np.add(array1,array2)"
   ]
  },
  {
   "cell_type": "code",
   "execution_count": 62,
   "metadata": {
    "colab": {
     "base_uri": "https://localhost:8080/"
    },
    "id": "_eALj75_Ugbt",
    "outputId": "91262f3b-4a58-40a6-f3e3-7316bc0e3235"
   },
   "outputs": [
    {
     "data": {
      "text/plain": [
       "array([0.69314718, 1.38629436, 1.79175947, 2.07944154, 2.30258509])"
      ]
     },
     "execution_count": 62,
     "metadata": {},
     "output_type": "execute_result"
    }
   ],
   "source": [
    "# Apply the log function to each element of an array\n",
    "np.log(array1)"
   ]
  },
  {
   "cell_type": "markdown",
   "metadata": {
    "id": "ecXQuYp-ohUG"
   },
   "source": [
    "## <font color='#023F7C'>**2.2 Data wrangling with Pandas</font>**\n",
    "\n",
    "**Pandas** is a popular library for Data manipulation and analysis. <br>\n",
    "It offers powerful data structures and tools to handle structured data. <br>\n"
   ]
  },
  {
   "cell_type": "code",
   "execution_count": 63,
   "metadata": {
    "id": "LM1gq9qOomuU"
   },
   "outputs": [],
   "source": [
    "import pandas as pd"
   ]
  },
  {
   "cell_type": "code",
   "execution_count": 64,
   "metadata": {
    "id": "flbbtKmB2XQn"
   },
   "outputs": [],
   "source": [
    "# Define lists for dataframe\n",
    "product_category = [\"Men's Footwear\", \"Men's Footwear\",\"Men's Footwear\",\"Water Sports\",\"Baseball & Softball\",\"Men's Footwear\",\n",
    "                    \"Baseball & Softball\",\"Water Sports\",\"Men's Footwear\",\"Men's Footwear\",\"Water Sports\",\"Water Sports\",\n",
    "                    \"Water Sports\", \"Baseball & Softball\",\"Baseball & Softball\"]\n",
    "\n",
    "customer_city = [\"Chicago\",\"Chicago\",\"Los Angeles\",\"Los Angeles\",\"Los Angeles\",\"Chicago\",\"New York\",\"New York\",\n",
    "                 \"Chicago\",\"Chicago\",\"Chicago\",\"Los Angeles\",\"Los Angeles\",\"Los Angeles\",\"New York\"]\n",
    "\n",
    "product_price = [100,250,80,350,450,300,20,1000,65,60,2500,95,1950,700,75]"
   ]
  },
  {
   "cell_type": "markdown",
   "metadata": {
    "id": "nuDVnojyNwxZ"
   },
   "source": [
    "<br>\n",
    "\n",
    "<font size='5' color='#023F7C'>**What are DataFrames ?</font>** \n",
    "\n",
    "Dataframes are **two-dimensional** data structures with rows and columns. <br> Each row is identified with an index label, and each column by a column name.\n",
    "- Create a Dataframe with `pd.DataFrame()`  \n",
    "- Select a column with brackets `[]`\n",
    "- A single column is a Pandas Series (one-dimensional data structure)\n",
    "\n",
    "<img src = https://pynative.com/wp-content/uploads/2021/02/dataframe.png width = \"600\" height = \"300\" >"
   ]
  },
  {
   "cell_type": "code",
   "execution_count": 65,
   "metadata": {
    "colab": {
     "base_uri": "https://localhost:8080/",
     "height": 206
    },
    "id": "9CEdtiU7kFuL",
    "outputId": "4b81a7ae-0550-4a4f-a159-dafa7999069c"
   },
   "outputs": [
    {
     "data": {
      "text/html": [
       "<div>\n",
       "<style scoped>\n",
       "    .dataframe tbody tr th:only-of-type {\n",
       "        vertical-align: middle;\n",
       "    }\n",
       "\n",
       "    .dataframe tbody tr th {\n",
       "        vertical-align: top;\n",
       "    }\n",
       "\n",
       "    .dataframe thead th {\n",
       "        text-align: right;\n",
       "    }\n",
       "</style>\n",
       "<table border=\"1\" class=\"dataframe\">\n",
       "  <thead>\n",
       "    <tr style=\"text-align: right;\">\n",
       "      <th></th>\n",
       "      <th>Product category</th>\n",
       "      <th>Customer city</th>\n",
       "      <th>Product price</th>\n",
       "    </tr>\n",
       "  </thead>\n",
       "  <tbody>\n",
       "    <tr>\n",
       "      <th>0</th>\n",
       "      <td>Men's Footwear</td>\n",
       "      <td>Chicago</td>\n",
       "      <td>100</td>\n",
       "    </tr>\n",
       "    <tr>\n",
       "      <th>1</th>\n",
       "      <td>Men's Footwear</td>\n",
       "      <td>Chicago</td>\n",
       "      <td>250</td>\n",
       "    </tr>\n",
       "    <tr>\n",
       "      <th>2</th>\n",
       "      <td>Men's Footwear</td>\n",
       "      <td>Los Angeles</td>\n",
       "      <td>80</td>\n",
       "    </tr>\n",
       "    <tr>\n",
       "      <th>3</th>\n",
       "      <td>Water Sports</td>\n",
       "      <td>Los Angeles</td>\n",
       "      <td>350</td>\n",
       "    </tr>\n",
       "    <tr>\n",
       "      <th>4</th>\n",
       "      <td>Baseball &amp; Softball</td>\n",
       "      <td>Los Angeles</td>\n",
       "      <td>450</td>\n",
       "    </tr>\n",
       "  </tbody>\n",
       "</table>\n",
       "</div>"
      ],
      "text/plain": [
       "      Product category Customer city  Product price\n",
       "0       Men's Footwear       Chicago            100\n",
       "1       Men's Footwear       Chicago            250\n",
       "2       Men's Footwear   Los Angeles             80\n",
       "3         Water Sports   Los Angeles            350\n",
       "4  Baseball & Softball   Los Angeles            450"
      ]
     },
     "execution_count": 65,
     "metadata": {},
     "output_type": "execute_result"
    }
   ],
   "source": [
    "# Define the dataframe using a dictionary (other ways)\n",
    "df = pd.DataFrame({\"Product category\":product_category,\n",
    "                   \"Customer city\":customer_city,\n",
    "                   \"Product price\":product_price})\n",
    "\n",
    "# Print the first five rows of the dataframe\n",
    "df.head()"
   ]
  },
  {
   "cell_type": "code",
   "execution_count": 66,
   "metadata": {
    "colab": {
     "base_uri": "https://localhost:8080/"
    },
    "id": "iotxfvBwWWNy",
    "outputId": "ca5d9279-ff98-43d4-8108-a1df28248600"
   },
   "outputs": [
    {
     "data": {
      "text/plain": [
       "0         Men's Footwear\n",
       "1         Men's Footwear\n",
       "2         Men's Footwear\n",
       "3           Water Sports\n",
       "4    Baseball & Softball\n",
       "Name: Product category, dtype: object"
      ]
     },
     "execution_count": 66,
     "metadata": {},
     "output_type": "execute_result"
    }
   ],
   "source": [
    "# Select a single column\n",
    "df[\"Product category\"].head()"
   ]
  },
  {
   "cell_type": "code",
   "execution_count": 67,
   "metadata": {
    "colab": {
     "base_uri": "https://localhost:8080/",
     "height": 206
    },
    "id": "P6R1MJx_WYR-",
    "outputId": "57f9ac58-bca2-43d3-d7e0-90df019d8856"
   },
   "outputs": [
    {
     "data": {
      "text/html": [
       "<div>\n",
       "<style scoped>\n",
       "    .dataframe tbody tr th:only-of-type {\n",
       "        vertical-align: middle;\n",
       "    }\n",
       "\n",
       "    .dataframe tbody tr th {\n",
       "        vertical-align: top;\n",
       "    }\n",
       "\n",
       "    .dataframe thead th {\n",
       "        text-align: right;\n",
       "    }\n",
       "</style>\n",
       "<table border=\"1\" class=\"dataframe\">\n",
       "  <thead>\n",
       "    <tr style=\"text-align: right;\">\n",
       "      <th></th>\n",
       "      <th>Product category</th>\n",
       "      <th>Customer city</th>\n",
       "    </tr>\n",
       "  </thead>\n",
       "  <tbody>\n",
       "    <tr>\n",
       "      <th>0</th>\n",
       "      <td>Men's Footwear</td>\n",
       "      <td>Chicago</td>\n",
       "    </tr>\n",
       "    <tr>\n",
       "      <th>1</th>\n",
       "      <td>Men's Footwear</td>\n",
       "      <td>Chicago</td>\n",
       "    </tr>\n",
       "    <tr>\n",
       "      <th>2</th>\n",
       "      <td>Men's Footwear</td>\n",
       "      <td>Los Angeles</td>\n",
       "    </tr>\n",
       "    <tr>\n",
       "      <th>3</th>\n",
       "      <td>Water Sports</td>\n",
       "      <td>Los Angeles</td>\n",
       "    </tr>\n",
       "    <tr>\n",
       "      <th>4</th>\n",
       "      <td>Baseball &amp; Softball</td>\n",
       "      <td>Los Angeles</td>\n",
       "    </tr>\n",
       "  </tbody>\n",
       "</table>\n",
       "</div>"
      ],
      "text/plain": [
       "      Product category Customer city\n",
       "0       Men's Footwear       Chicago\n",
       "1       Men's Footwear       Chicago\n",
       "2       Men's Footwear   Los Angeles\n",
       "3         Water Sports   Los Angeles\n",
       "4  Baseball & Softball   Los Angeles"
      ]
     },
     "execution_count": 67,
     "metadata": {},
     "output_type": "execute_result"
    }
   ],
   "source": [
    "# Select multiple columns with a list\n",
    "df[[\"Product category\",\"Customer city\"]].head()"
   ]
  },
  {
   "cell_type": "markdown",
   "metadata": {
    "id": "KY7ySQpnuvzq"
   },
   "source": [
    "**Load & Save files**: <br>\n",
    "You can **load** data formats as dataframes with `pd.read_csv()`, `pd.read_excel()`,... <br>\n",
    "You can **save** dataframes into different data formats with `.to_csv()`, `to_excel()`, ...\n",
    "\n",
    "``` \n",
    "# Load a csv file to a DataFrame format\n",
    "data_load = pd.read_csv(\"file_name.csv\")\n",
    "\n",
    "# Save a Pandas DataFrame to a csv file\n",
    "data_save = pd.DataFrame({\"column 1\": [1,2,3], \n",
    "                          \"columns 2\": [4,5,6]})\n",
    "data_save.to_csv(index=False)\n",
    "```"
   ]
  },
  {
   "cell_type": "markdown",
   "metadata": {
    "id": "WussyMSfJHX0"
   },
   "source": [
    "**Pandas dtypes**: <br>\n",
    "Pandas has its own data types (dtypes) to store information:\n",
    "- Numerical types are stored as `int64` or `float64`\n",
    "- String/mixed types are stored as `object`\n",
    "- Other dtypes: `bool`, `datetime64[ns]`, `timedelta`, `category`\n",
    "\n",
    "You can access a dataframe's dtypes with `.dtypes` <br>\n",
    "You can also modify a columns' dtype using `.astype()`"
   ]
  },
  {
   "cell_type": "code",
   "execution_count": 68,
   "metadata": {
    "colab": {
     "base_uri": "https://localhost:8080/"
    },
    "id": "vLyPXZWNoNuW",
    "outputId": "8aca5020-fd98-4200-8413-d8d6294e6eb0"
   },
   "outputs": [
    {
     "data": {
      "text/plain": [
       "Product category    object\n",
       "Customer city       object\n",
       "Product price        int64\n",
       "dtype: object"
      ]
     },
     "execution_count": 68,
     "metadata": {},
     "output_type": "execute_result"
    }
   ],
   "source": [
    "# Use .dtypes to access these data types\n",
    "df.dtypes"
   ]
  },
  {
   "cell_type": "markdown",
   "metadata": {
    "id": "YunA3N11wriT"
   },
   "source": [
    "<br>\n",
    "\n",
    "**<font size='5'  color='#023F7C'>Manipulate Dataframes**</font> <br>\n",
    "\n",
    "Pandas has a large collection of methods to **manipulate DataFrames**. <br>\n",
    "They allow you to analyze missing values, sort columns, reset indexes, convert to numpy array, ...\n",
    "\n"
   ]
  },
  {
   "cell_type": "markdown",
   "metadata": {
    "id": "xNGDpFDiUmpy"
   },
   "source": [
    "| Pandas Function | Description | Parameters |\n",
    "|----------|-------------|------------|\n",
    "| `.head()`/`.tail()`| Select the first or last n rows  | `n`: number of rows to select, default=5 |\n",
    "| `.drop()`| Drop rows or columns from a dataframe | `index`: indexes to drop <br> `columns`: columns to drop |\n",
    "| `.sort_values()`| Order rows based on the values of one or more columns | `by`: column names to sort by <br> `ascending`: Way of sorting (bool) <br> `inplace`: Perform operation in place (bool)\n",
    "| `.value_counts()`| Count the number of rows with each unique variable value | `normalize`: normalize frequencies (bool) <br> `sort`: sort by frequencies\n",
    "| `.dropna()`| Remove missing values (NaN) | `axis`: drop rows or columns with NaN (0/1)\n",
    "| `.fillna()` | Fill NaN values with a specific value | `value`: Value to replace NaN (scalar, dict, df)\n",
    "| `.reset.index()`| Reset index to row numbers, moving index to columns | `drop`: Keep or drop previous index to df (bool) <br> `inplace`: Apply modifications directly to df (bool)\n",
    "| `.to_numpy()` | Convert a DataFrame to a NumPy array | `dtype`: Dtype to pass to the array |\n",
    "| `.astype()` | Cast a pandas object (series, dataframe) to a specified dtype | `dtype`: Dtype to cast <br> `copy`: Apply the transformation directly to the object (True) or don't (False)\n"
   ]
  },
  {
   "cell_type": "code",
   "execution_count": 69,
   "metadata": {
    "colab": {
     "base_uri": "https://localhost:8080/"
    },
    "id": "JNqFtxpJVXKw",
    "outputId": "3e545e15-e82b-4594-feb9-835b0f804927"
   },
   "outputs": [
    {
     "data": {
      "text/plain": [
       "Product category\n",
       "Men's Footwear         6\n",
       "Water Sports           5\n",
       "Baseball & Softball    4\n",
       "Name: count, dtype: int64"
      ]
     },
     "execution_count": 69,
     "metadata": {},
     "output_type": "execute_result"
    }
   ],
   "source": [
    "# Get the number of rows of each product category\n",
    "df[\"Product category\"].value_counts()"
   ]
  },
  {
   "cell_type": "code",
   "execution_count": 70,
   "metadata": {
    "colab": {
     "base_uri": "https://localhost:8080/",
     "height": 206
    },
    "id": "Dsz2BaJ5JHd9",
    "outputId": "796ec16c-f40d-4e2b-c15a-69750231f3fc"
   },
   "outputs": [
    {
     "data": {
      "text/html": [
       "<div>\n",
       "<style scoped>\n",
       "    .dataframe tbody tr th:only-of-type {\n",
       "        vertical-align: middle;\n",
       "    }\n",
       "\n",
       "    .dataframe tbody tr th {\n",
       "        vertical-align: top;\n",
       "    }\n",
       "\n",
       "    .dataframe thead th {\n",
       "        text-align: right;\n",
       "    }\n",
       "</style>\n",
       "<table border=\"1\" class=\"dataframe\">\n",
       "  <thead>\n",
       "    <tr style=\"text-align: right;\">\n",
       "      <th></th>\n",
       "      <th>Product category</th>\n",
       "      <th>Product price</th>\n",
       "    </tr>\n",
       "  </thead>\n",
       "  <tbody>\n",
       "    <tr>\n",
       "      <th>6</th>\n",
       "      <td>Baseball &amp; Softball</td>\n",
       "      <td>20</td>\n",
       "    </tr>\n",
       "    <tr>\n",
       "      <th>9</th>\n",
       "      <td>Men's Footwear</td>\n",
       "      <td>60</td>\n",
       "    </tr>\n",
       "    <tr>\n",
       "      <th>8</th>\n",
       "      <td>Men's Footwear</td>\n",
       "      <td>65</td>\n",
       "    </tr>\n",
       "    <tr>\n",
       "      <th>14</th>\n",
       "      <td>Baseball &amp; Softball</td>\n",
       "      <td>75</td>\n",
       "    </tr>\n",
       "    <tr>\n",
       "      <th>2</th>\n",
       "      <td>Men's Footwear</td>\n",
       "      <td>80</td>\n",
       "    </tr>\n",
       "  </tbody>\n",
       "</table>\n",
       "</div>"
      ],
      "text/plain": [
       "       Product category  Product price\n",
       "6   Baseball & Softball             20\n",
       "9        Men's Footwear             60\n",
       "8        Men's Footwear             65\n",
       "14  Baseball & Softball             75\n",
       "2        Men's Footwear             80"
      ]
     },
     "execution_count": 70,
     "metadata": {},
     "output_type": "execute_result"
    }
   ],
   "source": [
    "# Remove a column, drop missing values and sort df\n",
    "df.drop(columns=[\"Customer city\"]).dropna().sort_values(\"Product price\").head()"
   ]
  },
  {
   "cell_type": "markdown",
   "metadata": {
    "id": "_mgEs57dqnOJ"
   },
   "source": [
    "Series and DataFrames are ordered collections of data. <br>\n",
    "They can be filtered using **label** and **integer-based indexing**.\n",
    "\n"
   ]
  },
  {
   "cell_type": "markdown",
   "metadata": {},
   "source": [
    "1. **`df.loc[row_labels,column_labels]`** <br>\n",
    "**Access a group of rows and columns by label(s) or a boolean array** <br>\n",
    "- Filter a pandas object with columns labels (same as `df[column_name]`).\n",
    "- Add operators to filter specific rows/columns from data (boolean array).\n",
    "- Use Bitwise Operators ( `&`, `|`,`~`) to add multiple operators to `.loc[]`."
   ]
  },
  {
   "cell_type": "code",
   "execution_count": 71,
   "metadata": {
    "colab": {
     "base_uri": "https://localhost:8080/",
     "height": 174
    },
    "id": "aEwY63TPqwhy",
    "outputId": "b9e7ff5b-8b8e-4d49-fce4-bd2019c96f53"
   },
   "outputs": [
    {
     "data": {
      "text/html": [
       "<div>\n",
       "<style scoped>\n",
       "    .dataframe tbody tr th:only-of-type {\n",
       "        vertical-align: middle;\n",
       "    }\n",
       "\n",
       "    .dataframe tbody tr th {\n",
       "        vertical-align: top;\n",
       "    }\n",
       "\n",
       "    .dataframe thead th {\n",
       "        text-align: right;\n",
       "    }\n",
       "</style>\n",
       "<table border=\"1\" class=\"dataframe\">\n",
       "  <thead>\n",
       "    <tr style=\"text-align: right;\">\n",
       "      <th></th>\n",
       "      <th>Product category</th>\n",
       "      <th>Customer city</th>\n",
       "      <th>Product price</th>\n",
       "    </tr>\n",
       "  </thead>\n",
       "  <tbody>\n",
       "    <tr>\n",
       "      <th>4</th>\n",
       "      <td>Baseball &amp; Softball</td>\n",
       "      <td>Los Angeles</td>\n",
       "      <td>450</td>\n",
       "    </tr>\n",
       "    <tr>\n",
       "      <th>6</th>\n",
       "      <td>Baseball &amp; Softball</td>\n",
       "      <td>New York</td>\n",
       "      <td>20</td>\n",
       "    </tr>\n",
       "    <tr>\n",
       "      <th>13</th>\n",
       "      <td>Baseball &amp; Softball</td>\n",
       "      <td>Los Angeles</td>\n",
       "      <td>700</td>\n",
       "    </tr>\n",
       "    <tr>\n",
       "      <th>14</th>\n",
       "      <td>Baseball &amp; Softball</td>\n",
       "      <td>New York</td>\n",
       "      <td>75</td>\n",
       "    </tr>\n",
       "  </tbody>\n",
       "</table>\n",
       "</div>"
      ],
      "text/plain": [
       "       Product category Customer city  Product price\n",
       "4   Baseball & Softball   Los Angeles            450\n",
       "6   Baseball & Softball      New York             20\n",
       "13  Baseball & Softball   Los Angeles            700\n",
       "14  Baseball & Softball      New York             75"
      ]
     },
     "execution_count": 71,
     "metadata": {},
     "output_type": "execute_result"
    }
   ],
   "source": [
    "# Select rows with \"Baseball & Softball\" for Product category\n",
    "df.loc[df[\"Product category\"]==\"Baseball & Softball\",:] # : => get everything"
   ]
  },
  {
   "cell_type": "code",
   "execution_count": 72,
   "metadata": {
    "colab": {
     "base_uri": "https://localhost:8080/",
     "height": 112
    },
    "id": "aSg0YbuV3eJG",
    "outputId": "4fe688cb-9459-478f-d173-c39bd3befc71"
   },
   "outputs": [
    {
     "data": {
      "text/html": [
       "<div>\n",
       "<style scoped>\n",
       "    .dataframe tbody tr th:only-of-type {\n",
       "        vertical-align: middle;\n",
       "    }\n",
       "\n",
       "    .dataframe tbody tr th {\n",
       "        vertical-align: top;\n",
       "    }\n",
       "\n",
       "    .dataframe thead th {\n",
       "        text-align: right;\n",
       "    }\n",
       "</style>\n",
       "<table border=\"1\" class=\"dataframe\">\n",
       "  <thead>\n",
       "    <tr style=\"text-align: right;\">\n",
       "      <th></th>\n",
       "      <th>Product category</th>\n",
       "      <th>Customer city</th>\n",
       "      <th>Product price</th>\n",
       "    </tr>\n",
       "  </thead>\n",
       "  <tbody>\n",
       "    <tr>\n",
       "      <th>4</th>\n",
       "      <td>Baseball &amp; Softball</td>\n",
       "      <td>Los Angeles</td>\n",
       "      <td>450</td>\n",
       "    </tr>\n",
       "    <tr>\n",
       "      <th>13</th>\n",
       "      <td>Baseball &amp; Softball</td>\n",
       "      <td>Los Angeles</td>\n",
       "      <td>700</td>\n",
       "    </tr>\n",
       "  </tbody>\n",
       "</table>\n",
       "</div>"
      ],
      "text/plain": [
       "       Product category Customer city  Product price\n",
       "4   Baseball & Softball   Los Angeles            450\n",
       "13  Baseball & Softball   Los Angeles            700"
      ]
     },
     "execution_count": 72,
     "metadata": {},
     "output_type": "execute_result"
    }
   ],
   "source": [
    "# Select rows with \"Baseball & Softball\" for Product category and \"Los Angeles\" for Customer city\n",
    "df.loc[(df[\"Product category\"]==\"Baseball & Softball\") & (df[\"Customer city\"]==\"Los Angeles\"),:]"
   ]
  },
  {
   "cell_type": "markdown",
   "metadata": {
    "id": "FmmGCOlfqruT"
   },
   "source": [
    "2. **`df.iloc[row_indices,column_indices]`** <br>\n",
    "**Integer-location based indexing for selection by position.** <br> It only accepts integer indices for rows and columns."
   ]
  },
  {
   "cell_type": "code",
   "execution_count": 73,
   "metadata": {
    "colab": {
     "base_uri": "https://localhost:8080/",
     "height": 206
    },
    "id": "FjS8u6lWqw3R",
    "outputId": "b620da1c-ef06-41e2-ee6e-4dd3be12b7ee"
   },
   "outputs": [
    {
     "data": {
      "text/html": [
       "<div>\n",
       "<style scoped>\n",
       "    .dataframe tbody tr th:only-of-type {\n",
       "        vertical-align: middle;\n",
       "    }\n",
       "\n",
       "    .dataframe tbody tr th {\n",
       "        vertical-align: top;\n",
       "    }\n",
       "\n",
       "    .dataframe thead th {\n",
       "        text-align: right;\n",
       "    }\n",
       "</style>\n",
       "<table border=\"1\" class=\"dataframe\">\n",
       "  <thead>\n",
       "    <tr style=\"text-align: right;\">\n",
       "      <th></th>\n",
       "      <th>Product category</th>\n",
       "      <th>Customer city</th>\n",
       "      <th>Product price</th>\n",
       "    </tr>\n",
       "  </thead>\n",
       "  <tbody>\n",
       "    <tr>\n",
       "      <th>0</th>\n",
       "      <td>Men's Footwear</td>\n",
       "      <td>Chicago</td>\n",
       "      <td>100</td>\n",
       "    </tr>\n",
       "    <tr>\n",
       "      <th>1</th>\n",
       "      <td>Men's Footwear</td>\n",
       "      <td>Chicago</td>\n",
       "      <td>250</td>\n",
       "    </tr>\n",
       "    <tr>\n",
       "      <th>2</th>\n",
       "      <td>Men's Footwear</td>\n",
       "      <td>Los Angeles</td>\n",
       "      <td>80</td>\n",
       "    </tr>\n",
       "    <tr>\n",
       "      <th>3</th>\n",
       "      <td>Water Sports</td>\n",
       "      <td>Los Angeles</td>\n",
       "      <td>350</td>\n",
       "    </tr>\n",
       "    <tr>\n",
       "      <th>4</th>\n",
       "      <td>Baseball &amp; Softball</td>\n",
       "      <td>Los Angeles</td>\n",
       "      <td>450</td>\n",
       "    </tr>\n",
       "  </tbody>\n",
       "</table>\n",
       "</div>"
      ],
      "text/plain": [
       "      Product category Customer city  Product price\n",
       "0       Men's Footwear       Chicago            100\n",
       "1       Men's Footwear       Chicago            250\n",
       "2       Men's Footwear   Los Angeles             80\n",
       "3         Water Sports   Los Angeles            350\n",
       "4  Baseball & Softball   Los Angeles            450"
      ]
     },
     "execution_count": 73,
     "metadata": {},
     "output_type": "execute_result"
    }
   ],
   "source": [
    "# Select the first five rows\n",
    "df.iloc[:5,:]"
   ]
  },
  {
   "cell_type": "markdown",
   "metadata": {
    "id": "n7TW2g77Bvpd"
   },
   "source": [
    "**<font size='5'  color='#023F7C'>Modify DataFrames**</font> <br>\n",
    "\n",
    "Series and DataFrames are mutable objects in Python. <br>\n",
    "You can easily **add new columns** or **modify** existing columns to these objects. <br>\n",
    "- Add new columns with `df[new_column_name] = ...`\n",
    "- Modify an existing column with `df[column_name] = df[column_name]...`\n",
    "- Modify a column with pandas methods: `.map()`, `.apply()`\n"
   ]
  },
  {
   "cell_type": "markdown",
   "metadata": {
    "id": "maJY3HOg4sgY"
   },
   "source": [
    "1. **`.map()`**: <br>\n",
    "**Map values from a dictionary to a column of the dataframe.** <br>\n",
    "The following image is an example of mapping applied to a Pandas series.\n",
    "\n",
    "\n",
    "<img src = \"https://i.ibb.co/sy07SfV/pandas-map-visual-explanation-2.png\" width = \"600\" height = \"250\" >"
   ]
  },
  {
   "cell_type": "code",
   "execution_count": 74,
   "metadata": {
    "id": "7u_gmv5i66ZY"
   },
   "outputs": [],
   "source": [
    "dict_map = {\"Baseball & Softball\":\"Baseball\",\n",
    "            \"Men's Footwear\":\"Footwear\",\n",
    "            \"Water Sports\":\"Water Sports\"} # doesn't change"
   ]
  },
  {
   "cell_type": "code",
   "execution_count": 75,
   "metadata": {
    "colab": {
     "base_uri": "https://localhost:8080/"
    },
    "id": "hhCH5QS94o-T",
    "outputId": "52a95b55-27ae-4350-ab5c-fc688cc271b8"
   },
   "outputs": [
    {
     "data": {
      "text/plain": [
       "0         Footwear\n",
       "1         Footwear\n",
       "2         Footwear\n",
       "3     Water Sports\n",
       "4         Baseball\n",
       "5         Footwear\n",
       "6         Baseball\n",
       "7     Water Sports\n",
       "8         Footwear\n",
       "9         Footwear\n",
       "10    Water Sports\n",
       "11    Water Sports\n",
       "12    Water Sports\n",
       "13        Baseball\n",
       "14        Baseball\n",
       "Name: Product category, dtype: object"
      ]
     },
     "execution_count": 75,
     "metadata": {},
     "output_type": "execute_result"
    }
   ],
   "source": [
    "df[\"Product category\"].map(dict_map) # changes not saved to the dataframe"
   ]
  },
  {
   "cell_type": "markdown",
   "metadata": {
    "id": "23G6H15F5lsX"
   },
   "source": [
    "2. **`.apply()`** <br>\n",
    "**Apply a function a function to a pandas series/dataframe.**\n",
    "<br>\n",
    "Lambda functions are commonly used with the apply method but you can use any type of function."
   ]
  },
  {
   "cell_type": "code",
   "execution_count": 76,
   "metadata": {
    "id": "njy8KDf-l12T"
   },
   "outputs": [],
   "source": [
    "# Add a new column with prices in euros\n",
    "df[\"Product price (€)\"] = df[\"Product price\"].apply(lambda x: x*(0.91)) # changes saved to the dataframe"
   ]
  },
  {
   "cell_type": "code",
   "execution_count": 77,
   "metadata": {
    "colab": {
     "base_uri": "https://localhost:8080/",
     "height": 206
    },
    "id": "fvWwXHi244a3",
    "outputId": "23093022-3037-4cdf-c1d8-fb30cee68194"
   },
   "outputs": [
    {
     "data": {
      "text/html": [
       "<div>\n",
       "<style scoped>\n",
       "    .dataframe tbody tr th:only-of-type {\n",
       "        vertical-align: middle;\n",
       "    }\n",
       "\n",
       "    .dataframe tbody tr th {\n",
       "        vertical-align: top;\n",
       "    }\n",
       "\n",
       "    .dataframe thead th {\n",
       "        text-align: right;\n",
       "    }\n",
       "</style>\n",
       "<table border=\"1\" class=\"dataframe\">\n",
       "  <thead>\n",
       "    <tr style=\"text-align: right;\">\n",
       "      <th></th>\n",
       "      <th>Product category</th>\n",
       "      <th>Customer city</th>\n",
       "      <th>Product price</th>\n",
       "      <th>Product price (€)</th>\n",
       "    </tr>\n",
       "  </thead>\n",
       "  <tbody>\n",
       "    <tr>\n",
       "      <th>0</th>\n",
       "      <td>Men's Footwear</td>\n",
       "      <td>Chicago</td>\n",
       "      <td>100</td>\n",
       "      <td>91.0</td>\n",
       "    </tr>\n",
       "    <tr>\n",
       "      <th>1</th>\n",
       "      <td>Men's Footwear</td>\n",
       "      <td>Chicago</td>\n",
       "      <td>250</td>\n",
       "      <td>227.5</td>\n",
       "    </tr>\n",
       "    <tr>\n",
       "      <th>2</th>\n",
       "      <td>Men's Footwear</td>\n",
       "      <td>Los Angeles</td>\n",
       "      <td>80</td>\n",
       "      <td>72.8</td>\n",
       "    </tr>\n",
       "    <tr>\n",
       "      <th>3</th>\n",
       "      <td>Water Sports</td>\n",
       "      <td>Los Angeles</td>\n",
       "      <td>350</td>\n",
       "      <td>318.5</td>\n",
       "    </tr>\n",
       "    <tr>\n",
       "      <th>4</th>\n",
       "      <td>Baseball &amp; Softball</td>\n",
       "      <td>Los Angeles</td>\n",
       "      <td>450</td>\n",
       "      <td>409.5</td>\n",
       "    </tr>\n",
       "  </tbody>\n",
       "</table>\n",
       "</div>"
      ],
      "text/plain": [
       "      Product category Customer city  Product price  Product price (€)\n",
       "0       Men's Footwear       Chicago            100               91.0\n",
       "1       Men's Footwear       Chicago            250              227.5\n",
       "2       Men's Footwear   Los Angeles             80               72.8\n",
       "3         Water Sports   Los Angeles            350              318.5\n",
       "4  Baseball & Softball   Los Angeles            450              409.5"
      ]
     },
     "execution_count": 77,
     "metadata": {},
     "output_type": "execute_result"
    }
   ],
   "source": [
    "df.head()"
   ]
  },
  {
   "cell_type": "markdown",
   "metadata": {
    "id": "We-0RX50vr3f"
   },
   "source": [
    "<br>\n",
    "\n",
    "**<font  color='#023F7C' size='5'>Merge/Group DataFrames**</font> <br>\n",
    "\n",
    "\n",
    "An important feature of Pandas is its ability to **merge** and **group structured data**. <br> It allows data from different sources to be combined and analyzed efficiently.\n",
    "\n"
   ]
  },
  {
   "cell_type": "markdown",
   "metadata": {
    "id": "mD-lAYGto_wR"
   },
   "source": [
    "1. **`.merge()`**  <br>\n",
    "**Combine DataFrames based on a common key column.** <br>\n",
    "\n",
    "You can specify the join type as `'inner'`, `'left'`, `'right'`, or `'outer'` to achieve the desired join behavior. <br>\n",
    "In the following definitions, df1 is the left dataframe and df2 is the right one.\n",
    "- **Inner Join**: Return rows with matching keys in both df1 & df2.\n",
    "- **Left Join**: Returns all the rows from df1 and the matched rows from df2\n",
    "- **Right Join**: Return all the rows from df1 and the matched rows from df2\n",
    "- **Outer Join**: Returns all the rows from both df1 & df2, filling in missing values where there is no match.\n",
    "\n",
    "<br>\n",
    "\n",
    "<img src = https://statisticsglobe.com/wp-content/uploads/2021/12/join-types-python-merge-programming.png width = \"500\" height = \"320\" >\n"
   ]
  },
  {
   "cell_type": "code",
   "execution_count": 78,
   "metadata": {
    "id": "M9e9xEAjqaBv"
   },
   "outputs": [],
   "source": [
    "# Create dataframes to merge\n",
    "df1 = pd.DataFrame({'A': ['A0', 'A1', 'A2', 'A3'],\n",
    "                    'B': ['B0', 'B1', 'B2', 'B3'],\n",
    "                    'Key': ['K0', 'K1', 'K2', 'K3']})\n",
    "\n",
    "df2 = pd.DataFrame({'C': ['C0', 'C1', 'C2', 'C3'],\n",
    "                    'D': ['D0', 'D1', 'D2', 'D3'],\n",
    "                    'Key': ['K0', 'K1', 'K2', 'K3']})"
   ]
  },
  {
   "cell_type": "code",
   "execution_count": 79,
   "metadata": {
    "colab": {
     "base_uri": "https://localhost:8080/"
    },
    "id": "zF66FqNf5G3c",
    "outputId": "76c37210-cc91-4789-8dfd-ef022360b82d"
   },
   "outputs": [
    {
     "name": "stdout",
     "output_type": "stream",
     "text": [
      "Inner Join:\n",
      "    A   B Key   C   D\n",
      "0  A0  B0  K0  C0  D0\n",
      "1  A1  B1  K1  C1  D1\n",
      "2  A2  B2  K2  C2  D2\n",
      "3  A3  B3  K3  C3  D3\n"
     ]
    }
   ],
   "source": [
    "# Performing an inner join\n",
    "inner_join = df1.merge(df2, on='Key', how='inner')\n",
    "print(\"Inner Join:\")\n",
    "print(inner_join)"
   ]
  },
  {
   "cell_type": "code",
   "execution_count": 80,
   "metadata": {
    "colab": {
     "base_uri": "https://localhost:8080/"
    },
    "id": "X_PWxLHNQ_PZ",
    "outputId": "cdda55dd-9d31-4ddb-e785-bc1de730d0b4"
   },
   "outputs": [
    {
     "name": "stdout",
     "output_type": "stream",
     "text": [
      "Left Join:\n",
      "    A   B Key   C   D\n",
      "0  A0  B0  K0  C0  D0\n",
      "1  A1  B1  K1  C1  D1\n",
      "2  A2  B2  K2  C2  D2\n",
      "3  A3  B3  K3  C3  D3\n"
     ]
    }
   ],
   "source": [
    "# Performing a left join\n",
    "left_join = df1.merge(df2, on='Key', how='left')\n",
    "print(\"Left Join:\")\n",
    "print(left_join)"
   ]
  },
  {
   "cell_type": "markdown",
   "metadata": {
    "id": "9Gt20I3Mp7Tk"
   },
   "source": [
    "<br>\n",
    "\n",
    "2. **`.concat()`** <br>\n",
    "**Concatenate two dataframes along a common axis (rows or columns).** <br>\n",
    "\n",
    "The `axis` parameters allows you to choose which type of concatenation you want applied.\n",
    "- Vertical (`axis = 0`): Concatenate dataframes vertically along the rows.\n",
    "- Horizontal (`axis = 1`): Concatenates fataframes horizontally along the columns\n",
    "\n",
    "\n",
    "<br>\n",
    "\n",
    "<img src = https://miro.medium.com/v2/resize:fit:2000/1*NLnoAF5uOSBC2Y7IuzfM_Q.png width = \"1000\" height = \"500\" >"
   ]
  },
  {
   "cell_type": "code",
   "execution_count": 81,
   "metadata": {
    "colab": {
     "base_uri": "https://localhost:8080/",
     "height": 112
    },
    "id": "MWrr3Nyp5VQn",
    "outputId": "7c09e897-006e-4cde-af08-7792c36acf5c"
   },
   "outputs": [
    {
     "data": {
      "text/html": [
       "<div>\n",
       "<style scoped>\n",
       "    .dataframe tbody tr th:only-of-type {\n",
       "        vertical-align: middle;\n",
       "    }\n",
       "\n",
       "    .dataframe tbody tr th {\n",
       "        vertical-align: top;\n",
       "    }\n",
       "\n",
       "    .dataframe thead th {\n",
       "        text-align: right;\n",
       "    }\n",
       "</style>\n",
       "<table border=\"1\" class=\"dataframe\">\n",
       "  <thead>\n",
       "    <tr style=\"text-align: right;\">\n",
       "      <th></th>\n",
       "      <th>Name</th>\n",
       "      <th>Age</th>\n",
       "    </tr>\n",
       "  </thead>\n",
       "  <tbody>\n",
       "    <tr>\n",
       "      <th>0</th>\n",
       "      <td>Alice</td>\n",
       "      <td>25</td>\n",
       "    </tr>\n",
       "    <tr>\n",
       "      <th>1</th>\n",
       "      <td>Bob</td>\n",
       "      <td>32</td>\n",
       "    </tr>\n",
       "  </tbody>\n",
       "</table>\n",
       "</div>"
      ],
      "text/plain": [
       "    Name  Age\n",
       "0  Alice   25\n",
       "1    Bob   32"
      ]
     },
     "execution_count": 81,
     "metadata": {},
     "output_type": "execute_result"
    }
   ],
   "source": [
    "# First dataframe\n",
    "df3 = pd.DataFrame({'Name': ['Alice', 'Bob'],\n",
    "                    'Age': [25, 32]})\n",
    "df3"
   ]
  },
  {
   "cell_type": "code",
   "execution_count": 82,
   "metadata": {
    "colab": {
     "base_uri": "https://localhost:8080/",
     "height": 112
    },
    "id": "0GCys7uvlIpp",
    "outputId": "14629e91-f835-48ae-8cf2-1566e95a0360"
   },
   "outputs": [
    {
     "data": {
      "text/html": [
       "<div>\n",
       "<style scoped>\n",
       "    .dataframe tbody tr th:only-of-type {\n",
       "        vertical-align: middle;\n",
       "    }\n",
       "\n",
       "    .dataframe tbody tr th {\n",
       "        vertical-align: top;\n",
       "    }\n",
       "\n",
       "    .dataframe thead th {\n",
       "        text-align: right;\n",
       "    }\n",
       "</style>\n",
       "<table border=\"1\" class=\"dataframe\">\n",
       "  <thead>\n",
       "    <tr style=\"text-align: right;\">\n",
       "      <th></th>\n",
       "      <th>Name</th>\n",
       "      <th>Age</th>\n",
       "    </tr>\n",
       "  </thead>\n",
       "  <tbody>\n",
       "    <tr>\n",
       "      <th>0</th>\n",
       "      <td>Charlie</td>\n",
       "      <td>28</td>\n",
       "    </tr>\n",
       "    <tr>\n",
       "      <th>1</th>\n",
       "      <td>David</td>\n",
       "      <td>21</td>\n",
       "    </tr>\n",
       "  </tbody>\n",
       "</table>\n",
       "</div>"
      ],
      "text/plain": [
       "      Name  Age\n",
       "0  Charlie   28\n",
       "1    David   21"
      ]
     },
     "execution_count": 82,
     "metadata": {},
     "output_type": "execute_result"
    }
   ],
   "source": [
    "# Second dataframe\n",
    "df4 = pd.DataFrame({'Name': ['Charlie', 'David'],\n",
    "                    'Age': [28, 21]})\n",
    "df4"
   ]
  },
  {
   "cell_type": "code",
   "execution_count": 83,
   "metadata": {
    "colab": {
     "base_uri": "https://localhost:8080/",
     "height": 174
    },
    "id": "Si78sBDuQ_Pa",
    "outputId": "1c8ed2b7-0636-4326-a3e0-22693b6c58fe"
   },
   "outputs": [
    {
     "data": {
      "text/html": [
       "<div>\n",
       "<style scoped>\n",
       "    .dataframe tbody tr th:only-of-type {\n",
       "        vertical-align: middle;\n",
       "    }\n",
       "\n",
       "    .dataframe tbody tr th {\n",
       "        vertical-align: top;\n",
       "    }\n",
       "\n",
       "    .dataframe thead th {\n",
       "        text-align: right;\n",
       "    }\n",
       "</style>\n",
       "<table border=\"1\" class=\"dataframe\">\n",
       "  <thead>\n",
       "    <tr style=\"text-align: right;\">\n",
       "      <th></th>\n",
       "      <th>Name</th>\n",
       "      <th>Age</th>\n",
       "    </tr>\n",
       "  </thead>\n",
       "  <tbody>\n",
       "    <tr>\n",
       "      <th>0</th>\n",
       "      <td>Alice</td>\n",
       "      <td>25</td>\n",
       "    </tr>\n",
       "    <tr>\n",
       "      <th>1</th>\n",
       "      <td>Bob</td>\n",
       "      <td>32</td>\n",
       "    </tr>\n",
       "    <tr>\n",
       "      <th>0</th>\n",
       "      <td>Charlie</td>\n",
       "      <td>28</td>\n",
       "    </tr>\n",
       "    <tr>\n",
       "      <th>1</th>\n",
       "      <td>David</td>\n",
       "      <td>21</td>\n",
       "    </tr>\n",
       "  </tbody>\n",
       "</table>\n",
       "</div>"
      ],
      "text/plain": [
       "      Name  Age\n",
       "0    Alice   25\n",
       "1      Bob   32\n",
       "0  Charlie   28\n",
       "1    David   21"
      ]
     },
     "execution_count": 83,
     "metadata": {},
     "output_type": "execute_result"
    }
   ],
   "source": [
    "# Concatenate DataFrames vertically (along the rows)\n",
    "concatenated = pd.concat([df3, df4])\n",
    "concatenated"
   ]
  },
  {
   "cell_type": "markdown",
   "metadata": {
    "id": "SjZP7lnWt-nn"
   },
   "source": [
    "<br>\n",
    "\n",
    "3. **`.sum()`, `.mean()`, `.max()`,`.agg()`** <br>\n",
    "**Apply aggregation functions to obtain summary statistics** <br> \n",
    "\n",
    "You can use built-in aggregation functions (such as `.sum`, `.mean`, `.max`, etc.). <br>\n",
    "You can also use `.agg()` to apply different aggregation functions to variables.\n"
   ]
  },
  {
   "cell_type": "code",
   "execution_count": 84,
   "metadata": {
    "id": "oWjmMvQklUW5"
   },
   "outputs": [],
   "source": [
    "dict_agg = {\n",
    "    'City': ['New York', 'Los Angeles', 'Chicago', 'New York', 'Chicago'],\n",
    "    'Sales': [100000, 150000, 120000, 90000, 110000],\n",
    "    'Year': [2019, 2019, 2020, 2020, 2021]\n",
    "}\n",
    "\n",
    "df_agg = pd.DataFrame(dict_agg)"
   ]
  },
  {
   "cell_type": "code",
   "execution_count": 85,
   "metadata": {
    "colab": {
     "base_uri": "https://localhost:8080/"
    },
    "id": "rzYYySt4lwWN",
    "outputId": "85ad557b-d7bf-4a20-e111-bcb6b560f797"
   },
   "outputs": [
    {
     "data": {
      "text/plain": [
       "570000"
      ]
     },
     "execution_count": 85,
     "metadata": {},
     "output_type": "execute_result"
    }
   ],
   "source": [
    "df_agg[\"Sales\"].sum()"
   ]
  },
  {
   "cell_type": "code",
   "execution_count": 86,
   "metadata": {
    "colab": {
     "base_uri": "https://localhost:8080/"
    },
    "id": "hqE2YCTClg4K",
    "outputId": "91addb55-5398-4f63-cf21-15b7e791ec8c"
   },
   "outputs": [
    {
     "data": {
      "text/plain": [
       "sum     570000.0\n",
       "mean    114000.0\n",
       "max     150000.0\n",
       "Name: Sales, dtype: float64"
      ]
     },
     "execution_count": 86,
     "metadata": {},
     "output_type": "execute_result"
    }
   ],
   "source": [
    "# Using aggregate() to calculate multiple aggregations\n",
    "df_agg['Sales'].agg(['sum', 'mean', 'max'])"
   ]
  },
  {
   "cell_type": "markdown",
   "metadata": {
    "id": "h1eaS4x4uqjZ"
   },
   "source": [
    "<br>\n",
    "\n",
    "4. **`.groupby()`** <br>\n",
    "**Group rows of a DataFrame by one or more columns and perform aggregations.**\n",
    "\n",
    "This method allows you to perform summary statistics on groups of rows. <br>\n",
    "It is usually combined with built-in statistical operations such as `.sum()`, `.mean()`,...\n",
    "\n",
    "<br>\n",
    "\n",
    "<img src = https://keytodatascience.com/wp-content/uploads/2020/04/image-1.png width = \"550\" height = \"250\" >\n"
   ]
  },
  {
   "cell_type": "code",
   "execution_count": 87,
   "metadata": {
    "colab": {
     "base_uri": "https://localhost:8080/",
     "height": 174
    },
    "id": "6Fmk-dCJl8Y2",
    "outputId": "ae36cd69-00d5-460d-c2f0-dff4613e32e2"
   },
   "outputs": [
    {
     "data": {
      "text/html": [
       "<div>\n",
       "<style scoped>\n",
       "    .dataframe tbody tr th:only-of-type {\n",
       "        vertical-align: middle;\n",
       "    }\n",
       "\n",
       "    .dataframe tbody tr th {\n",
       "        vertical-align: top;\n",
       "    }\n",
       "\n",
       "    .dataframe thead th {\n",
       "        text-align: right;\n",
       "    }\n",
       "</style>\n",
       "<table border=\"1\" class=\"dataframe\">\n",
       "  <thead>\n",
       "    <tr style=\"text-align: right;\">\n",
       "      <th></th>\n",
       "      <th>Sales</th>\n",
       "    </tr>\n",
       "    <tr>\n",
       "      <th>City</th>\n",
       "      <th></th>\n",
       "    </tr>\n",
       "  </thead>\n",
       "  <tbody>\n",
       "    <tr>\n",
       "      <th>Chicago</th>\n",
       "      <td>230000</td>\n",
       "    </tr>\n",
       "    <tr>\n",
       "      <th>Los Angeles</th>\n",
       "      <td>150000</td>\n",
       "    </tr>\n",
       "    <tr>\n",
       "      <th>New York</th>\n",
       "      <td>190000</td>\n",
       "    </tr>\n",
       "  </tbody>\n",
       "</table>\n",
       "</div>"
      ],
      "text/plain": [
       "              Sales\n",
       "City               \n",
       "Chicago      230000\n",
       "Los Angeles  150000\n",
       "New York     190000"
      ]
     },
     "execution_count": 87,
     "metadata": {},
     "output_type": "execute_result"
    }
   ],
   "source": [
    "df_agg[[\"Sales\",\"City\"]].groupby('City').sum()"
   ]
  },
  {
   "cell_type": "code",
   "execution_count": 88,
   "metadata": {
    "colab": {
     "base_uri": "https://localhost:8080/",
     "height": 237
    },
    "id": "6ot5k3NzmMLV",
    "outputId": "f5ff34aa-4db1-4af8-8e30-5ec4c52fc95a"
   },
   "outputs": [
    {
     "data": {
      "text/html": [
       "<div>\n",
       "<style scoped>\n",
       "    .dataframe tbody tr th:only-of-type {\n",
       "        vertical-align: middle;\n",
       "    }\n",
       "\n",
       "    .dataframe tbody tr th {\n",
       "        vertical-align: top;\n",
       "    }\n",
       "\n",
       "    .dataframe thead th {\n",
       "        text-align: right;\n",
       "    }\n",
       "</style>\n",
       "<table border=\"1\" class=\"dataframe\">\n",
       "  <thead>\n",
       "    <tr style=\"text-align: right;\">\n",
       "      <th></th>\n",
       "      <th></th>\n",
       "      <th>Sales</th>\n",
       "    </tr>\n",
       "    <tr>\n",
       "      <th>City</th>\n",
       "      <th>Year</th>\n",
       "      <th></th>\n",
       "    </tr>\n",
       "  </thead>\n",
       "  <tbody>\n",
       "    <tr>\n",
       "      <th rowspan=\"2\" valign=\"top\">Chicago</th>\n",
       "      <th>2020</th>\n",
       "      <td>120000.0</td>\n",
       "    </tr>\n",
       "    <tr>\n",
       "      <th>2021</th>\n",
       "      <td>110000.0</td>\n",
       "    </tr>\n",
       "    <tr>\n",
       "      <th>Los Angeles</th>\n",
       "      <th>2019</th>\n",
       "      <td>150000.0</td>\n",
       "    </tr>\n",
       "    <tr>\n",
       "      <th rowspan=\"2\" valign=\"top\">New York</th>\n",
       "      <th>2019</th>\n",
       "      <td>100000.0</td>\n",
       "    </tr>\n",
       "    <tr>\n",
       "      <th>2020</th>\n",
       "      <td>90000.0</td>\n",
       "    </tr>\n",
       "  </tbody>\n",
       "</table>\n",
       "</div>"
      ],
      "text/plain": [
       "                     Sales\n",
       "City        Year          \n",
       "Chicago     2020  120000.0\n",
       "            2021  110000.0\n",
       "Los Angeles 2019  150000.0\n",
       "New York    2019  100000.0\n",
       "            2020   90000.0"
      ]
     },
     "execution_count": 88,
     "metadata": {},
     "output_type": "execute_result"
    }
   ],
   "source": [
    "df_agg.groupby([\"City\",\"Year\"]).mean()"
   ]
  },
  {
   "cell_type": "markdown",
   "metadata": {
    "id": "0q2fTiHACKTq"
   },
   "source": [
    "**<font size='5'>Let's recap on Pandas:**</font> <br>\n",
    "- Pandas Data structures: `pd.DataFrame()`, `pd.Series()`\n",
    "- Pandas dtypes: `int64`, `float64`, `object`, `datetime64`, ...\n",
    "- Load/Save to csv: `.read_csv()`, `.to_csv()`\n",
    "- Reshape dataframes: `.melt()`\n",
    "- Join/Group dataframes: `.merge()`, `.concat()`,`.groupby()`, `.agg()`, `.mean()` ...\n",
    "- Index/Filter a dataframe: `[]`, `.loc[]`, `.iloc[]`\n",
    "- Modify a column: `map()`, `.apply()`\n",
    "\n",
    "You can find out more about pandas features in this [cheatsheet](https://pandas.pydata.org/Pandas_Cheat_Sheet.pdf). <br> You can also visit the pandas website to access its full API\n"
   ]
  },
  {
   "cell_type": "markdown",
   "metadata": {
    "id": "L2r69BjbwUBB"
   },
   "source": [
    "<br>\n",
    "\n",
    "## <font color='#023F7C'>**2.3 Data visualization with Matplotlib & Seaborn**</font>\n",
    "\n",
    "Python has many popular libraries to create visualizations. <br>\n",
    "Today we will focus on two of its most popular libraries, **Matplotlib** and **Seaborn**.\n",
    "\n",
    "\n"
   ]
  },
  {
   "cell_type": "markdown",
   "metadata": {
    "id": "-tbxBzQF9Zsm"
   },
   "source": [
    "**<font size='5' color='#023F7C'>Plots with Matplotlib**</font> <br>\n",
    "\n",
    "Matplotlib is a popular **data visualization library** with a large collection of plotting functions. <br>\n",
    "It has many tools to customize plots with titles, legends, labels,...\n",
    "- Plotting functions/tools in `matplotlib.pyplot` submodule (alias `plt`)\n",
    "- Libraries built on top of Matplotlib: Seaborn, Pandas (plot function)\n"
   ]
  },
  {
   "cell_type": "code",
   "execution_count": 89,
   "metadata": {
    "id": "QxJA9aPfnIDi"
   },
   "outputs": [],
   "source": [
    "import matplotlib.pyplot as plt # pyplot = submodule of matplotlib"
   ]
  },
  {
   "cell_type": "markdown",
   "metadata": {
    "id": "Gy49JM9O8QPG"
   },
   "source": [
    "Matplotlib creates plots by drawing a **Figure**, an overall container for the plot. <br>\n",
    "Within a Figure, you can add axes, data points, a title, etc..\n",
    "\n",
    "\n",
    "| Component | Description | Function |\n",
    "|----------| -------------|---------------------|\n",
    "| Figure | Top-level container that holds all the elements of a plot <br> • Acts as a canvas for the plot <br> • Implicitly called when you call a plot function  | `plt.figure()`|\n",
    "| Axes | Individual plot area within a Figure where data is visualized <br> • Represents a coordinate system with a x-axis and y-axis <br> • Generated automatically when you call a plot function | `plt.axes()`|\n",
    "| Plot function | Create various kinds of plots (line, scatter, bar,...) | `plt.plot()`, `plt.scatter()`, <br> `plt.bar()`, `plt.hist()`... |\n",
    "| Legend | Provide additional information about plotted data | `plt.legend()` |\n",
    "| Title | Provide a title to the plot | `plt.title()`|\n",
    "| Axis labels | Add labels for the x and y axis | `plt.xlabel()`, `plt.ylabel()` |\n",
    "| Show | Display all open figures (not mandatory) | `plt.show()` |\n"
   ]
  },
  {
   "cell_type": "markdown",
   "metadata": {},
   "source": [
    "Here is an image that summarizes Matplotlib's main **plotting components**. <br>\n",
    "<img src = https://matplotlib.org/3.1.0/_images/anatomy.png width = \"500\" height = \"500\" >"
   ]
  },
  {
   "cell_type": "code",
   "execution_count": 90,
   "metadata": {
    "id": "lxh-p2kt8CNS"
   },
   "outputs": [],
   "source": [
    "# Generate numpy arrays for plot\n",
    "x = np.linspace(1,50,20)\n",
    "y1 = np.linspace(2,80,20)\n",
    "y2 = y1**(2/3)"
   ]
  },
  {
   "cell_type": "code",
   "execution_count": 91,
   "metadata": {
    "colab": {
     "base_uri": "https://localhost:8080/",
     "height": 472
    },
    "id": "5sPlbiZi8VYe",
    "outputId": "a8c2d0ce-faaf-4c46-f9c2-85d32d743a93"
   },
   "outputs": [
    {
     "data": {
      "image/png": "[encoded data removed]",
      "text/plain": [
       "<Figure size 640x480 with 1 Axes>"
      ]
     },
     "metadata": {},
     "output_type": "display_data"
    }
   ],
   "source": [
    "plt.scatter(x, y1, label=\"y1\") # blue plot\n",
    "plt.scatter(x, y2, color=\"orange\", label=\"y2\") # orange plot\n",
    "\n",
    "plt.title(\"Figure title\") # add title\n",
    "plt.xlabel(\"x\") # add label on x-axis\n",
    "plt.legend(title=\"Legend\") # generate legend with a title\n",
    "plt.show() # show plot (not mandatory)"
   ]
  },
  {
   "cell_type": "markdown",
   "metadata": {
    "id": "jaXIwYZzwGsm"
   },
   "source": [
    "You can create **multiple figures** using `plt.subplot()`. <br>\n",
    "Each subplot can have its own title, labels and legend.\n",
    "\n",
    "Most of matplotlib's components can also be used with *Seaborn* and *Pandas* to customize plots. <br>"
   ]
  },
  {
   "cell_type": "markdown",
   "metadata": {
    "id": "XfuvPSPm-9FO"
   },
   "source": [
    "**<font size='5' color='#023F7C'>Plots with Seaborn**</font> <br>\n",
    "\n",
    "Seaborn is a **high-level plotting library** built on top of Matplotlib. <br>\n",
    "- Simpler syntax than matplotlib\n",
    "- Less customizable but offers improved visual aesthetics (many themes available)\n",
    "- Created for statistical data visualization (kdeplot, histplot,...)\n",
    "\n",
    "<img src = https://miro.medium.com/v2/resize:fit:1107/1*oyX3i6zDjjvdy2IVRa-oAw.png width = \"500\" height = \"300\" >"
   ]
  },
  {
   "cell_type": "code",
   "execution_count": 92,
   "metadata": {
    "id": "pIKPUI-6nMMS"
   },
   "outputs": [],
   "source": [
    "import seaborn as sns"
   ]
  },
  {
   "cell_type": "markdown",
   "metadata": {
    "id": "hKBv9LRUCC5Y"
   },
   "source": [
    "Seaborn's plotting functions have a **dataset-oriented API**. <br>\n",
    "Seaborn can take dataframes as input to select column names as the x, y axis (not mandatory).\n",
    "- `data`: Input dataframe to create plot\n",
    "- `x`, `y`: Variables to use as x, y axis\n",
    "- `hue`/`fill`: Grouping/id variable that will add a third variable to the plot "
   ]
  },
  {
   "cell_type": "code",
   "execution_count": 93,
   "metadata": {
    "id": "iHkwZIsgJZb6"
   },
   "outputs": [],
   "source": [
    "# Combine the y1 and y2 values into a single column with id\n",
    "df_viz = pd.DataFrame({\"x\":x, \"y1\":y1, \"y2\":y2}).melt(id_vars=\"x\")\n",
    "df_viz.columns = [\"x\",\"id\",\"y\"]"
   ]
  },
  {
   "cell_type": "code",
   "execution_count": 94,
   "metadata": {
    "colab": {
     "base_uri": "https://localhost:8080/",
     "height": 472
    },
    "id": "kjiVLueNIIpt",
    "outputId": "3e509e94-76f7-4c3b-ac84-73d0bbf855f0"
   },
   "outputs": [
    {
     "data": {
      "image/png": "[encoded data removed]",
      "text/plain": [
       "<Figure size 640x480 with 1 Axes>"
      ]
     },
     "metadata": {},
     "output_type": "display_data"
    }
   ],
   "source": [
    "# Scatterplot with Seaborn\n",
    "sns.scatterplot(data=df_viz, x=\"x\", y=\"y\", hue=\"id\"); # hue: color the dots based on id variable\n",
    "\n",
    "# Add matplotlib components (title, ylabel)\n",
    "plt.title(\"Figure title\")\n",
    "plt.ylabel(\"\");\n",
    "plt.legend(title=\"Legend\")\n",
    "plt.show()"
   ]
  },
  {
   "cell_type": "markdown",
   "metadata": {
    "id": "N7_Qmi6naMCO"
   },
   "source": [
    "Seaborn has some built-in statistical plots (relational, distribution, categorical) that aren't included in Matplotlib.  <br>\n",
    "Here is an example of a violin plot which isn't available in matplotlib."
   ]
  },
  {
   "cell_type": "code",
   "execution_count": 95,
   "metadata": {
    "colab": {
     "base_uri": "https://localhost:8080/",
     "height": 472
    },
    "id": "nfH8gSxOjbRT",
    "outputId": "d2870030-9c68-4d70-8509-5eec11fe4820"
   },
   "outputs": [
    {
     "data": {
      "image/png": "[encoded data removed]",
      "text/plain": [
       "<Figure size 640x480 with 1 Axes>"
      ]
     },
     "metadata": {},
     "output_type": "display_data"
    }
   ],
   "source": [
    "sns.violinplot(data=df_viz, x=\"id\", y=\"y\");\n",
    "plt.title(\"Distribution of y1 and y2 with violin plot\")\n",
    "plt.show()"
   ]
  },
  {
   "cell_type": "markdown",
   "metadata": {
    "id": "PyufvdQ4RAqa"
   },
   "source": [
    "Python has other data visualization frameworks for more advanced visualization tasks\n",
    "- **Yellowbrick**: Create Machine Learning visualizations (hyperparameter tuning,  \n",
    "- **Plotly**: Data visualization library with interactive plots\n",
    "- **[Dash](https://plotly.com/examples/)/[Streamlit](https://streamlit.io/gallery)**: Build interactive web applications and data dashboards\n",
    "\n"
   ]
  },
  {
   "cell_type": "markdown",
   "metadata": {
    "id": "kovKoOyXIE3D"
   },
   "source": [
    "## **<font color='#023F7C'>2.4 Machine Learning with Scikit-learn</font>**\n",
    "\n",
    "<!-- <img src = https://upload.wikimedia.org/wikipedia/commons/thumb/0/05/Scikit_learn_logo_small.svg/1200px-Scikit_learn_logo_small.svg.png width = \"200\" height = \"100\" > -->\n",
    "\n",
    "Scikit-learn is a popular Python library with a wide range of **Machine Learning** (ML) models. <br> It also has tools for feature engineering, model selection and evaluation. <br>\n",
    "- Built for structured data (no images, text, videos)\n",
    "- Imported with the `sklearn` alias, not `scikit-learn`\n",
    "- Many classes with different types of ML methods (clustering, feature selection...)\n",
    "\n",
    "\n",
    "\n",
    "\n",
    "\n"
   ]
  },
  {
   "cell_type": "markdown",
   "metadata": {
    "id": "b30m1V8v1lsF"
   },
   "source": [
    "| Submodule | Description |\n",
    "|--------------------|-------------|\n",
    "|`sklearn.cluster`| Clustering models |\n",
    "| `sklearn.ensemble`| Ensemble-based ML models |\n",
    "| `sklearn.feature_selection`| Feature engineering algorithms |\n",
    "| `sklearn.linear_model`| Linear models |\n",
    "| `sklearn.metrics`| Performance metrics |\n",
    "| `sklearn.preprocessing` | Pre-processing algorithms |\n",
    "| `sklearn.tree` | Decision tree models |\n",
    "\n",
    "<br>\n",
    "\n",
    "\n"
   ]
  },
  {
   "cell_type": "markdown",
   "metadata": {
    "id": "dXNmngwFQveN"
   },
   "source": [
    "<u>**What are Python classes ?**</u> <br>\n",
    "Classes are user-defined object types (as opposed to built-in data types). <br>\n",
    "They are defined by parameters, attributes and methods.\n",
    "\n",
    "\n"
   ]
  },
  {
   "cell_type": "code",
   "execution_count": 96,
   "metadata": {
    "id": "6y4r8chLTwJP"
   },
   "outputs": [],
   "source": [
    "from sklearn.preprocessing import StandardScaler"
   ]
  },
  {
   "cell_type": "markdown",
   "metadata": {
    "id": "kkJHzHUjnQgZ"
   },
   "source": [
    "We will use the `StandardScaler` class in sklearn.preprocessing as an example. <br>\n",
    "This model scales your data's variables using mean and variance."
   ]
  },
  {
   "cell_type": "markdown",
   "metadata": {
    "id": "CQU-4V50RQKY"
   },
   "source": [
    "**1. Model parameters:** <br>\n",
    "Define the parameters of your model. <br> *Choose how to standardize your data (with or without mean/std)* <br>\n",
    "\n",
    "<img src=\"https://i.ibb.co/FH2WWZS/param-sklearn.png\" width=700 height=250>"
   ]
  },
  {
   "cell_type": "code",
   "execution_count": 97,
   "metadata": {
    "id": "RWUcmttST9CK"
   },
   "outputs": [],
   "source": [
    "model = StandardScaler(with_std=True) # scale with standard deviation"
   ]
  },
  {
   "cell_type": "markdown",
   "metadata": {
    "id": "_asa5rDeVPXl"
   },
   "source": [
    "**2. Methods:** <br>\n",
    "Access the functions/methods associated to the class model (fit, predict,...) <br> *Fit the scaler to your data with the `.fit()`, fit and normalize data with `.fit_transform()`* <br>\n",
    "\n",
    "<img src= \"https://i.ibb.co/ZTB5gZh/sklearn-methods.png\" width=700 height=250>\n"
   ]
  },
  {
   "cell_type": "code",
   "execution_count": 98,
   "metadata": {
    "colab": {
     "base_uri": "https://localhost:8080/"
    },
    "id": "5U3yITKEaVNh",
    "outputId": "7d7585ec-4866-4123-83cf-a8d54ca6213a"
   },
   "outputs": [
    {
     "data": {
      "text/plain": [
       "array([[-0.60054227, -0.60054227],\n",
       "       [-0.39250222, -0.39250222],\n",
       "       [-0.62828094, -0.62828094],\n",
       "       [-0.25380886, -0.25380886],\n",
       "       [-0.11511549, -0.11511549]])"
      ]
     },
     "execution_count": 98,
     "metadata": {},
     "output_type": "execute_result"
    }
   ],
   "source": [
    "# Convert dataframe to 2D numpy array\n",
    "X = df[[\"Product price\",\"Product price (€)\"]].to_numpy()\n",
    "\n",
    "# Use a standardScaler method (.fit_transform())\n",
    "X_transform = model.fit_transform(X)\n",
    "X_transform[:5,:5] # show first 5 columns/rows"
   ]
  },
  {
   "cell_type": "markdown",
   "metadata": {
    "id": "8Km3dGGXThF-"
   },
   "source": [
    "**3. Attributes**: <br>\n",
    "Model information stored during training <br>*Get the computed scale, mean, variance from the trained StandardScaler model*\n",
    "\n",
    "<img src=\"https://i.ibb.co/FmdRRZP/attrib-sklearn.png\" width=700 height=300>\n"
   ]
  },
  {
   "cell_type": "code",
   "execution_count": 99,
   "metadata": {
    "colab": {
     "base_uri": "https://localhost:8080/"
    },
    "id": "t3No-U0yYHWI",
    "outputId": "3493bf46-0730-4342-940c-48883aefd061"
   },
   "outputs": [
    {
     "name": "stdout",
     "output_type": "stream",
     "text": [
      "mean per variable: [533.   485.03]\n",
      "mean per variable: [519862.66666667 430498.27426667]\n"
     ]
    }
   ],
   "source": [
    "# StandardScaler attributes\n",
    "print(\"mean per variable:\",model.mean_)\n",
    "print(\"mean per variable:\",model.var_)"
   ]
  },
  {
   "cell_type": "markdown",
   "metadata": {
    "id": "5CQcGyNOKxBV"
   },
   "source": [
    "Many  Deep Learning models (CNN, RNN, Transformers) aren't available in scikit-learn. <br>\n",
    "Here are a few popular libraries/ressources for Deep Learning:\n",
    "- **Tensorflow**: Deep Learning library by Google Brain\n",
    "- **Pytorch**: Deep Learning library by Facebook's AI Research lab (FAIR)\n",
    "- **Hugging Face** 🤗: State-of-the-art models and tools for NLP with the `transformers` library"
   ]
  },
  {
   "cell_type": "markdown",
   "metadata": {
    "id": "pDQKYsoglsB_"
   },
   "source": [
    "# <font color='#023F7C'>**3. Business use-case 💼**</font>\n",
    "\n",
    "You are working as a Data Scientist for a popular **sports online retailer** 🏬. <br>\n",
    "Your job is to clean and analyze invoice data to provide meaningful insights on customer purchases.\n",
    "\n",
    "Your compnay has sent you a `Data` folder with three files:\n",
    "- `data_invoice.csv`: a csv with **Order Date 📅**, **Product Name**, **Product Category ⚾**, **Product Price 💲**, **Customer Id**\n",
    "- `data_customer.csv`: a csv with more information on customers (**Customer State & Country 🌎**)\n",
    "- `us_states.json`: a json file with the full names of US states\n",
    "\n",
    "<br>\n",
    "\n",
    "<img src = https://cdn.rt.emap.com/wp-content/uploads/sites/2/2019/08/26165149/drapers_investigates-1.jpg width = \"600\" height = \"300\" >\n",
    "\n"
   ]
  },
  {
   "cell_type": "code",
   "execution_count": 100,
   "metadata": {
    "id": "ynbjvkW_PQVh"
   },
   "outputs": [],
   "source": [
    "import os\n",
    "import numpy as np\n",
    "import pandas as pd\n",
    "import matplotlib.pyplot as plt\n",
    "import seaborn as sns\n",
    "from datetime import datetime"
   ]
  },
  {
   "cell_type": "markdown",
   "metadata": {
    "id": "epuvwBkXJ_jX"
   },
   "source": [
    "<br>\n",
    "\n",
    "<font color='#023F7C' size=4>**Question 1 📝**</font><br>\n",
    "**Write a function that loads every .csv file from a given directory as a Pandas dataframe.** <br>\n",
    "**Then, use this function to load `data_invoice.csv` as `data_invoice` and `data_customer.csv` as `data_customer`.**"
   ]
  },
  {
   "cell_type": "markdown",
   "metadata": {
    "id": "QWycGUwDg2iM"
   },
   "source": [
    "**Hint**: Use the `in` operator to find the str file names with the `\".csv\"` extension. "
   ]
  },
  {
   "cell_type": "code",
   "execution_count": 101,
   "metadata": {
    "colab": {
     "base_uri": "https://localhost:8080/"
    },
    "id": "AnwrGvhXow2c",
    "outputId": "78efaf3f-bb3e-4672-94fe-4e060596c7e9"
   },
   "outputs": [
    {
     "data": {
      "text/plain": [
       "['new_file.json', 'us_states.json', 'data_invoice.csv', 'data_customer.csv']"
      ]
     },
     "execution_count": 101,
     "metadata": {},
     "output_type": "execute_result"
    }
   ],
   "source": [
    "os.listdir(path_data) # get list of all files in a given path"
   ]
  },
  {
   "cell_type": "code",
   "execution_count": 102,
   "metadata": {
    "id": "2AJDaK-7K9I5"
   },
   "outputs": [],
   "source": [
    "# Answer Q1\n",
    "def load_csv(path):\n",
    "    list_df = []\n",
    "    for file in os.listdir(path):\n",
    "        if '.csv' in file:\n",
    "            df = pd.read_csv(os.path.join(path,file))\n",
    "            list_df.append(df)\n",
    "    return list_df\n",
    "\n",
    "data_invoice, data_customer = load_csv(path_data)"
   ]
  },
  {
   "cell_type": "markdown",
   "metadata": {},
   "source": [
    "<br>\n",
    "\n",
    "**<font size=4>The following questions will use the `data_invoice` dataset.</font>**"
   ]
  },
  {
   "cell_type": "markdown",
   "metadata": {
    "id": "bE_JJ64CQ_Pi"
   },
   "source": [
    "<br>\n",
    "\n",
    "<font color='#023F7C' size=4>**Question 2 📝**</font><br>\n",
    "Your company wants to analyze invoice data on a year/month basis.\n",
    "\n",
    "1. **Create a list from the `Order Date` column in the invoice dataset.** \n",
    "2. **Convert each of its elements to a `datetime` object with a year-month format (using list comprehension).** \n",
    "3. **Use this list to create a new `Order Date` column.**\n",
    "\n"
   ]
  },
  {
   "cell_type": "markdown",
   "metadata": {
    "id": "qsmHsfSagyTj"
   },
   "source": [
    "**Hint**: The dates in `Order Date` are saved as strings. <br>\n",
    "The year-month format for a datetime object is `\"%Y-%m\"`."
   ]
  },
  {
   "cell_type": "code",
   "execution_count": 103,
   "metadata": {
    "tags": []
   },
   "outputs": [],
   "source": [
    "# Answer Q2\n",
    "list_orderdate = data_invoice[\"Order Date\"].to_list()\n",
    "list_datetime = [datetime.strptime(date,'%Y-%m-%d %H:%M:%S').strftime(\"%Y-%m\") for date in list_orderdate]\n",
    "data_invoice[\"Order Date\"] = list_datetime"
   ]
  },
  {
   "cell_type": "code",
   "execution_count": 104,
   "metadata": {
    "tags": []
   },
   "outputs": [
    {
     "data": {
      "text/plain": [
       "0      2015-01\n",
       "1      2015-01\n",
       "2      2015-01\n",
       "3      2015-01\n",
       "4      2015-01\n",
       "        ...   \n",
       "168    2017-08\n",
       "169    2017-08\n",
       "170    2017-08\n",
       "171    2017-09\n",
       "172    2017-09\n",
       "Name: Order Date, Length: 173, dtype: object"
      ]
     },
     "execution_count": 104,
     "metadata": {},
     "output_type": "execute_result"
    }
   ],
   "source": [
    "data_invoice[\"Order Date\"]"
   ]
  },
  {
   "cell_type": "markdown",
   "metadata": {
    "id": "i9-yEEndNkSx"
   },
   "source": [
    "<br>\n",
    "\n",
    "<font color='#023F7C' size=4>**Question 3 📝**</font><br>\n",
    "You are asked to analyze the evolution of sales made by the company from January 2015 to September 2017.\n",
    "\n",
    "**Create a dataframe with the average product sales per year-month.**<br>\n",
    "**Then, plot the evolution of product sales with `plt.plot()` or `sns.lineplot()`**\n"
   ]
  },
  {
   "cell_type": "markdown",
   "metadata": {
    "id": "qDXAlTZlfWLL"
   },
   "source": [
    "**Hint**: Use the `Order Date` and `Product Price` columns to compute the average product sales. <br>\n",
    "You can reduce the number of ticks on the x-axis with `plt.xticks(range(0,33,6))`."
   ]
  },
  {
   "cell_type": "code",
   "execution_count": 119,
   "metadata": {
    "id": "dwx4AgWFT7Fa"
   },
   "outputs": [
    {
     "data": {
      "image/png": "[encoded data removed]",
      "text/plain": [
       "<Figure size 640x480 with 1 Axes>"
      ]
     },
     "metadata": {},
     "output_type": "display_data"
    }
   ],
   "source": [
    "# Answer Q3\n",
    "\n",
    "# 1. Average product sales per year-month\n",
    "df_mean_price = data_invoice[[\"Order Date\",\"Product Price\"]].groupby([\"Order Date\"]).mean()\n",
    "\n",
    "# 2. Plot evolution of product sales\n",
    "sns.lineplot(data=df_mean_price, x=\"Order Date\",y=\"Product Price\");\n",
    "plt.xticks(range(0,33,6));\n",
    "plt.xlabel(\"date\")\n",
    "plt.ylabel(\"sales\")\n",
    "plt.title(\"Evolution of average product sales\")\n",
    "plt.show()"
   ]
  },
  {
   "cell_type": "markdown",
   "metadata": {
    "id": "t7kcwFwaQ_Pi"
   },
   "source": [
    "\n",
    "<font color='#023F7C' size=4>**Question 4 📝**</font><br>\n",
    "Your company wants to know which are the most performing brands sold on their marketplace. <br>\n",
    "The data you've received doesn't have a brand column.\n",
    "\n",
    "**Write a function that extracts a brand (see `brand_names` list) from a product description.** <br>\n",
    "**Then, use this function to create a column `Product Brand` with the brands in `Product Name`.** <br>\n",
    "\n",
    "\n",
    "\n"
   ]
  },
  {
   "cell_type": "code",
   "execution_count": 106,
   "metadata": {
    "id": "3cMW-jdKJZrL"
   },
   "outputs": [],
   "source": [
    "# Use this list as a reference for the brands to extract\n",
    "brand_names = [\"Nike\", \"Armour\", \"Pelican\", \"Field\", \"Diamondback\", \"Fitness\", \"O'Brien\"]"
   ]
  },
  {
   "cell_type": "code",
   "execution_count": 107,
   "metadata": {
    "id": "5YQXJ7efQ_Pj"
   },
   "outputs": [],
   "source": [
    "# Answer Q4\n",
    "\n",
    "# Function to extract product brand\n",
    "def get_brand(description):\n",
    "    for b in brand_names:\n",
    "        if b in description:\n",
    "            return b\n",
    "\n",
    "# Create Product Brand column\n",
    "data_invoice[\"Product Brand\"] = data_invoice[\"Product Name\"].apply(get_brand)"
   ]
  },
  {
   "cell_type": "markdown",
   "metadata": {
    "id": "sLGy8NyHeb_3"
   },
   "source": [
    "<br>\n",
    "\n",
    "<font color='#023F7C' size=4>**Question 5 📝**</font><br>\n",
    "The company is only interested in the top 3 brands in terms of number of sales.\n",
    "\n",
    "**Create a dataframe with the number of purchases in each brand. <br>\n",
    "Then, plot the brand names with the top 3 best sales with `sns.barplot()` or `plt.bar()`.**\n",
    "\n",
    "**Hint**: Sort the dataframe based on sales (descending) to find the top 3 brands."
   ]
  },
  {
   "cell_type": "code",
   "execution_count": 108,
   "metadata": {
    "id": "LAsK01xrtIER"
   },
   "outputs": [
    {
     "data": {
      "image/png": "[encoded data removed]",
      "text/plain": [
       "<Figure size 640x480 with 1 Axes>"
      ]
     },
     "metadata": {},
     "output_type": "display_data"
    }
   ],
   "source": [
    "# Answer Q5\n",
    "\n",
    "# Dataframe with the number purchases in each brand\n",
    "count_brand = data_invoice[\"Product Brand\"].value_counts().sort_values(ascending=False).head(3).to_frame().reset_index()\n",
    "\n",
    "# Plot the top 5 brands\n",
    "sns.barplot(x=\"Product Brand\", y=\"count\",data=count_brand)\n",
    "plt.title(\"Top 3 brands in number of sales\")\n",
    "plt.show()"
   ]
  },
  {
   "cell_type": "markdown",
   "metadata": {},
   "source": [
    "<br>\n",
    "\n",
    "**<font size=4>The following questions will use the `data_customer` dataset.</font>**"
   ]
  },
  {
   "cell_type": "markdown",
   "metadata": {},
   "source": [
    "<br>\n",
    "\n",
    "<font color='#023F7C' size=4>**Question 6 📝**</font><br>\n",
    "\n",
    "**Write a statement that loads `us_states.json` from the `Data` folder** <br>\n",
    "**Then, use the json file to create a `Customer State New` column with the full state names.**  <br>"
   ]
  },
  {
   "cell_type": "code",
   "execution_count": 109,
   "metadata": {
    "tags": []
   },
   "outputs": [],
   "source": [
    "# Answer Q6\n",
    "\n",
    "# Load json file\n",
    "path_data = r\"Data\" \n",
    "with open(os.path.join(path_data,\"us_states.json\"),\"r\") as f:\n",
    "  json_file = json.load(f)\n",
    "\n",
    "# use .map() function to get the full state name\n",
    "data_customer[\"Customer State New\"] = data_customer[\"Customer State\"].map(json_file)"
   ]
  },
  {
   "cell_type": "markdown",
   "metadata": {
    "tags": []
   },
   "source": [
    "<br>\n",
    "\n",
    "<font color='#023F7C' size=4>**Question 7 📝**</font><br>\n",
    "The `Customer Full State` column has missing values (NaN) since the json file doesn't have every existing US state. <br>\n",
    "\n",
    "1. **Find rows that have missing values in `Customer Full State`.** <br> Find the state abbrevation with no matching full name (that has an NaN for `Customer State New`) \n",
    "\n",
    "2. **Fill the missing values with the missing state name.**<br> \n",
    "Go to this [website](https://www.faa.gov/air_traffic/publications/atpubs/cnt_html/appendix_a.html) to find the full name of the state abbreviation you've identified.\n",
    "3. **Delete the `Customer State` column** \n"
   ]
  },
  {
   "cell_type": "markdown",
   "metadata": {},
   "source": [
    "**Hints**: <br> You can use the `.isna() == True` statement to find missing values in a column. <br>\n",
    "You can use pandas' `.fillna()` function to replace missing values."
   ]
  },
  {
   "cell_type": "code",
   "execution_count": 110,
   "metadata": {
    "tags": []
   },
   "outputs": [
    {
     "data": {
      "text/html": [
       "<div>\n",
       "<style scoped>\n",
       "    .dataframe tbody tr th:only-of-type {\n",
       "        vertical-align: middle;\n",
       "    }\n",
       "\n",
       "    .dataframe tbody tr th {\n",
       "        vertical-align: top;\n",
       "    }\n",
       "\n",
       "    .dataframe thead th {\n",
       "        text-align: right;\n",
       "    }\n",
       "</style>\n",
       "<table border=\"1\" class=\"dataframe\">\n",
       "  <thead>\n",
       "    <tr style=\"text-align: right;\">\n",
       "      <th></th>\n",
       "      <th>Customer Id</th>\n",
       "      <th>Customer State</th>\n",
       "      <th>Customer Country</th>\n",
       "      <th>Customer State New</th>\n",
       "    </tr>\n",
       "  </thead>\n",
       "  <tbody>\n",
       "    <tr>\n",
       "      <th>5</th>\n",
       "      <td>547</td>\n",
       "      <td>MD</td>\n",
       "      <td>EE. UU.</td>\n",
       "      <td>NaN</td>\n",
       "    </tr>\n",
       "    <tr>\n",
       "      <th>87</th>\n",
       "      <td>5397</td>\n",
       "      <td>MD</td>\n",
       "      <td>EE. UU.</td>\n",
       "      <td>NaN</td>\n",
       "    </tr>\n",
       "    <tr>\n",
       "      <th>92</th>\n",
       "      <td>5640</td>\n",
       "      <td>MD</td>\n",
       "      <td>EE. UU.</td>\n",
       "      <td>NaN</td>\n",
       "    </tr>\n",
       "    <tr>\n",
       "      <th>183</th>\n",
       "      <td>12113</td>\n",
       "      <td>MD</td>\n",
       "      <td>EE. UU.</td>\n",
       "      <td>NaN</td>\n",
       "    </tr>\n",
       "    <tr>\n",
       "      <th>186</th>\n",
       "      <td>12286</td>\n",
       "      <td>MD</td>\n",
       "      <td>EE. UU.</td>\n",
       "      <td>NaN</td>\n",
       "    </tr>\n",
       "  </tbody>\n",
       "</table>\n",
       "</div>"
      ],
      "text/plain": [
       "     Customer Id Customer State Customer Country Customer State New\n",
       "5            547             MD          EE. UU.                NaN\n",
       "87          5397             MD          EE. UU.                NaN\n",
       "92          5640             MD          EE. UU.                NaN\n",
       "183        12113             MD          EE. UU.                NaN\n",
       "186        12286             MD          EE. UU.                NaN"
      ]
     },
     "execution_count": 110,
     "metadata": {},
     "output_type": "execute_result"
    }
   ],
   "source": [
    "# Answer Q7 \n",
    "\n",
    "# 1. Find rows with missing values\n",
    "data_customer.loc[data_customer[\"Customer State New\"].isna()==True]"
   ]
  },
  {
   "cell_type": "code",
   "execution_count": 111,
   "metadata": {
    "tags": []
   },
   "outputs": [],
   "source": [
    "# Answer Q7 \n",
    "\n",
    "# 2. Replace missing values with full state name \"Maryland\"\n",
    "data_customer[\"Customer State New\"] = data_customer[\"Customer State New\"].fillna(\"Maryland\")\n",
    "\n",
    "# 3. Drop the Customer State column\n",
    "data_customer.drop(columns=[\"Customer State\"],inplace=True)"
   ]
  },
  {
   "cell_type": "markdown",
   "metadata": {},
   "source": [
    "<br>\n",
    "\n",
    "**<font size=4>The following questions will use both dataframes.</font>**"
   ]
  },
  {
   "cell_type": "markdown",
   "metadata": {
    "id": "HV4xy5kDbUm1"
   },
   "source": [
    "<br>\n",
    "\n",
    "<font color='#023F7C' size=4>**Question 8 📝**</font><br>\n",
    "**Get the customer information from `data_customer` to `data_invoice` by merging both dataframes.** <br>\n",
    "**You can call the new merged dataframe `data_merge`.**\n",
    "\n",
    "**Hint**: Some customers in `data_customer` don't appear in the `data_invoice` dataframe. <br>\n",
    "Select the right merging method that only keeps the customers present in the invoice table.\n"
   ]
  },
  {
   "cell_type": "code",
   "execution_count": 112,
   "metadata": {
    "tags": []
   },
   "outputs": [],
   "source": [
    "# Answer Q8\n",
    "data_merge = data_invoice.merge(data_customer, on='Customer Id', how='left')"
   ]
  },
  {
   "cell_type": "markdown",
   "metadata": {
    "id": "LYrWrAHVtrVZ"
   },
   "source": [
    "<br>\n",
    "\n",
    "<font color='#023F7C' size=4>**Question 9 📝**</font><br>\n",
    "\n",
    "1. **Find the State with the highest sales in Nike products** \n",
    "2. **Use a list comprehension that finds the state with the highest sales for every brand** \n",
    "3. **Create a dictionary with keys as the brand and values as the top state.** \n",
    "\n",
    "**Hint**: Use `zip()` to create a python dictionary from two lists.\n"
   ]
  },
  {
   "cell_type": "code",
   "execution_count": 113,
   "metadata": {
    "tags": []
   },
   "outputs": [
    {
     "data": {
      "text/plain": [
       "'Washington'"
      ]
     },
     "execution_count": 113,
     "metadata": {},
     "output_type": "execute_result"
    }
   ],
   "source": [
    "# Answer Q9 \n",
    "\n",
    "# 1. Top state for Nike\n",
    "sales_state_product = data_merge[[\"Product Price\",\"Product Brand\",\"Customer State New\"]].groupby([\"Customer State New\",\"Product Brand\"]).mean().reset_index()\n",
    "sales_state_product.loc[sales_state_product[\"Product Brand\"]==\"Nike\"].max()[\"Customer State New\"]"
   ]
  },
  {
   "cell_type": "code",
   "execution_count": 114,
   "metadata": {
    "tags": []
   },
   "outputs": [
    {
     "data": {
      "text/plain": [
       "['Washington', 'Texas', 'Utah', 'Utah', 'Texas', 'Washington', 'Utah']"
      ]
     },
     "execution_count": 114,
     "metadata": {},
     "output_type": "execute_result"
    }
   ],
   "source": [
    "# 2. Top state for every brand\n",
    "top_states = [sales_state_product.loc[sales_state_product[\"Product Brand\"]==b].max()[\"Customer State New\"] for b in brand_names]\n",
    "top_states"
   ]
  },
  {
   "cell_type": "code",
   "execution_count": 115,
   "metadata": {
    "tags": []
   },
   "outputs": [
    {
     "data": {
      "text/plain": [
       "{'Nike': 'Washington',\n",
       " 'Armour': 'Texas',\n",
       " 'Pelican': 'Utah',\n",
       " 'Field': 'Utah',\n",
       " 'Diamondback': 'Texas',\n",
       " 'Fitness': 'Washington',\n",
       " \"O'Brien\": 'Utah'}"
      ]
     },
     "execution_count": 115,
     "metadata": {},
     "output_type": "execute_result"
    }
   ],
   "source": [
    "# 3. Python dictionary \n",
    "dict(zip(brand_names, top_states))"
   ]
  },
  {
   "cell_type": "code",
   "execution_count": null,
   "metadata": {},
   "outputs": [],
   "source": []
  }
 ],
 "metadata": {
  "colab": {
   "provenance": [],
   "toc_visible": true
  },
  "kernelspec": {
   "display_name": "Python 3 (ipykernel)",
   "language": "python",
   "name": "python3"
  },
  "language_info": {
   "codemirror_mode": {
    "name": "ipython",
    "version": 3
   },
   "file_extension": ".py",
   "mimetype": "text/x-python",
   "name": "python",
   "nbconvert_exporter": "python",
   "pygments_lexer": "ipython3",
   "version": "3.10.12"
  }
 },
 "nbformat": 4,
 "nbformat_minor": 4
}
